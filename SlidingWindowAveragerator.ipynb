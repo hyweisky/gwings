{
  "nbformat": 4,
  "nbformat_minor": 0,
  "metadata": {
    "colab": {
      "name": "Untitled1.ipynb",
      "provenance": [],
      "collapsed_sections": [],
      "authorship_tag": "ABX9TyPOFRCuVv77QjVfPZBccI5E",
      "include_colab_link": true
    },
    "kernelspec": {
      "name": "python3",
      "display_name": "Python 3"
    }
  },
  "cells": [
    {
      "cell_type": "markdown",
      "metadata": {
        "id": "view-in-github",
        "colab_type": "text"
      },
      "source": [
        "<a href=\"https://colab.research.google.com/github/hyweisky/gwings/blob/master/SlidingWindowAveragerator.ipynb\" target=\"_parent\"><img src=\"https://colab.research.google.com/assets/colab-badge.svg\" alt=\"Open In Colab\"/></a>"
      ]
    },
    {
      "cell_type": "code",
      "metadata": {
        "id": "XuMZh5N5vkgW"
      },
      "source": [
        "import numpy as np\r\n",
        "from PIL import Image\r\n",
        "import requests\r\n",
        "from zipfile import ZipFile\r\n",
        "from io import BytesIO\r\n",
        "import matplotlib.pyplot as plt\r\n"
      ],
      "execution_count": null,
      "outputs": []
    },
    {
      "cell_type": "code",
      "metadata": {
        "id": "1zy0GgL9vtXv"
      },
      "source": [
        "class SlidingWindowAveragerator(object):\r\n",
        "\t### YOUR CODE HERE\r\n",
        "\tdef __init__(self,w_size):\r\n",
        "\t\tself.size=w_size\r\n",
        "\t\tself.n=0\r\n",
        "\t\tself.xs=[]#存放所有的数\r\n",
        "\t\tself.sum_all=0 #所有数的和\r\n",
        "\t\tself.sum_n=[] #存放前n个数的和\r\n",
        "\t\tself.sum_sq_n=[] #存放前n个数的平方和\r\n",
        "\t\tself.sum_size=0 #最近size个数的和=所有数的和减去前n-size个数的和\r\n",
        "\t\tself.sum_sq_size=0 #最近size个数的平方和=所有数的平方和减去前n-size个数的平方和\r\n",
        "\t\tself.total=0\t#参与计算平均数和方差的数的总个数，等于n或size\r\n",
        "\t\tself.sum_x_sq=0 #所有数的平方和\r\n",
        "\tdef add(self,x):\r\n",
        "\t\tself.xs.append(x)\r\n",
        "\t\tself.sum_all+=x\r\n",
        "\t\tself.sum_x_sq+=x*x\r\n",
        "\t\tself.n+=1\r\n",
        "\t\tself.sum_n.append(self.sum_all)\r\n",
        "\t\tself.sum_sq_n.append(self.sum_x_sq)\r\n",
        "\t\tif self.n>self.size:\r\n",
        "\t\t\tself.sum_size=self.sum_all-self.sum_n[self.n-self.size-1]\r\n",
        "\t\t\tself.sum_sq_size=self.sum_x_sq-self.sum_sq_n[self.n-self.size-1]\r\n",
        "\t\t\tself.total=self.size\r\n",
        "\t\telse:\r\n",
        "\t\t\tself.sum_size=self.sum_all\r\n",
        "\t\t\tself.sum_sq_size=self.sum_x_sq\r\n",
        "\t\t\tself.total=self.n\r\n",
        "\t@property\r\n",
        "\tdef avg(self):\r\n",
        "\t\treturn self.sum_size/self.total\r\n",
        "\t@property\r\n",
        "\tdef std(self):\r\n",
        "\t\tmu=self.avg\r\n",
        "\t\treturn np.sqrt(self.sum_sq_size/self.total-mu*mu)\r\n"
      ],
      "execution_count": null,
      "outputs": []
    },
    {
      "cell_type": "code",
      "metadata": {
        "id": "E4YR6KnuvzX6"
      },
      "source": [
        "\r\n"
      ],
      "execution_count": null,
      "outputs": []
    },
    {
      "cell_type": "code",
      "metadata": {
        "id": "6Xgr4Nhgv5a9"
      },
      "source": [
        "class CleanData(object):\r\n",
        "\tdef __init__(self,discount_factor):\r\n",
        "\t\tself.a=DiscountedAveragerator(discount_factor)\r\n",
        "\t\r\n",
        "\r\n",
        "\tdef filter(self,x,num_stdevs=2.):\r\n",
        "\t\tself.a.add(x)\r\n",
        "\t\tstd=self.a.std\r\n",
        "\t\trun_avg=self.a.avg\r\n",
        "\t\treturn x if run_avg-num_stdevs*std<x<run_avg+num_stdevs*std else run_avg\r\n"
      ],
      "execution_count": null,
      "outputs": []
    },
    {
      "cell_type": "code",
      "metadata": {
        "id": "XDkFAbnRv9ud"
      },
      "source": [
        "class MotionDetection(object):\r\n",
        "\tdef __init__(self,num_sigmas=4,discount=0.96):\r\n",
        "\t\t'''\r\n",
        "\t\t@param num_sigmas:\r\n",
        "\t\t@param discount:dicount factor for the averagerator\r\n",
        "\t\t'''\r\n",
        "\t\tself.discount=discount\r\n",
        "\t\tself.num_sigmas=num_sigmas\r\n",
        "\r\n",
        "\tdef detect_motion(self,img):\r\n",
        "\t\t'''\r\n",
        "\t\t@param img:h*w*3 image,是给定高度h，宽度w，3通道的3维数组：h*w*3\r\n",
        "\t\t@return an h*w boolean matrix.如果当前元素的颜色值：与四个元素的颜色值有偏离，\r\n",
        "\t\t则认为检测到了motion\r\n",
        "\t\t程序则对img三维矩阵中的第3维颜色值使用DiscountedAveragerator进行计算，\r\n",
        "\t\t然后把每个像素值按【u-k*teta，u-k*teta】\r\n",
        "\t\t看是否超过了此范围，若是，则认为发生了偏离\r\n",
        "\t\t'''\r\n",
        "\t\th=img.shape[0]\r\n",
        "\t\tw=img.shape[1]\r\n",
        "\t\tc=img.shape[2]\r\n",
        "\t\tx=np.ones([h,w,c])*0.96\r\n",
        "\t\tg=DiscountedAveragerator(x)\r\n",
        "\t\tg.add(img[:,:,0:1])\r\n",
        "\t\tg.add(img[:,:,1:2])\r\n",
        "\t\tg.add(img[:,:,-1:])\r\n",
        "\t\tavgs,stds=g.avg,g.std\r\n",
        "\t\taa=img>avgs+self.num_sigmas*stds\r\n",
        "\t\tbb=img<avgs-self.num_sigmas*stds\r\n",
        "\t\tresult=np.max(np.logical_or(aa,bb),axis=2)\r\n",
        "\t\treturn result"
      ],
      "execution_count": null,
      "outputs": []
    },
    {
      "cell_type": "code",
      "metadata": {
        "id": "pc8p71jdwD9j"
      },
      "source": [
        "#start：获取测试图片数据：放到一个cell中运行\r\n",
        "from PIL import Image\r\n",
        "import requests\r\n",
        "from zipfile import ZipFile\r\n",
        "from io import BytesIO\r\n",
        "import matplotlib.pyplot as plt\r\n",
        "#Gets the zip file\r\n",
        "ZIP_URL=\"https://storage.googleapis.com/lucadealfaro-share/GardenSequence.zip\"\r\n",
        "r=requests.get(ZIP_URL)\r\n",
        "# List of images\r\n",
        "images_as_arrays=[]\r\n",
        "# Makes a file object of the result\r\n",
        "with ZipFile(BytesIO(r.content)) as myzip:\r\n",
        "\tfor fn in myzip.namelist():\r\n",
        "\t\twith myzip.open(fn) as my_image_file:\r\n",
        "\t\t\timg=Image.open(my_image_file)\r\n",
        "\t\t\timages_as_arrays.append(np.array(img).astype(np.float32))\r\n"
      ],
      "execution_count": null,
      "outputs": []
    },
    {
      "cell_type": "code",
      "metadata": {
        "id": "xSvbyQrPwMLe"
      },
      "source": [
        "#测试获取到的图片数据\r\n",
        "print(images_as_arrays[0].shape)\r\n",
        "a=DiscountedAveragerator(0.96)\r\n",
        "img=images_as_arrays[10]\r\n",
        "print(img)\r\n",
        "print(img[0][0])\r\n",
        "h=img.shape[0]\r\n",
        "w=img.shape[1]\r\n",
        "c=img.shape[2]\r\n",
        "print(h,w,c)\r\n",
        "# a.add(img)\r\n",
        "# # print(\"min:\",a.avg-4*a.std,\"max:\",a.avg+4*a.std)\r\n",
        "# # print(\"avg:\",a.avg,\"std\",a.std)\r\n",
        "# aa=img>a.avg+4*a.std\r\n",
        "# bb=img<a.avg-4*a.std\r\n",
        "# print(aa)\r\n",
        "\r\n",
        "# cc=np.logical_or(aa,bb)\r\n",
        "# dd=np.max(cc,axis=2)\r\n",
        "# print(dd)\r\n",
        "# plt.imshow(bb,cmap=\"gnuplot\")\r\n",
        "# plt.colorbar()\r\n",
        "# plt.show()\r\n",
        "\r\n",
        "\r\n"
      ],
      "execution_count": null,
      "outputs": []
    },
    {
      "cell_type": "code",
      "metadata": {
        "id": "IdxHYhoLwQNG"
      },
      "source": [
        "#定义方法\r\n",
        "def detect_motion(image_list, num_sigmas=4., discount=0.96):\r\n",
        "    \"\"\"Takes as input:\r\n",
        "    @param image_list: a list of images, all of the same size.\r\n",
        "    @param num_sigmas: a parameter specifying how many standard deviations a\r\n",
        "        pixel should be to count as detected motion.\r\n",
        "    @param discount: the discount factor for the averagerator.\r\n",
        "    \"\"\"\r\n",
        "    detector = MotionDetection(num_sigmas=num_sigmas, discount=discount)\r\n",
        "    detected_motion = []\r\n",
        "    for i, img in enumerate(image_list):\r\n",
        "        motion = detector.detect_motion(img)\r\n",
        "        # print(np.sum(motion))\r\n",
        "        if np.sum(motion) > 500:\r\n",
        "            detected_motion.append((i, motion))\r\n",
        "    return detected_motion\r\n"
      ],
      "execution_count": null,
      "outputs": []
    },
    {
      "cell_type": "code",
      "metadata": {
        "colab": {
          "base_uri": "https://localhost:8080/"
        },
        "id": "n_JaGaFfwU9A",
        "outputId": "4f5ca76f-6381-4667-d60f-67fc2c76f28f"
      },
      "source": [
        "# Compute the motion detections.\r\n",
        "motions = detect_motion(images_as_arrays[:60])\r\n",
        "#print(images_as_arrays[0])\r\n",
        "# print(\"motions.shape\",motions)\r\n",
        "motion_idxs = [i for i, _ in motions]\r\n",
        "print(motion_idxs)\r\n",
        "#assert motion_idxs == [1, 10, 47, 48, 49, 57, 58, 59]\r\n",
        "# assert np.sum(motions[6][1]) == 1199\r\n",
        "print(np.sum(motions[0][1]))\r\n",
        "\r\n",
        "# print(np.sum(motions[6][1]))"
      ],
      "execution_count": null,
      "outputs": [
        {
          "output_type": "stream",
          "text": [
            "[2, 3, 4, 6, 8, 10, 12, 17, 19, 20, 21, 22, 23, 24, 26, 27, 28, 30, 31, 32, 33, 34, 36, 38, 41, 42, 43, 44, 45, 47, 49, 50, 56, 57]\n",
            "586\n"
          ],
          "name": "stdout"
        }
      ]
    },
    {
      "cell_type": "code",
      "metadata": {
        "id": "3uqqgaeUwZ2s"
      },
      "source": [
        "img=np.random.random((4,5,3))\r\n",
        "h=img.shape[0]\r\n",
        "w=img.shape[1]\r\n",
        "chanel=img.shape[2]\r\n",
        "result=np.zeros([h,w],dtype=bool)\r\n",
        "print(\"result:\",result)\r\n",
        "print(\"h,w,c\",h,w,chanel)\r\n",
        "for i in range(h):\r\n",
        "  for j in range(w):\r\n",
        "    a=DiscountedAveragerator(0.9)\r\n",
        "    for c in range(chanel):\r\n",
        "      #print(img[i][j][c],\"\\n\")\r\n",
        "      a.add(img[i][j][c])\r\n",
        "    #print(\"[a-k*g,a+kg]\",a.avg-4*a.std,a.avg+4*a.std)\r\n",
        "    result[i][j]=False if a.avg+4*a.std>img[i][j][c]>a.avg-4*a.std else True\r\n",
        "    print(\"result===\",result)\r\n"
      ],
      "execution_count": null,
      "outputs": []
    },
    {
      "cell_type": "code",
      "metadata": {
        "id": "di8U5pfM3xuQ"
      },
      "source": [
        "img=np.random.random((4,5,3))\r\n",
        "img2=np.random.random((4,5,3))\r\n",
        "print(\"a:\",img,'\\n')\r\n",
        "print(\"b:\",img2)\r\n",
        "print(\"a>b=\",img>img2)"
      ],
      "execution_count": null,
      "outputs": []
    },
    {
      "cell_type": "code",
      "metadata": {
        "id": "oD63r_Dw60os"
      },
      "source": [
        "a=np.random.random((1,5,3))\r\n",
        "aa=a>0.8\r\n",
        "bb=a<0.2\r\n",
        "print(\"a:\",a)\r\n",
        "print(\"aa shape：\",aa)\r\n",
        "b=np.max(aa,axis=2)\r\n",
        "c=np.max(bb,axis=2)\r\n",
        "print(\"b shape：\",b.shape)\r\n",
        "print(\"b:\",b)\r\n",
        "print(\"c:\",c)\r\n",
        "print(\"m:\",np.logical_or(b,c))\r\n"
      ],
      "execution_count": null,
      "outputs": []
    },
    {
      "cell_type": "code",
      "metadata": {
        "id": "gYlVxQff-OSx"
      },
      "source": [
        "img=images_as_arrays[1]\r\n",
        "# print(img)\r\n",
        "x=np.ones([1,1,3])*0.96\r\n",
        "print(x.shape)\r\n",
        "g=DiscountedAveragerator(x)\r\n",
        "g.add(img)\r\n",
        "a=g.avg\r\n",
        "# h=img.shape[0]\r\n",
        "# w=img.shape[1]\r\n",
        "# c=img.shape[2]\r\n",
        "# r=np.zeros([h,w,c],dtype=bool)\r\n",
        "# s=np.zeros([h,w,c],dtype=bool)\r\n",
        "# for i in range(h):\r\n",
        "#   for j in range(w):\r\n",
        "#     g=DiscountedAveragerator(0.96)\r\n",
        "#     for k in range(c):\r\n",
        "#       g.add(img[i][j][k])\r\n",
        "#       # print(\"value:\",img[i][j][k])\r\n",
        "#     # print(\"avg,and std:\",g.avg,g.std)\r\n",
        "#     r[i][j]=img[i][j]>g.avg+4*g.std\r\n",
        "#     s[i][j]=img[i][j]<g.avg-4*g.std\r\n",
        "#     if np.sum(s[i][j])+np.sum(r[i][j])>0:\r\n",
        "#       print(\"结果：\",img[i][j],r[i][j],g.avg+4*g.std,s[i][j],g.avg-4*g.std)\r\n",
        "# result=np.max(np.logical_or(r,s),axis=2)\r\n",
        "# print(np.sum(result))\r\n"
      ],
      "execution_count": null,
      "outputs": []
    },
    {
      "cell_type": "code",
      "metadata": {
        "id": "mdN962xGA2FD"
      },
      "source": [
        "img=images_as_arrays[1]\r\n",
        "# print(img[0][0])\r\n",
        "# print(img)\r\n",
        "x=np.ones([480,640,3])*0.96\r\n",
        "g=DiscountedAveragerator(x)\r\n",
        "g.add(img[:,:,0:1])\r\n",
        "g.add(img[:,:,1:2])\r\n",
        "g.add(img[:,:,-1:])\r\n",
        "g.avg"
      ],
      "execution_count": null,
      "outputs": []
    },
    {
      "cell_type": "code",
      "metadata": {
        "id": "D8at_f497ppT"
      },
      "source": [
        "class DiscountedAveragerator:\r\n",
        "\tdef __init__(self,alpha):\r\n",
        "\t\tself.alpha=alpha\r\n",
        "\t\tself.w=0.\r\n",
        "\t\tself.sum_x=0.\r\n",
        "\t\tself.sum_x_sq=0.\r\n",
        "\tdef add(self,x):\r\n",
        "\t\t# print(\"x:\",x)\r\n",
        "\t\tself.w=self.alpha*self.w+1.\r\n",
        "\t\tself.sum_x=self.alpha*self.sum_x+x\r\n",
        "\t\tself.sum_x_sq=self.alpha*self.sum_x_sq+x*x\r\n",
        "    \r\n",
        "\t@property\r\n",
        "\tdef avg(self):\r\n",
        "\t\t# print(\"sum_x=%,w=%\",self.sum_x,self.w)\r\n",
        "\t\treturn self.sum_x/self.w\r\n",
        "\t@property\r\n",
        "\tdef std(self):\r\n",
        "\t\tmu=self.avg\r\n",
        "\t\treturn np.sqrt(np.maximum(0.,self.sum_x_sq/self.w-mu*mu))"
      ],
      "execution_count": null,
      "outputs": []
    },
    {
      "cell_type": "code",
      "metadata": {
        "id": "-NBVgFvssZ8u",
        "colab": {
          "base_uri": "https://localhost:8080/"
        },
        "outputId": "38f9e151-1106-44c6-d73d-b3358b528316"
      },
      "source": [
        "a=np.ones([3,])\r\n",
        "b=np.ones([3,])*0.96\r\n",
        "print(a*b)"
      ],
      "execution_count": null,
      "outputs": [
        {
          "output_type": "stream",
          "text": [
            "[0.96 0.96 0.96]\n"
          ],
          "name": "stdout"
        }
      ]
    },
    {
      "cell_type": "code",
      "metadata": {
        "id": "pyu0I2sm9afB"
      },
      "source": [
        ""
      ],
      "execution_count": null,
      "outputs": []
    }
  ]
}