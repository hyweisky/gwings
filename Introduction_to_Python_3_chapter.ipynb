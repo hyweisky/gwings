{
  "nbformat": 4,
  "nbformat_minor": 0,
  "metadata": {
    "colab": {
      "name": "Introduction_to_Python_3_chapter.ipynb",
      "provenance": [],
      "collapsed_sections": [
        "0ZEC4V3pjalH",
        "FrOuZWcdbkyh",
        "23NhvjOzSlu4",
        "Zb4bybUiS3qz",
        "At7-_WM6bn6A",
        "xFAS-L5uZtff",
        "IyTNBT8sh-UE",
        "8USdvrcJvk9n",
        "PNT4q5Ks7v79",
        "xNpgmyOd0gHR",
        "iPp6yJhCApcR",
        "vDyUpa7_L54U",
        "dRtVOqsBC4AJ",
        "v3CGE72REsXJ"
      ],
      "include_colab_link": true
    },
    "kernelspec": {
      "name": "python3",
      "display_name": "Python 3"
    }
  },
  "cells": [
    {
      "cell_type": "markdown",
      "metadata": {
        "id": "view-in-github",
        "colab_type": "text"
      },
      "source": [
        "<a href=\"https://colab.research.google.com/github/hyweisky/gwings/blob/master/Introduction_to_Python_3_chapter.ipynb\" target=\"_parent\"><img src=\"https://colab.research.google.com/assets/colab-badge.svg\" alt=\"Open In Colab\"/></a>"
      ]
    },
    {
      "cell_type": "markdown",
      "metadata": {
        "id": "1Ycy34VcX4lu"
      },
      "source": [
        "# Introduction to Python 3\n",
        "## Luca de Alfaro\n",
        "Copyright Luca de Alfaro, 2018-19.  CC-BY-NC License.\n",
        "\n",
        "There is also an [Introduction to Python 2.7](https://colab.research.google.com/drive/1eaO-oUwfOh7DysGI_8HkXI5Bdi7DzSPt) available."
      ]
    },
    {
      "cell_type": "markdown",
      "metadata": {
        "id": "6ce0413c64777f3d"
      },
      "source": [
        "\n",
        "Prepared on: Thu Jan  7 15:06:33 2021\n",
        "\n",
        "This is a book chapter; it is not a homework assignment.  \n",
        "Do not submit it as a solution to a homework assignment; you would receive no credit.\n"
      ]
    },
    {
      "cell_type": "markdown",
      "metadata": {
        "id": "X5VBxq824B5P"
      },
      "source": [
        "**Do you know** that you can make a copy of this notebook and play with it?  Just click on \"File > Save as a copy in Drive\" and then go play with your own copy! \n",
        "\n",
        "If you have feedback, you can contact me at luca@ucsc.edu"
      ]
    },
    {
      "cell_type": "markdown",
      "metadata": {
        "id": "0ZEC4V3pjalH"
      },
      "source": [
        "## Integers, floats, strings, booleans, and ... None!"
      ]
    },
    {
      "cell_type": "code",
      "metadata": {
        "id": "9DzUH9EWXmvR"
      },
      "source": [
        "# In python there are numbers, which can be integer or float.\n",
        "x = 1 # int\n",
        "y = 1. # float\n"
      ],
      "execution_count": 1,
      "outputs": []
    },
    {
      "cell_type": "code",
      "metadata": {
        "id": "vKMUHQtJ93DU",
        "colab": {
          "base_uri": "https://localhost:8080/"
        },
        "outputId": "57adb98f-2a48-4047-da56-43d81a4d1a3e"
      },
      "source": [
        "# You can sum, multiply, subtract numbers, and the result is integer iff\n",
        "# both operands are integers.\n",
        "print(x + y)\n",
        "print(x + 1)\n"
      ],
      "execution_count": 2,
      "outputs": [
        {
          "output_type": "stream",
          "text": [
            "2.0\n",
            "2\n"
          ],
          "name": "stdout"
        }
      ]
    },
    {
      "cell_type": "code",
      "metadata": {
        "id": "1ypAUKH8YfAN",
        "colab": {
          "base_uri": "https://localhost:8080/"
        },
        "outputId": "a8210ef7-e5d1-4904-f289-5eaf1def8bf9"
      },
      "source": [
        "# In Python 3, division between integers generates a float.\n",
        "# This remedies a long-standing \"trap\" in Python 2, where 1 / 2 = 0, because\n",
        "# division between integers returned an integer: the quotient.\n",
        "x/2\n"
      ],
      "execution_count": 3,
      "outputs": [
        {
          "output_type": "execute_result",
          "data": {
            "text/plain": [
              "0.5"
            ]
          },
          "metadata": {
            "tags": []
          },
          "execution_count": 3
        }
      ]
    },
    {
      "cell_type": "code",
      "metadata": {
        "id": "8GHf-9dH9oFu",
        "colab": {
          "base_uri": "https://localhost:8080/"
        },
        "outputId": "32692e0c-b7a7-4ccd-e796-3897b77f12a4"
      },
      "source": [
        "# In Python 3, integer division (quotient) is written //,\n",
        "# and remainder is written %\n",
        "print (7 // 3)\n",
        "print (7 % 3)\n"
      ],
      "execution_count": 4,
      "outputs": [
        {
          "output_type": "stream",
          "text": [
            "2\n",
            "1\n"
          ],
          "name": "stdout"
        }
      ]
    },
    {
      "cell_type": "code",
      "metadata": {
        "id": "1jV22BHoYt8F",
        "colab": {
          "base_uri": "https://localhost:8080/"
        },
        "outputId": "b686a452-865e-4a3e-e04e-3285b562a8c6"
      },
      "source": [
        "# There are also strings in Python.  They can be delimited with either \" or '.\n",
        "s = 'A string'\n",
        "t = \"It's nice to be able to choose the delimiters\"\n",
        "print(t)\n"
      ],
      "execution_count": 5,
      "outputs": [
        {
          "output_type": "stream",
          "text": [
            "It's nice to be able to choose the delimiters\n"
          ],
          "name": "stdout"
        }
      ]
    },
    {
      "cell_type": "code",
      "metadata": {
        "id": "V2iquQzZjGAL",
        "colab": {
          "base_uri": "https://localhost:8080/"
        },
        "outputId": "d1fb49b0-c55c-49d3-a1f2-ef925c2470a7"
      },
      "source": [
        "# The other basic data type is booleans.  They are 'True' and 'False'.\n",
        "b = True\n",
        "print(not b)\n"
      ],
      "execution_count": 6,
      "outputs": [
        {
          "output_type": "stream",
          "text": [
            "False\n"
          ],
          "name": "stdout"
        }
      ]
    },
    {
      "cell_type": "code",
      "metadata": {
        "id": "tYki8KdKjNUc",
        "colab": {
          "base_uri": "https://localhost:8080/"
        },
        "outputId": "ff3fc0c0-587a-47ef-9ddd-b5f2d6930216"
      },
      "source": [
        "# Relational operators, obviously enough, have boolean result:\n",
        "print(4 < 8)\n",
        "print(4 == 8)\n"
      ],
      "execution_count": 7,
      "outputs": [
        {
          "output_type": "stream",
          "text": [
            "True\n",
            "False\n"
          ],
          "name": "stdout"
        }
      ]
    },
    {
      "cell_type": "code",
      "metadata": {
        "id": "fJNJLuAmjoZ0",
        "colab": {
          "base_uri": "https://localhost:8080/"
        },
        "outputId": "a0c7fb51-7f36-4473-a997-e686991028c0"
      },
      "source": [
        "# There's a special value in Python that means, no value.  It's called None.\n",
        "c = None\n",
        "print(c)\n"
      ],
      "execution_count": 8,
      "outputs": [
        {
          "output_type": "stream",
          "text": [
            "None\n"
          ],
          "name": "stdout"
        }
      ]
    },
    {
      "cell_type": "markdown",
      "metadata": {
        "id": "SA22FKhWnkxB"
      },
      "source": [
        "I know it seems funny to have a value for denoting no value, but it turns out \n",
        "to be incredibly useful.  For instance, it is very often the case that you \n",
        "want to return some result, and have the option to say that there is no \n",
        "new result. None is also a value that is very commonly used to denote that\n",
        "an option is not used, or that a variable has not been initialized. \n",
        "We will see more examples of it later.  \n",
        "In programming languages, None is more! "
      ]
    },
    {
      "cell_type": "code",
      "metadata": {
        "id": "M5UsSCiR-G1r",
        "colab": {
          "base_uri": "https://localhost:8080/"
        },
        "outputId": "b42f9876-f876-4f67-835d-3a4a496b57b3"
      },
      "source": [
        "# The operators +, -, *, /, can also be used with the following shorthand:\n",
        "x = 2\n",
        "x = x + 1\n",
        "x += 1 # Same as above\n",
        "print(x)\n",
        "x *= 3 # Do I need to explain this?\n",
        "print(x)\n"
      ],
      "execution_count": 9,
      "outputs": [
        {
          "output_type": "stream",
          "text": [
            "4\n",
            "12\n"
          ],
          "name": "stdout"
        }
      ]
    },
    {
      "cell_type": "markdown",
      "metadata": {
        "id": "3bix60K6SR1h"
      },
      "source": [
        "I know it seems funny to have a value for denoting no value, but it turns out \n",
        "to be incredibly useful.  For instance, it is very often the case that you \n",
        "want to return some result, and have the option to say that there is no \n",
        "new result. None is also a value that is very commonly used to denote that\n",
        "an option is not used, or that a variable has not been initialized. \n",
        "We will see more examples of it later.  \n",
        "In programming languages, None is more! "
      ]
    },
    {
      "cell_type": "markdown",
      "metadata": {
        "id": "TA461_UgZxs7"
      },
      "source": [
        "## Lists and tuples"
      ]
    },
    {
      "cell_type": "markdown",
      "metadata": {
        "id": "FrOuZWcdbkyh"
      },
      "source": [
        "### Lists"
      ]
    },
    {
      "cell_type": "code",
      "metadata": {
        "id": "_DZtN4diZ3CG",
        "outputId": "1728500d-e9fb-46ef-9f26-77c433ef8bf4"
      },
      "source": [
        "# Lists are one of the basic data types in Python.\n",
        "l = ['a', 'b', 'c']\n",
        "print(l)\n"
      ],
      "execution_count": null,
      "outputs": [
        {
          "output_type": "stream",
          "text": [
            "['a', 'b', 'c']\n"
          ],
          "name": "stdout"
        }
      ]
    },
    {
      "cell_type": "code",
      "metadata": {
        "id": "nIIfkql1aShY",
        "outputId": "e3d49699-3199-434e-ef47-b79862c80a3f"
      },
      "source": [
        "l2 = ['cat', 'dog', 'bird']\n",
        "print(l2[0])\n",
        "print(l2[1])\n"
      ],
      "execution_count": null,
      "outputs": [
        {
          "output_type": "stream",
          "text": [
            "cat\n",
            "dog\n"
          ],
          "name": "stdout"
        }
      ]
    },
    {
      "cell_type": "markdown",
      "metadata": {
        "id": "23NhvjOzSlu4"
      },
      "source": [
        "### List slicing"
      ]
    },
    {
      "cell_type": "code",
      "metadata": {
        "id": "Tjb1t38Maxg6",
        "outputId": "7e28f802-9722-4b45-e43c-5be679bee011"
      },
      "source": [
        "# You can 'slice' (yeah, that's a technical term) the beginning and end of a list:\n",
        "l = ['cat', 'dog', 'bird', 'fish', 'ant', 'fly']\n",
        "l[:3] # Till element 3, excluded\n"
      ],
      "execution_count": null,
      "outputs": [
        {
          "output_type": "execute_result",
          "data": {
            "text/plain": [
              "['cat', 'dog', 'bird']"
            ]
          },
          "metadata": {
            "tags": []
          },
          "execution_count": 12
        }
      ]
    },
    {
      "cell_type": "code",
      "metadata": {
        "id": "9NM7TvV8bH1E",
        "outputId": "3366dd32-eeb5-4b1e-a453-92c1af643384"
      },
      "source": [
        "l[3:] # From element 3 onwards\n"
      ],
      "execution_count": null,
      "outputs": [
        {
          "output_type": "execute_result",
          "data": {
            "text/plain": [
              "['fish', 'ant', 'fly']"
            ]
          },
          "metadata": {
            "tags": []
          },
          "execution_count": 13
        }
      ]
    },
    {
      "cell_type": "code",
      "metadata": {
        "id": "J34q3HkQbL8O",
        "outputId": "14766d29-3808-4583-9bfe-0594a1d779a0"
      },
      "source": [
        "print(l[1:3]) # From element 1 included, to element 3 excluded\n"
      ],
      "execution_count": null,
      "outputs": [
        {
          "output_type": "stream",
          "text": [
            "['dog', 'bird']\n"
          ],
          "name": "stdout"
        }
      ]
    },
    {
      "cell_type": "code",
      "metadata": {
        "id": "NWjv2RR6bR7D",
        "outputId": "77f0e47b-610b-4df3-e6db-3ee4878a2c41"
      },
      "source": [
        "# If you use negative numbers, they count backwards from the end\n",
        "# of the list.  It's weird, but very useful.\n",
        "l[-1] # This is the last element\n"
      ],
      "execution_count": null,
      "outputs": [
        {
          "output_type": "execute_result",
          "data": {
            "application/vnd.google.colaboratory.intrinsic+json": {
              "type": "string"
            },
            "text/plain": [
              "'fly'"
            ]
          },
          "metadata": {
            "tags": []
          },
          "execution_count": 15
        }
      ]
    },
    {
      "cell_type": "code",
      "metadata": {
        "id": "ai9qdyanbbxc",
        "outputId": "30e38c87-eb45-454e-8a83-88e02373e11f"
      },
      "source": [
        "l[-2:] # From the penultimate onwards, so the last two.\n"
      ],
      "execution_count": null,
      "outputs": [
        {
          "output_type": "execute_result",
          "data": {
            "text/plain": [
              "['ant', 'fly']"
            ]
          },
          "metadata": {
            "tags": []
          },
          "execution_count": 16
        }
      ]
    },
    {
      "cell_type": "code",
      "metadata": {
        "id": "MzpoBL7kS9sM",
        "outputId": "243f5c95-4bd3-48f9-9939-8bbe44e310d6"
      },
      "source": [
        "# One particularly nice thing about slicing is that it never generates\n",
        "# errors.  If there's not enough of the list to slice it the way you\n",
        "# want, you will simply get a smaller slice (of course, this means that\n",
        "# the size of the resulting slice is not guaranteed).\n",
        "l = ['a', 'b', 'c', 'd', 'e', 'f']\n",
        "l\n"
      ],
      "execution_count": null,
      "outputs": [
        {
          "output_type": "execute_result",
          "data": {
            "text/plain": [
              "['a', 'b', 'c', 'd', 'e', 'f']"
            ]
          },
          "metadata": {
            "tags": []
          },
          "execution_count": 17
        }
      ]
    },
    {
      "cell_type": "code",
      "metadata": {
        "id": "NvUvIe4nTiFo"
      },
      "source": [
        "# But on the other hand, this does not work.\n",
        "# print(l[-10])\n"
      ],
      "execution_count": null,
      "outputs": []
    },
    {
      "cell_type": "markdown",
      "metadata": {
        "id": "Zb4bybUiS3qz"
      },
      "source": [
        "### List operations"
      ]
    },
    {
      "cell_type": "code",
      "metadata": {
        "id": "oHfOp8ZHbvby",
        "outputId": "fe06cc6f-e865-4a6b-c595-849faf4c9268"
      },
      "source": [
        "# You append an element to a list like so:\n",
        "l.append('spider')\n",
        "l\n"
      ],
      "execution_count": null,
      "outputs": [
        {
          "output_type": "execute_result",
          "data": {
            "text/plain": [
              "['a', 'b', 'c', 'd', 'e', 'f', 'spider']"
            ]
          },
          "metadata": {
            "tags": []
          },
          "execution_count": 19
        }
      ]
    },
    {
      "cell_type": "code",
      "metadata": {
        "id": "QR9hG_KTb4ZK",
        "outputId": "662d147f-a897-4e61-a6c5-3d5901b34e6c"
      },
      "source": [
        "# You can sum two lists.\n",
        "l + [1, 2, 3]\n"
      ],
      "execution_count": null,
      "outputs": [
        {
          "output_type": "execute_result",
          "data": {
            "text/plain": [
              "['a', 'b', 'c', 'd', 'e', 'f', 'spider', 1, 2, 3]"
            ]
          },
          "metadata": {
            "tags": []
          },
          "execution_count": 20
        }
      ]
    },
    {
      "cell_type": "code",
      "metadata": {
        "id": "TvY36vE6cOfT"
      },
      "source": [
        "# And as you can see from above, in Python list elements don't have to be all\n",
        "# of the same type (but of course, you better know what you are doing if you\n",
        "# are mixing types: for instance, if you try to increment all list elements by\n",
        "# 1 forgetting that you have non-numeric types in it, you would get\n",
        "# an error).\n"
      ],
      "execution_count": null,
      "outputs": []
    },
    {
      "cell_type": "code",
      "metadata": {
        "id": "17usDLW8YEgg",
        "outputId": "ef5c4a95-5c68-4c45-ba3d-ba88d9342814"
      },
      "source": [
        "# There are many more list operations.  Among them:\n",
        "# You can 'pop' (retrieve, and remove) an element in any position:\n",
        "x = l.pop(3)\n",
        "print(x)\n",
        "print(l)\n"
      ],
      "execution_count": null,
      "outputs": [
        {
          "output_type": "stream",
          "text": [
            "d\n",
            "['a', 'b', 'c', 'e', 'f', 'spider']\n"
          ],
          "name": "stdout"
        }
      ]
    },
    {
      "cell_type": "code",
      "metadata": {
        "id": "g0LQEbSWYYRM",
        "outputId": "3673d02f-e689-41d4-a925-79527696a919"
      },
      "source": [
        "# You can obtain the reverse of a list:\n",
        "l.reverse()\n",
        "l\n"
      ],
      "execution_count": null,
      "outputs": [
        {
          "output_type": "execute_result",
          "data": {
            "text/plain": [
              "['spider', 'f', 'e', 'c', 'b', 'a']"
            ]
          },
          "metadata": {
            "tags": []
          },
          "execution_count": 23
        }
      ]
    },
    {
      "cell_type": "code",
      "metadata": {
        "id": "Z5HupjJwY9dD",
        "outputId": "2bdc3a57-d0d6-4f58-c808-4a9cc8b18dd2"
      },
      "source": [
        "# And you can sort the list (the sort command has options; see Python docs).\n",
        "l = l + ['cat']\n",
        "l.sort()\n",
        "l\n"
      ],
      "execution_count": null,
      "outputs": [
        {
          "output_type": "execute_result",
          "data": {
            "text/plain": [
              "['a', 'b', 'c', 'cat', 'e', 'f', 'spider']"
            ]
          },
          "metadata": {
            "tags": []
          },
          "execution_count": 24
        }
      ]
    },
    {
      "cell_type": "code",
      "metadata": {
        "id": "qX3ZXVoYcXt8",
        "outputId": "56d10d11-0005-4559-9f49-c1678aa2e4fd"
      },
      "source": [
        "# You can apply one operation to all elements of a list like this.\n",
        "# First, let's notice how to capitalize a string.\n",
        "\"dog\".upper()\n"
      ],
      "execution_count": null,
      "outputs": [
        {
          "output_type": "execute_result",
          "data": {
            "application/vnd.google.colaboratory.intrinsic+json": {
              "type": "string"
            },
            "text/plain": [
              "'DOG'"
            ]
          },
          "metadata": {
            "tags": []
          },
          "execution_count": 25
        }
      ]
    },
    {
      "cell_type": "code",
      "metadata": {
        "id": "Z4F-YGjcdD8U",
        "outputId": "c332dfe8-2932-4bbc-bcea-f1dfc41a0234"
      },
      "source": [
        "# Well, that's kind of too much. What I meant was:\n",
        "\"dog\".capitalize()\n"
      ],
      "execution_count": null,
      "outputs": [
        {
          "output_type": "execute_result",
          "data": {
            "application/vnd.google.colaboratory.intrinsic+json": {
              "type": "string"
            },
            "text/plain": [
              "'Dog'"
            ]
          },
          "metadata": {
            "tags": []
          },
          "execution_count": 26
        }
      ]
    },
    {
      "cell_type": "code",
      "metadata": {
        "id": "6I0VvbnWdLcW",
        "outputId": "27a68cdb-90fd-4a28-de66-1572ebc4acf9"
      },
      "source": [
        "# Ok that's better.  Now, I want to get a list like l, except with the animals capitalized.\n",
        "l_capitalized = [s.capitalize() for s in l]\n",
        "l_capitalized\n"
      ],
      "execution_count": null,
      "outputs": [
        {
          "output_type": "execute_result",
          "data": {
            "text/plain": [
              "['A', 'B', 'C', 'Cat', 'E', 'F', 'Spider']"
            ]
          },
          "metadata": {
            "tags": []
          },
          "execution_count": 27
        }
      ]
    },
    {
      "cell_type": "code",
      "metadata": {
        "id": "anVSvv20FT3W",
        "outputId": "4616706e-72ac-45ac-e894-132ab51c1687"
      },
      "source": [
        "[s.capitalize() for s in l if s.startswith(\"c\")]\n"
      ],
      "execution_count": null,
      "outputs": [
        {
          "output_type": "execute_result",
          "data": {
            "text/plain": [
              "['C', 'Cat']"
            ]
          },
          "metadata": {
            "tags": []
          },
          "execution_count": 28
        }
      ]
    },
    {
      "cell_type": "code",
      "metadata": {
        "id": "Vbeb_TatdWcL"
      },
      "source": [
        "# What's going on?  Basically, in the [ ... ] we are building another list,\n",
        "# and we give the instructions on how to create each element.\n",
        "# And how do we create each element?  We iterate over the list l, \"for s in l\",\n",
        "# and for each of its elements s, we do s.capitalize(), which capitalizes the string.\n",
        "# The [f(x) for x in l] syntax is called a list comprehension.\n"
      ],
      "execution_count": null,
      "outputs": []
    },
    {
      "cell_type": "code",
      "metadata": {
        "id": "uPz_gWlHemaf",
        "outputId": "1adbf599-bf50-4a5e-a984-cee5d45937fa"
      },
      "source": [
        "# You can get the length of a string, or a list, with the len() operator.\n",
        "print(len(l))\n",
        "print(len(l_capitalized))\n",
        "print([len(s) for s in l])\n"
      ],
      "execution_count": null,
      "outputs": [
        {
          "output_type": "stream",
          "text": [
            "7\n",
            "7\n",
            "[1, 1, 1, 3, 1, 1, 6]\n"
          ],
          "name": "stdout"
        }
      ]
    },
    {
      "cell_type": "markdown",
      "metadata": {
        "id": "P7-9n_PTeZEk"
      },
      "source": [
        "See https://docs.python.org/3.7/tutorial/datastructures.html for more list functions."
      ]
    },
    {
      "cell_type": "markdown",
      "metadata": {
        "id": "At7-_WM6bn6A"
      },
      "source": [
        "### Tuples"
      ]
    },
    {
      "cell_type": "code",
      "metadata": {
        "id": "7oy34EaEbrjC",
        "outputId": "a92c8ea5-95f8-47a6-b593-49085b8c8a89"
      },
      "source": [
        "# Tuples are kind of like lists, except they are immutable.\n",
        "# Here are two points in 2-D.\n",
        "p1 = (1., 2.)\n",
        "p2 = (3.1, 3.2)\n",
        "# The useful thing with tuples is that they are easy to take apart.\n",
        "# Whereas a beginner would write\n",
        "x = p1[0]\n",
        "y = p1[1]\n",
        "print (x, y)\n"
      ],
      "execution_count": null,
      "outputs": [
        {
          "output_type": "stream",
          "text": [
            "1.0 2.0\n"
          ],
          "name": "stdout"
        }
      ]
    },
    {
      "cell_type": "code",
      "metadata": {
        "id": "0gfdrkwrfdho",
        "outputId": "2afb9046-ac85-4051-91a2-8ec9458112d9"
      },
      "source": [
        "# anyone with a bit of Python experience would instead write:\n",
        "x, y = p1\n",
        "print(x, y)\n"
      ],
      "execution_count": null,
      "outputs": [
        {
          "output_type": "stream",
          "text": [
            "1.0 2.0\n"
          ],
          "name": "stdout"
        }
      ]
    },
    {
      "cell_type": "code",
      "metadata": {
        "id": "W4loQJ6eflCt",
        "outputId": "f1606709-f0fe-47b8-e7ec-ff44562bec67"
      },
      "source": [
        "# Of course, the above works only if the tuple of variables on the left hand side\n",
        "# is the same length as the tuple on the right hand side!\n",
        "import traceback\n",
        "try:\n",
        "    x, y, z = p2\n",
        "except:\n",
        "    print(traceback.format_exc())\n"
      ],
      "execution_count": null,
      "outputs": [
        {
          "output_type": "stream",
          "text": [
            "Traceback (most recent call last):\n",
            "  File \"<ipython-input-33-2a7051b944ec>\", line 5, in <module>\n",
            "    x, y, z = p2\n",
            "ValueError: not enough values to unpack (expected 3, got 2)\n",
            "\n"
          ],
          "name": "stdout"
        }
      ]
    },
    {
      "cell_type": "code",
      "metadata": {
        "id": "K9VOU24Xfw9G",
        "outputId": "228d8a58-9897-4015-84dc-f3c669cfb0a0"
      },
      "source": [
        "# If you don't care about a component, you can just use _\n",
        "x, _ = p1\n",
        "x\n"
      ],
      "execution_count": null,
      "outputs": [
        {
          "output_type": "execute_result",
          "data": {
            "text/plain": [
              "1.0"
            ]
          },
          "metadata": {
            "tags": []
          },
          "execution_count": 34
        }
      ]
    },
    {
      "cell_type": "markdown",
      "metadata": {
        "id": "xFAS-L5uZtff"
      },
      "source": [
        "## Strings"
      ]
    },
    {
      "cell_type": "code",
      "metadata": {
        "id": "2zNELDI6Y4bi"
      },
      "source": [
        "# Strings can be built using either ' or \" as delimiters.\n",
        "# If you use ', the string can contain \" inside, and vice versa.\n",
        "s = 'A string'\n",
        "t = \"It's nice to be able to choose the delimiters\"\n"
      ],
      "execution_count": null,
      "outputs": []
    },
    {
      "cell_type": "code",
      "metadata": {
        "id": "xVCjndNn9N2f",
        "outputId": "92634b80-4f33-4d56-d12d-1db63b1b89d1"
      },
      "source": [
        "# You can use + to concatenate strings:\n",
        "\n",
        "print(s + \" \" + t)\n"
      ],
      "execution_count": null,
      "outputs": [
        {
          "output_type": "stream",
          "text": [
            "A string It's nice to be able to choose the delimiters\n"
          ],
          "name": "stdout"
        }
      ]
    },
    {
      "cell_type": "code",
      "metadata": {
        "id": "h0vkoGrTZir7",
        "outputId": "09031e02-bbdb-44be-af37-6f161745ac95"
      },
      "source": [
        "# You can split a string according to spaces:\n",
        "l = t.split()\n",
        "print(l)\n"
      ],
      "execution_count": null,
      "outputs": [
        {
          "output_type": "stream",
          "text": [
            "[\"It's\", 'nice', 'to', 'be', 'able', 'to', 'choose', 'the', 'delimiters']\n"
          ],
          "name": "stdout"
        }
      ]
    },
    {
      "cell_type": "code",
      "metadata": {
        "id": "uKE_8q0sZnvr",
        "outputId": "051ab8af-895f-4d48-f11c-f735fde855ff"
      },
      "source": [
        "# Or you can split it according to any character:\n",
        "t.split('a')\n"
      ],
      "execution_count": null,
      "outputs": [
        {
          "output_type": "execute_result",
          "data": {
            "text/plain": [
              "[\"It's nice to be \", 'ble to choose the delimiters']"
            ]
          },
          "metadata": {
            "tags": []
          },
          "execution_count": 38
        }
      ]
    },
    {
      "cell_type": "code",
      "metadata": {
        "id": "eXtxIMy4E7v2",
        "outputId": "a30c9b38-8d34-498f-f347-fe8c66df65a4"
      },
      "source": [
        "# You can also put back a string you have split, using .join()\n",
        "# Yes, it's weird; had I invented the .join operation, I would\n",
        "# have defined it as an operation of lists (rather than strings),\n",
        "# so that one would write l.join(' ') rather than ' '.join(l).\n",
        "# But once you learn it, you get used to it.\n",
        "' '.join(l)\n"
      ],
      "execution_count": null,
      "outputs": [
        {
          "output_type": "execute_result",
          "data": {
            "application/vnd.google.colaboratory.intrinsic+json": {
              "type": "string"
            },
            "text/plain": [
              "\"It's nice to be able to choose the delimiters\""
            ]
          },
          "metadata": {
            "tags": []
          },
          "execution_count": 39
        }
      ]
    },
    {
      "cell_type": "code",
      "metadata": {
        "id": "dJ5gjcRHgnPh",
        "outputId": "0a74cc59-3dd4-4a8a-c06d-755597c082af"
      },
      "source": [
        "# A string can also be addressed as if it were a list of its characters,\n",
        "# using indexing and slicing:\n",
        "t[10:]\n"
      ],
      "execution_count": null,
      "outputs": [
        {
          "output_type": "execute_result",
          "data": {
            "application/vnd.google.colaboratory.intrinsic+json": {
              "type": "string"
            },
            "text/plain": [
              "'to be able to choose the delimiters'"
            ]
          },
          "metadata": {
            "tags": []
          },
          "execution_count": 40
        }
      ]
    },
    {
      "cell_type": "markdown",
      "metadata": {
        "id": "dfkOM18q-rX0"
      },
      "source": [
        "### Unicode and bytes"
      ]
    },
    {
      "cell_type": "code",
      "metadata": {
        "id": "WV8XJG5t-uzR",
        "outputId": "d92301ea-b9f9-481a-e8c7-082be42a5f6f"
      },
      "source": [
        "# We have already seen strings.  Strings in Python 3 are not merely\n",
        "# sequence of bytes.  A byte would be able to encode only one of 256 characters,\n",
        "# and there are many more than 256 characters in world languages.\n",
        "# To allow people to write in their native languages, in Python 3,\n",
        "# strings consist of Unicode.\n",
        "s = \"Ouvrez la fenêtre, s'il vous plaît\"\n",
        "print(s)\n",
        "print(type(s))\n"
      ],
      "execution_count": null,
      "outputs": [
        {
          "output_type": "stream",
          "text": [
            "Ouvrez la fenêtre, s'il vous plaît\n",
            "<class 'str'>\n"
          ],
          "name": "stdout"
        }
      ]
    },
    {
      "cell_type": "code",
      "metadata": {
        "id": "xt2ZDsr8Bd5n",
        "outputId": "c4128cb9-5730-4a22-bb12-5277ec9b8814"
      },
      "source": [
        "# If you have a unicode string, you can \"encode\" its funny characters\n",
        "# (the non-standard ASCII characters) into a byte sequence, that is, a\n",
        "# (non-unicode) string.  Let's try it:\n",
        "bs = s.encode('utf8')\n",
        "print(type(bs))\n"
      ],
      "execution_count": null,
      "outputs": [
        {
          "output_type": "stream",
          "text": [
            "<class 'bytes'>\n"
          ],
          "name": "stdout"
        }
      ]
    },
    {
      "cell_type": "code",
      "metadata": {
        "id": "9ZM6mNvZBx-S",
        "outputId": "5b1471f9-78fb-440a-8e01-4b2498914e53"
      },
      "source": [
        "# The 'utf8' above specifies the 'encoding', that is, the way in which the\n",
        "# funny characters are encoded into bytes.  I will talk more about this later,\n",
        "# for now let's see what happened:\n",
        "print(bs)\n"
      ],
      "execution_count": null,
      "outputs": [
        {
          "output_type": "stream",
          "text": [
            "b\"Ouvrez la fen\\xc3\\xaatre, s'il vous pla\\xc3\\xaet\"\n"
          ],
          "name": "stdout"
        }
      ]
    },
    {
      "cell_type": "code",
      "metadata": {
        "id": "TZ5yC_4ZB_Nb",
        "outputId": "400f3b0c-7bb5-4647-9fb2-02fc8b237cfe"
      },
      "source": [
        "# You see the beauty and power of Python 3?  How it turns our\n",
        "# request \"Ouvrez la fenêtre, s'il vous plaît\" into a beautiful\n",
        "# byte string?  Ah the beauty of computer science!  Oh the pinnacles of\n",
        "# accomplishment reached after centuries of striving!\n",
        "# You can go back from byte strings (denoted by the little 'b')\n",
        "# to unicode:\n",
        "ut = bs.decode('utf8')\n",
        "print(ut)\n"
      ],
      "execution_count": null,
      "outputs": [
        {
          "output_type": "stream",
          "text": [
            "Ouvrez la fenêtre, s'il vous plaît\n"
          ],
          "name": "stdout"
        }
      ]
    },
    {
      "cell_type": "code",
      "metadata": {
        "id": "5USQplRkCu2I",
        "outputId": "9da0ce3c-07c6-42f7-ae8f-2c0216469a45"
      },
      "source": [
        "# Ok.  So basically, the same thing has two representations: one in\n",
        "# 'plain', unicode, and one in encoded form as a byte sequence.\n",
        "# If you know an unicode code for a character, you can build a byte\n",
        "# sequence, and decode it to get the character in a string:\n",
        "bv = b\"Sleep well \\xe2\\x9d\\xa4\"\n",
        "print(bv.decode('utf8'))\n"
      ],
      "execution_count": null,
      "outputs": [
        {
          "output_type": "stream",
          "text": [
            "Sleep well ❤\n"
          ],
          "name": "stdout"
        }
      ]
    },
    {
      "cell_type": "code",
      "metadata": {
        "id": "Xs8bvPoHEPAl"
      },
      "source": [
        "# You see? The little heart was obtaining by decoding the hex sequence\n",
        "# of bytes e2, 9d, a4 into the graphical symbol corresponding to\n",
        "# that sequence, which happens to be a heart.  Cute eh?\n",
        "# One third of computer science is devoted to sending cute emojis to\n",
        "# loved ones.  And this is natural and good, as human are social beings.\n",
        "# Don't ask about the other two thirds.\n"
      ],
      "execution_count": null,
      "outputs": []
    },
    {
      "cell_type": "code",
      "metadata": {
        "id": "CuoT0dC1ErdX",
        "outputId": "6d868287-880f-4fa6-a6e9-ff3a9dad86f2"
      },
      "source": [
        "# Now, let's take a look at what we have done.\n",
        "# We can print the types of expressions:\n",
        "print(type(s))\n",
        "print(type(bs))\n"
      ],
      "execution_count": null,
      "outputs": [
        {
          "output_type": "stream",
          "text": [
            "<class 'str'>\n",
            "<class 'bytes'>\n"
          ],
          "name": "stdout"
        }
      ]
    },
    {
      "cell_type": "code",
      "metadata": {
        "id": "SxEaciS0GrGp",
        "outputId": "cecf7455-c662-4b41-b8da-6867020e25c4"
      },
      "source": [
        "# Now, this is all great.  Except for one thing.  You recall that 'utf8' in\n",
        "print(u\"I love you ❤\".encode('utf8'))\n"
      ],
      "execution_count": null,
      "outputs": [
        {
          "output_type": "stream",
          "text": [
            "b'I love you \\xe2\\x9d\\xa4'\n"
          ],
          "name": "stdout"
        }
      ]
    },
    {
      "cell_type": "code",
      "metadata": {
        "id": "29S2Yf4tG7k7",
        "outputId": "d4e34b83-89ef-4c38-cc45-11284bda4d15"
      },
      "source": [
        "# What is that utf8?  Is is the table of correspondence between byte sequences\n",
        "# and symbols, the table associating in this case the little heart with\n",
        "# the byte sequence e2, 9d, a4.  The problem is that there is MORE than one\n",
        "# table of correspondence.  The idea of having more than one encoding strikes me\n",
        "# as downright asinine.  If one standard is good, then two standards are better, right?\n",
        "# Well, a mission to Mars was lost due to imperial to SI unit conversion, so apparently not.\n",
        "# The trouble is that with more than one such correspondence is that it matters:\n",
        "print(s.encode('iso-8859-1'))\n",
        "print(s.encode('utf-8'))\n"
      ],
      "execution_count": null,
      "outputs": [
        {
          "output_type": "stream",
          "text": [
            "b\"Ouvrez la fen\\xeatre, s'il vous pla\\xeet\"\n",
            "b\"Ouvrez la fen\\xc3\\xaatre, s'il vous pla\\xc3\\xaet\"\n"
          ],
          "name": "stdout"
        }
      ]
    },
    {
      "cell_type": "code",
      "metadata": {
        "id": "czpDmZL-JkPF",
        "outputId": "48ad1c70-d120-421b-934d-52a477fb8f53"
      },
      "source": [
        "# So you need to know which encoding is used.  And the BIG trouble is that on the\n",
        "# internet, when somebody sends you a message, they often don't tell you which\n",
        "# encoding they are using, or often they simply lie or get it wrong.\n",
        "# It's one of those ideas that's supposed to be great in theory, but is\n",
        "# bad in practice.  So the sad truth is that you typically hope that\n",
        "# whoever sends you bytes (because bytes is all that can be sent over a wire)\n",
        "# either uses utf8, or tells you honestly the encoding.\n",
        "\n",
        "# Oh, the default in Python is utf-8, so you can omit it:\n",
        "bv.decode()\n"
      ],
      "execution_count": null,
      "outputs": [
        {
          "output_type": "execute_result",
          "data": {
            "application/vnd.google.colaboratory.intrinsic+json": {
              "type": "string"
            },
            "text/plain": [
              "'Sleep well ❤'"
            ]
          },
          "metadata": {
            "tags": []
          },
          "execution_count": 50
        }
      ]
    },
    {
      "cell_type": "markdown",
      "metadata": {
        "id": "vC8nrCIjkg6f"
      },
      "source": [
        "### More on bytes"
      ]
    },
    {
      "cell_type": "code",
      "metadata": {
        "id": "gyCdehO3kpaq",
        "outputId": "d93d75a6-e004-4904-f7bb-6af430f78d12"
      },
      "source": [
        "# The implementation of bytes in Python 3 suffers from some truly unfortunate\n",
        "# problems.  For instance, you can slice bytes just fine:\n",
        "bs[3:8]\n"
      ],
      "execution_count": null,
      "outputs": [
        {
          "output_type": "execute_result",
          "data": {
            "text/plain": [
              "b'rez l'"
            ]
          },
          "metadata": {
            "tags": []
          },
          "execution_count": 51
        }
      ]
    },
    {
      "cell_type": "code",
      "metadata": {
        "id": "Z-qLj0QllDiR",
        "outputId": "63838b99-f717-4d3c-a00a-ee4ad49a0c86"
      },
      "source": [
        "# But if you ask for a single byte, you get -- surprise! -- an integer!\n",
        "bs[3]\n"
      ],
      "execution_count": null,
      "outputs": [
        {
          "output_type": "execute_result",
          "data": {
            "text/plain": [
              "114"
            ]
          },
          "metadata": {
            "tags": []
          },
          "execution_count": 52
        }
      ]
    },
    {
      "cell_type": "code",
      "metadata": {
        "id": "-CSjKsBMlNHm"
      },
      "source": [
        "# This is a truly poor design choice: in no other case is the type of slice\n",
        "# elements different from the type of individually-indexed elements.\n"
      ],
      "execution_count": null,
      "outputs": []
    },
    {
      "cell_type": "markdown",
      "metadata": {
        "id": "IyTNBT8sh-UE"
      },
      "source": [
        "## Dictionaries\n"
      ]
    },
    {
      "cell_type": "code",
      "metadata": {
        "id": "MQXjLViBgx7T"
      },
      "source": [
        "# Dictionaries in Python are essentially maps between sets, or, one-to-many functions.\n",
        "# Or if you are in CS, they are like hash tables.  In fact, turns out they are hash tables.\n",
        "# Except you don't need to worry about their implementation.\n",
        "# Enough said, let's define one.\n",
        "n_of_paws = {'cat': 4, 'fish': 0, 'bird': 2, 'snake': 0}\n"
      ],
      "execution_count": null,
      "outputs": []
    },
    {
      "cell_type": "code",
      "metadata": {
        "id": "cQmzw2CwiTP-",
        "outputId": "0c725c33-44bb-464e-9678-e7b97e13f715"
      },
      "source": [
        "# Dictionaries can be indexed with [] notation like list indexing,\n",
        "# except they are indexed by their \"keys\", not by integers.\n",
        "n_of_paws['fish']\n"
      ],
      "execution_count": null,
      "outputs": [
        {
          "output_type": "execute_result",
          "data": {
            "text/plain": [
              "0"
            ]
          },
          "metadata": {
            "tags": []
          },
          "execution_count": 55
        }
      ]
    },
    {
      "cell_type": "code",
      "metadata": {
        "id": "conzHq0cxigR",
        "outputId": "7826fea8-9d54-44d0-e384-f70a0a9c2c67"
      },
      "source": [
        "# You can also build a dictionary like this:\n",
        "d = dict(dog=4, cat=4, bird=2, fish=0)\n",
        "# Of course, the keys need to be variable names...\n",
        "d\n"
      ],
      "execution_count": null,
      "outputs": [
        {
          "output_type": "execute_result",
          "data": {
            "text/plain": [
              "{'bird': 2, 'cat': 4, 'dog': 4, 'fish': 0}"
            ]
          },
          "metadata": {
            "tags": []
          },
          "execution_count": 56
        }
      ]
    },
    {
      "cell_type": "code",
      "metadata": {
        "id": "BL4F480njCHe",
        "outputId": "c9cf5852-8252-4761-bfc1-352a13450d35"
      },
      "source": [
        "# If you are not sure whether a key is in the dictionary, you can use .get()\n",
        "# rather than []:\n",
        "print(n_of_paws.get('fish'))\n",
        "print(n_of_paws.get('elephant'))\n"
      ],
      "execution_count": null,
      "outputs": [
        {
          "output_type": "stream",
          "text": [
            "0\n",
            "None\n"
          ],
          "name": "stdout"
        }
      ]
    },
    {
      "cell_type": "code",
      "metadata": {
        "id": "yFPoZI56i4w7",
        "outputId": "f962a940-1c83-4470-8468-7838e9cefaac"
      },
      "source": [
        "# You can check whehter something is in a dictionary with the 'in' operator:\n",
        "print(\"elephant\" in n_of_paws)\n",
        "print(\"cat\" in n_of_paws)\n"
      ],
      "execution_count": null,
      "outputs": [
        {
          "output_type": "stream",
          "text": [
            "False\n",
            "True\n"
          ],
          "name": "stdout"
        }
      ]
    },
    {
      "cell_type": "code",
      "metadata": {
        "id": "qfGktFTkO9Sj",
        "outputId": "21b722b8-a84b-4a61-eec0-993859e1d17c"
      },
      "source": [
        "# Let's define a dictionary mapping names to nicknames,\n",
        "# and let's define a function that, given a name,\n",
        "# returns the nickname, if there is one, and otherwise the name.\n",
        "nicks = {'Robert': 'Rob', 'Alexander': 'Alex'}\n",
        "\n",
        "def to_nick(n):\n",
        "    nn = nicks.get(n)\n",
        "    # Below, we are using an in-line conditional; more on this later.\n",
        "    return n if nn is None else nn\n",
        "\n",
        "print(to_nick('Robert'))\n",
        "print(to_nick('Helen'))\n"
      ],
      "execution_count": null,
      "outputs": [
        {
          "output_type": "stream",
          "text": [
            "Rob\n",
            "Helen\n"
          ],
          "name": "stdout"
        }
      ]
    },
    {
      "cell_type": "code",
      "metadata": {
        "id": "Kf5rzCAxlhof"
      },
      "source": [
        "# This also shows why None is so useful.\n",
        "# Let's do another example.  Suppose you are given a list of animals.\n",
        "animals = ['pig', 'donkey', 'chicken', 'cat', 'dog', 'snake']\n"
      ],
      "execution_count": null,
      "outputs": []
    },
    {
      "cell_type": "code",
      "metadata": {
        "id": "BIP3KG6Vlkfy",
        "outputId": "91e9e8ce-bd13-4969-8066-5216e1387ea7"
      },
      "source": [
        "# Now you want to build a second list, containing the number of paws of each.\n",
        "my_paws = [n_of_paws.get(a) for a in animals]\n",
        "my_paws\n"
      ],
      "execution_count": null,
      "outputs": [
        {
          "output_type": "execute_result",
          "data": {
            "text/plain": [
              "[None, None, None, 4, None, 0]"
            ]
          },
          "metadata": {
            "tags": []
          },
          "execution_count": 61
        }
      ]
    },
    {
      "cell_type": "markdown",
      "metadata": {
        "id": "rvyZ-Pegu2Uu"
      },
      "source": [
        "#### Dictionary keys, values, and key-value pairs"
      ]
    },
    {
      "cell_type": "code",
      "metadata": {
        "id": "xyz8v8q2ieNJ",
        "outputId": "e19c9310-e3c8-4f93-d39e-eba8a0a40938"
      },
      "source": [
        "# You can ask for the list of keys of a dictionary:\n",
        "n_of_paws.keys()\n"
      ],
      "execution_count": null,
      "outputs": [
        {
          "output_type": "execute_result",
          "data": {
            "text/plain": [
              "dict_keys(['cat', 'fish', 'bird', 'snake'])"
            ]
          },
          "metadata": {
            "tags": []
          },
          "execution_count": 62
        }
      ]
    },
    {
      "cell_type": "code",
      "metadata": {
        "id": "vyLIcHWaJJAp",
        "outputId": "1f448040-0569-4746-c61b-bdb25083bf45"
      },
      "source": [
        "d = {'luca': 4, 'anna': 5}\n",
        "s = d.keys()\n",
        "d['helen'] = 8\n",
        "for sname in s:\n",
        "    print(sname)\n"
      ],
      "execution_count": null,
      "outputs": [
        {
          "output_type": "stream",
          "text": [
            "luca\n",
            "anna\n",
            "helen\n"
          ],
          "name": "stdout"
        }
      ]
    },
    {
      "cell_type": "code",
      "metadata": {
        "id": "PfqWIsFvpWP0",
        "outputId": "86cd9fe6-11a9-4a9f-f4bd-3afd1b214677"
      },
      "source": [
        "# What's that dict_keys(...) thing?  It turns out that in Python 3,\n",
        "# keys() returns a _view_ over the dictionary keys.  The view is dynamically\n",
        "# updated to reflect changes in the underlying dictionary:\n",
        "the_keys = n_of_paws.keys()\n",
        "print(the_keys)\n",
        "n_of_paws['ant'] = 6 # with apologies to entimologists...\n",
        "print(the_keys)\n"
      ],
      "execution_count": null,
      "outputs": [
        {
          "output_type": "stream",
          "text": [
            "dict_keys(['cat', 'fish', 'bird', 'snake'])\n",
            "dict_keys(['cat', 'fish', 'bird', 'snake', 'ant'])\n"
          ],
          "name": "stdout"
        }
      ]
    },
    {
      "cell_type": "markdown",
      "metadata": {
        "id": "-pg2Ebh9qRjs"
      },
      "source": [
        "For more on views, see e.g. https://docs.python.org/3/library/stdtypes.html#dict-views\n",
        "\n"
      ]
    },
    {
      "cell_type": "code",
      "metadata": {
        "id": "qtvQ2m16sHbE"
      },
      "source": [
        "# Now, if you ask me, this is a very bad idea.  It was much better\n",
        "# in Python 2, where keys() returned a good old list.\n",
        "\n",
        "# The trouble with keys() returning a view is that the notion of view creates\n",
        "# a concealed dependency between two distinct variables: in our case,\n",
        "# the dictionary n_of_paws and the variable the_keys.\n",
        "# Concealed dependencies are an common source of errors in programs,\n",
        "# and I regard the fact that keys() returns a variable view as a rather\n",
        "# misguided design decision.\n",
        "\n",
        "# I think the idea in returning a view is that they wanted to save space on\n",
        "# the explicit creation of a list, but then, they should have made keys()\n",
        "# return an *immutable, constant* list, not a variable one!\n"
      ],
      "execution_count": null,
      "outputs": []
    },
    {
      "cell_type": "code",
      "metadata": {
        "id": "bgSaV7nFrdcp",
        "outputId": "1162ec96-84ee-47c3-e73b-ba3b598272a8"
      },
      "source": [
        "# The view is fine for iterating over it (we will cover iteration in more\n",
        "# detail later):\n",
        "for k in n_of_paws.keys():\n",
        "    print(\"I have a key: \", k)\n"
      ],
      "execution_count": null,
      "outputs": [
        {
          "output_type": "stream",
          "text": [
            "I have a key:  cat\n",
            "I have a key:  fish\n",
            "I have a key:  bird\n",
            "I have a key:  snake\n",
            "I have a key:  ant\n"
          ],
          "name": "stdout"
        }
      ]
    },
    {
      "cell_type": "code",
      "metadata": {
        "id": "bmXk06zur0vw",
        "outputId": "e822cbc7-a4af-4423-c0e5-0b88dd83a952"
      },
      "source": [
        "# But do yourself a favor, and unless you are super sure of what you are\n",
        "# doing (and I would argue, even if you think you are), never assign views\n",
        "# to variables; convert them first to standard lists in order to remove\n",
        "# the concealed dependency:\n",
        "my_keys = list(n_of_paws.keys())\n",
        "print(my_keys)\n",
        "n_of_paws['centipede'] = 30 # True for some centipedes\n",
        "print(my_keys)\n"
      ],
      "execution_count": null,
      "outputs": [
        {
          "output_type": "stream",
          "text": [
            "['cat', 'fish', 'bird', 'snake', 'ant']\n",
            "['cat', 'fish', 'bird', 'snake', 'ant']\n"
          ],
          "name": "stdout"
        }
      ]
    },
    {
      "cell_type": "code",
      "metadata": {
        "id": "mjnGwK4lijCi",
        "outputId": "3e720b26-e02a-4904-a473-287308451a9e"
      },
      "source": [
        "# In addition to .keys(), you can also use .values() for the values,\n",
        "# with the same caveat about the view having a concealed dependency:\n",
        "n_of_paws.values()\n"
      ],
      "execution_count": null,
      "outputs": [
        {
          "output_type": "execute_result",
          "data": {
            "text/plain": [
              "dict_values([4, 0, 2, 0, 6, 30])"
            ]
          },
          "metadata": {
            "tags": []
          },
          "execution_count": 68
        }
      ]
    },
    {
      "cell_type": "code",
      "metadata": {
        "id": "ectytnryiq3f",
        "outputId": "b638d291-289c-4234-dc9d-73902845fcc5"
      },
      "source": [
        "# Much more useful is to have the list of (key, value) pairs.\n",
        "# It's a view list of tuples, in case you are wondering.\n",
        "list(n_of_paws.items())\n"
      ],
      "execution_count": null,
      "outputs": [
        {
          "output_type": "execute_result",
          "data": {
            "text/plain": [
              "[('cat', 4),\n",
              " ('fish', 0),\n",
              " ('bird', 2),\n",
              " ('snake', 0),\n",
              " ('ant', 6),\n",
              " ('centipede', 30)]"
            ]
          },
          "metadata": {
            "tags": []
          },
          "execution_count": 69
        }
      ]
    },
    {
      "cell_type": "code",
      "metadata": {
        "id": "9aYfZ54rxDWy",
        "outputId": "708cab3d-612c-460d-94f3-d70599381020"
      },
      "source": [
        "# Hmm, we don't know it for all animals.  And also, I would like a dictionary.\n",
        "# Let's fix the dictionary thing first.\n",
        "my_paws = {a : n_of_paws.get(a) for a in animals}\n",
        "my_paws\n"
      ],
      "execution_count": null,
      "outputs": [
        {
          "output_type": "execute_result",
          "data": {
            "text/plain": [
              "{'cat': 4,\n",
              " 'chicken': None,\n",
              " 'dog': None,\n",
              " 'donkey': None,\n",
              " 'pig': None,\n",
              " 'snake': 0}"
            ]
          },
          "metadata": {
            "tags": []
          },
          "execution_count": 70
        }
      ]
    },
    {
      "cell_type": "code",
      "metadata": {
        "id": "RciSI3jJuU31",
        "outputId": "f7f6e1fa-20bf-4c38-d13a-c7bdb3ac53b5"
      },
      "source": [
        "# What we did above is a dictionary comprehension.\n",
        "# It works similarly to a string comprehension, but uses the syntax {k: d for ...}\n",
        "# to build the dictionary.\n",
        "\n",
        "# What if you want in the dictionary only things that do not map to None?\n",
        "# You can add an if clause to the comprehension.\n",
        "my_known_paws = {a : n_of_paws.get(a) for a in animals if a in n_of_paws}\n",
        "my_known_paws\n"
      ],
      "execution_count": null,
      "outputs": [
        {
          "output_type": "execute_result",
          "data": {
            "text/plain": [
              "{'cat': 4, 'snake': 0}"
            ]
          },
          "metadata": {
            "tags": []
          },
          "execution_count": 71
        }
      ]
    },
    {
      "cell_type": "code",
      "metadata": {
        "id": "vJRPmYzsurwd"
      },
      "source": [
        "# As you might start to guess, the national sport in Python consists in doing\n",
        "# as much as possible in a single line.  Concise code leads to concise thinking\n",
        "# and understanding.\n"
      ],
      "execution_count": null,
      "outputs": []
    },
    {
      "cell_type": "markdown",
      "metadata": {
        "id": "8USdvrcJvk9n"
      },
      "source": [
        "## Sets"
      ]
    },
    {
      "cell_type": "code",
      "metadata": {
        "id": "I4fH86tXQOHh",
        "outputId": "592d9e28-47f7-44bd-91d7-ca1a8495c98b"
      },
      "source": [
        "# Sets are data structures that represent... sets.  Sets are like lists,\n",
        "# except that they cannot have repeated elements.\n",
        "s = set() # {} would be a dictionary...\n",
        "print(s)\n"
      ],
      "execution_count": null,
      "outputs": [
        {
          "output_type": "stream",
          "text": [
            "set()\n"
          ],
          "name": "stdout"
        }
      ]
    },
    {
      "cell_type": "code",
      "metadata": {
        "id": "qn2s3Cd42bmp"
      },
      "source": [
        "set1 = {'cat', 'dog'}\n",
        "set2 = {'bird', 'mouse', 'cat'}\n",
        "set3 = {'dog', 'cat'}\n"
      ],
      "execution_count": null,
      "outputs": []
    },
    {
      "cell_type": "code",
      "metadata": {
        "id": "Xr5tRiD32sCE",
        "outputId": "36b39be9-2789-4118-dd27-9ecdac5ebb85"
      },
      "source": [
        "# We can take union, intersection, and difference of sets:\n",
        "print(set1 | set2) # union\n",
        "print(set1 & set2) # intersection\n",
        "print(set1 - set2) # difference\n"
      ],
      "execution_count": null,
      "outputs": [
        {
          "output_type": "stream",
          "text": [
            "{'bird', 'cat', 'mouse', 'dog'}\n",
            "{'cat'}\n",
            "{'dog'}\n"
          ],
          "name": "stdout"
        }
      ]
    },
    {
      "cell_type": "code",
      "metadata": {
        "id": "PIO500l13Ws4",
        "outputId": "e47e82ad-e18f-40dd-fa5e-83210cb576f8"
      },
      "source": [
        "# Set equality is defined as element-wise equality\n",
        "# (order does not matter)\n",
        "set1 == set3\n"
      ],
      "execution_count": null,
      "outputs": [
        {
          "output_type": "execute_result",
          "data": {
            "text/plain": [
              "True"
            ]
          },
          "metadata": {
            "tags": []
          },
          "execution_count": 76
        }
      ]
    },
    {
      "cell_type": "code",
      "metadata": {
        "id": "u_9zfkUO3CPX",
        "outputId": "37abed08-351c-45db-9756-faad8b2166d5"
      },
      "source": [
        "# We can add elements to a set...\n",
        "set1.add('duck')\n",
        "print(set1)\n",
        "set1.add('dog')\n",
        "print(set1)\n",
        "# ... and as you can see, sets really have no repeated elements,\n",
        "# so if you add a dog to a set containing already a dog,\n",
        "# nothing changes.\n"
      ],
      "execution_count": null,
      "outputs": [
        {
          "output_type": "stream",
          "text": [
            "{'dog', 'cat', 'duck'}\n",
            "{'dog', 'cat', 'duck'}\n"
          ],
          "name": "stdout"
        }
      ]
    },
    {
      "cell_type": "code",
      "metadata": {
        "id": "cDPz2PAG4-72",
        "outputId": "0589cad2-7d12-4a4c-99cc-02b5a2589064"
      },
      "source": [
        "# And we can test membership using \"in\", just like for lists.\n",
        "print('cat' in set1)\n",
        "print('opossum' in set1)\n"
      ],
      "execution_count": null,
      "outputs": [
        {
          "output_type": "stream",
          "text": [
            "True\n",
            "False\n"
          ],
          "name": "stdout"
        }
      ]
    },
    {
      "cell_type": "code",
      "metadata": {
        "id": "pgEPm8WW4Gpl",
        "outputId": "73087ea5-19c9-474e-9b2b-cf4d1a2164cc"
      },
      "source": [
        "# A quick way to remove duplicates from a list is to turn it\n",
        "# into a set, then back into the list.  This loses the ordering though,\n",
        "# as sets do not preserve the order of the elements of the lists\n",
        "# from which they were created:\n",
        "l = ['a', 'b', 'c', 'g', 'c', 'd', 'f', 'g']\n",
        "l_uniq = list(set(l))\n",
        "l_uniq\n"
      ],
      "execution_count": null,
      "outputs": [
        {
          "output_type": "execute_result",
          "data": {
            "text/plain": [
              "['d', 'c', 'b', 'f', 'g', 'a']"
            ]
          },
          "metadata": {
            "tags": []
          },
          "execution_count": 79
        }
      ]
    },
    {
      "cell_type": "code",
      "metadata": {
        "id": "lG3s2te_4d0x",
        "outputId": "3181a64d-ada3-4897-89d4-56193d221924"
      },
      "source": [
        "# If you want to preserve the ordering, then you can use iteration\n",
        "# (covered later) and do as follows:\n",
        "l_uniq = [] # list\n",
        "occurrences = set() # set\n",
        "for s in l:\n",
        "    if s not in occurrences:\n",
        "        l_uniq.append(s) # list append\n",
        "        occurrences.add(s) # set add\n",
        "l_uniq\n"
      ],
      "execution_count": null,
      "outputs": [
        {
          "output_type": "execute_result",
          "data": {
            "text/plain": [
              "['a', 'b', 'c', 'g', 'd', 'f']"
            ]
          },
          "metadata": {
            "tags": []
          },
          "execution_count": 80
        }
      ]
    },
    {
      "cell_type": "markdown",
      "metadata": {
        "id": "PNT4q5Ks7v79"
      },
      "source": [
        "## Conditionals"
      ]
    },
    {
      "cell_type": "code",
      "metadata": {
        "id": "SVoA-VsT7ys_",
        "outputId": "01595c4b-0592-459e-9eb3-6bb0969d0923"
      },
      "source": [
        "# You can build boolean expressions with the usual relational operators\n",
        "# <, <=, >, >=, ==, and !=.\n",
        "3 < 4\n"
      ],
      "execution_count": null,
      "outputs": [
        {
          "output_type": "execute_result",
          "data": {
            "text/plain": [
              "True"
            ]
          },
          "metadata": {
            "tags": []
          },
          "execution_count": 81
        }
      ]
    },
    {
      "cell_type": "code",
      "metadata": {
        "id": "9Fvh8i1178HH",
        "outputId": "0d9a3972-fbca-4c05-881c-23b00939d808"
      },
      "source": [
        "# There are also other operators.  One is \"in\", to test membership\n",
        "# in lists or dictionaries or sets or strings:\n",
        "print('a' in ['a', 'b', 'c'])\n",
        "print('a' in 'hello my dear')\n"
      ],
      "execution_count": null,
      "outputs": [
        {
          "output_type": "stream",
          "text": [
            "True\n",
            "True\n"
          ],
          "name": "stdout"
        }
      ]
    },
    {
      "cell_type": "code",
      "metadata": {
        "id": "RfhvJmk38PdR",
        "outputId": "d1994a19-858e-44cc-e113-f75028123423"
      },
      "source": [
        "# Another one is \"is\" and \"is not\", to check whether two things are identical,\n",
        "# most often used for None.  Here's one way of removing None elements from a\n",
        "# list, preserving order:\n",
        "[a for a in [1, 2, 3, None, 4] if a is not None]\n"
      ],
      "execution_count": null,
      "outputs": [
        {
          "output_type": "execute_result",
          "data": {
            "text/plain": [
              "[1, 2, 3, 4]"
            ]
          },
          "metadata": {
            "tags": []
          },
          "execution_count": 83
        }
      ]
    },
    {
      "cell_type": "code",
      "metadata": {
        "id": "RDIMwV2K8flt",
        "outputId": "84fd8981-7b50-4f87-a482-d3ceb4c515cd"
      },
      "source": [
        "# The if is expressed via if / elif / else:\n",
        "for x in range(10):\n",
        "    if x % 2 == 0: # The % is the modulus operator.\n",
        "        print(x, \"is even\")\n",
        "    else:\n",
        "        print(x, \"is odd\")\n",
        "    if x % 3 == 0:\n",
        "        print(x, \"is multiple of 3\")\n",
        "    elif x % 3 == 1:\n",
        "        print(x, \"is 1 above a multiple of 3\")\n",
        "    else:\n",
        "        print(x, \"is 1 below a multiple of 3\")\n"
      ],
      "execution_count": null,
      "outputs": [
        {
          "output_type": "stream",
          "text": [
            "0 is even\n",
            "0 is multiple of 3\n",
            "1 is odd\n",
            "1 is 1 above a multiple of 3\n",
            "2 is even\n",
            "2 is 1 below a multiple of 3\n",
            "3 is odd\n",
            "3 is multiple of 3\n",
            "4 is even\n",
            "4 is 1 above a multiple of 3\n",
            "5 is odd\n",
            "5 is 1 below a multiple of 3\n",
            "6 is even\n",
            "6 is multiple of 3\n",
            "7 is odd\n",
            "7 is 1 above a multiple of 3\n",
            "8 is even\n",
            "8 is 1 below a multiple of 3\n",
            "9 is odd\n",
            "9 is multiple of 3\n"
          ],
          "name": "stdout"
        }
      ]
    },
    {
      "cell_type": "code",
      "metadata": {
        "id": "oI5OLlZT9L9d",
        "outputId": "471bd47a-492c-4037-9c83-4e61a2848931"
      },
      "source": [
        "# If / then / else can be used also as an expression, using the following syntax:\n",
        "x = 3\n",
        "y = x + 1 if x % 2 == 0 else x + 2\n",
        "print(y)\n"
      ],
      "execution_count": null,
      "outputs": [
        {
          "output_type": "stream",
          "text": [
            "5\n"
          ],
          "name": "stdout"
        }
      ]
    },
    {
      "cell_type": "code",
      "metadata": {
        "id": "y-Hx6dEd9dzT",
        "outputId": "ca2743dd-07a6-41b6-9fc3-af1e3172cc0a"
      },
      "source": [
        "# This can be very handy in list comprehensions.\n",
        "[x if x % 2 == 0 else - x for x in range(10)]\n"
      ],
      "execution_count": null,
      "outputs": [
        {
          "output_type": "execute_result",
          "data": {
            "text/plain": [
              "[0, -1, 2, -3, 4, -5, 6, -7, 8, -9]"
            ]
          },
          "metadata": {
            "tags": []
          },
          "execution_count": 86
        }
      ]
    },
    {
      "cell_type": "markdown",
      "metadata": {
        "id": "xNpgmyOd0gHR"
      },
      "source": [
        "## Iteration"
      ]
    },
    {
      "cell_type": "code",
      "metadata": {
        "id": "mva7sbs-y7lR",
        "outputId": "e05f7394-9a29-4f5c-b3f1-994d10893255"
      },
      "source": [
        "# In old poor languages like Fortran and C, when you iterate, you have to\n",
        "# have a counter, increment it, and all that stuff.  Yeech.\n",
        "# Not so in Python.  You iterate over something that is iterable, that is,\n",
        "# that has (or can produce) a sequence of elements.  Like... a list!\n",
        "my_words = \"I like to eat pizza with anchovies, I actually do!\".split()\n",
        "for w in my_words:\n",
        "    print(\"My word is:\", w)\n"
      ],
      "execution_count": null,
      "outputs": [
        {
          "output_type": "stream",
          "text": [
            "My word is: I\n",
            "My word is: like\n",
            "My word is: to\n",
            "My word is: eat\n",
            "My word is: pizza\n",
            "My word is: with\n",
            "My word is: anchovies,\n",
            "My word is: I\n",
            "My word is: actually\n",
            "My word is: do!\n"
          ],
          "name": "stdout"
        }
      ]
    },
    {
      "cell_type": "code",
      "metadata": {
        "id": "TVSICPjF1MHt",
        "outputId": "d97f9b24-a9df-43ad-aa89-d9c8c927ccf0"
      },
      "source": [
        "# You can also iterate over pairs, consisting of the element index and the list element:\n",
        "for i, w in enumerate(my_words):\n",
        "    print(\"The word number\", i, \"is:\", w)\n"
      ],
      "execution_count": null,
      "outputs": [
        {
          "output_type": "stream",
          "text": [
            "The word number 0 is: I\n",
            "The word number 1 is: like\n",
            "The word number 2 is: to\n",
            "The word number 3 is: eat\n",
            "The word number 4 is: pizza\n",
            "The word number 5 is: with\n",
            "The word number 6 is: anchovies,\n",
            "The word number 7 is: I\n",
            "The word number 8 is: actually\n",
            "The word number 9 is: do!\n"
          ],
          "name": "stdout"
        }
      ]
    },
    {
      "cell_type": "code",
      "metadata": {
        "id": "pRbVD4DT1aEI",
        "outputId": "655f5631-03ec-4761-edbe-9e77139135e1"
      },
      "source": [
        "# If you get tired of iteration, you can break out of it:\n",
        "for w in my_words:\n",
        "    print(w)\n",
        "    if w.startswith('anchovies'):\n",
        "        print(\"   Indeed, they are delicious, no need to say more!\")\n",
        "        break\n"
      ],
      "execution_count": null,
      "outputs": [
        {
          "output_type": "stream",
          "text": [
            "I\n",
            "like\n",
            "to\n",
            "eat\n",
            "pizza\n",
            "with\n",
            "anchovies,\n",
            "   Indeed, they are delicious, no need to say more!\n"
          ],
          "name": "stdout"
        }
      ]
    },
    {
      "cell_type": "code",
      "metadata": {
        "id": "9wtkml541jVB",
        "outputId": "5f4cdf98-788a-491a-baa4-ecec30c1e7d8"
      },
      "source": [
        "# And if you need to iterate over indices, like you used to do in C?\n",
        "# Well, you just create... a list of indices!\n",
        "for i in range(10):\n",
        "    print(\"My integer is:\", i)\n"
      ],
      "execution_count": null,
      "outputs": [
        {
          "output_type": "stream",
          "text": [
            "My integer is: 0\n",
            "My integer is: 1\n",
            "My integer is: 2\n",
            "My integer is: 3\n",
            "My integer is: 4\n",
            "My integer is: 5\n",
            "My integer is: 6\n",
            "My integer is: 7\n",
            "My integer is: 8\n",
            "My integer is: 9\n"
          ],
          "name": "stdout"
        }
      ]
    },
    {
      "cell_type": "code",
      "metadata": {
        "id": "7qnNcRmX7MFY",
        "outputId": "a798f35d-0104-45b6-faf3-c87fcf6bafcb"
      },
      "source": [
        "# Well, range(...) gives a list in Python 2.  In Python 3, it gives\n",
        "# an iterator, that will let you iterate on the numbers in the given\n",
        "# range.  The point is that if you want to do a billion iterations,\n",
        "# you may not want to build a list of a billion elements (and possibly\n",
        "# run out of memory!).\n",
        "print(range(1, 10000000000))\n"
      ],
      "execution_count": null,
      "outputs": [
        {
          "output_type": "stream",
          "text": [
            "range(1, 10000000000)\n"
          ],
          "name": "stdout"
        }
      ]
    },
    {
      "cell_type": "code",
      "metadata": {
        "id": "LhzuMNq62FXn",
        "outputId": "58aa912a-5453-4889-bb92-440dc80c8bf3"
      },
      "source": [
        "# Note that you can also iterate on list slices:\n",
        "for w in my_words[:5]:\n",
        "    print(w)\n"
      ],
      "execution_count": null,
      "outputs": [
        {
          "output_type": "stream",
          "text": [
            "I\n",
            "like\n",
            "to\n",
            "eat\n",
            "pizza\n"
          ],
          "name": "stdout"
        }
      ]
    },
    {
      "cell_type": "markdown",
      "metadata": {
        "id": "rLJGUjp22xL5"
      },
      "source": [
        "Oh btw, did you notice that we are using indentation rather than those \n",
        "pesky { } ?  Some people think it's silly, a throwback to Fortran and \n",
        "punched cards.  I think it's brilliant.  See, in C or Java you have \n",
        "two things: the real structure of the code (indicated by braces) and the illustrated structure (indicated by indentation).  The problem with this is that sometimes indentation and braces they differ, and when they do, the visual indication is fallacious.  In Python, the visual indication is also the structural one, and is always truthful. \n",
        "\n",
        "I am sure you prefer this to a language where there is only structure and no visuals! "
      ]
    },
    {
      "cell_type": "code",
      "metadata": {
        "id": "05zZ65Yc2Vej",
        "outputId": "96d32157-6d65-4257-d71f-46648c6b460a"
      },
      "source": [
        "# If you have a dictionary, you can iterate on it like this.\n",
        "# On keys only (because .keys() returns a view over the keys):\n",
        "for k in n_of_paws.keys():\n",
        "    print (\"I have a\", k)\n"
      ],
      "execution_count": null,
      "outputs": [
        {
          "output_type": "stream",
          "text": [
            "I have a cat\n",
            "I have a fish\n",
            "I have a bird\n",
            "I have a snake\n",
            "I have a ant\n",
            "I have a centipede\n"
          ],
          "name": "stdout"
        }
      ]
    },
    {
      "cell_type": "code",
      "metadata": {
        "id": "Hee0NxlZ3ahm",
        "outputId": "e3f55b54-2a60-4647-d99a-246a26e1c934"
      },
      "source": [
        "# ... and on key-value pairs, via .items() :\n",
        "for k, v in n_of_paws.items():\n",
        "    print(\"A\", k, \"has\", v, \"paws\")\n"
      ],
      "execution_count": null,
      "outputs": [
        {
          "output_type": "stream",
          "text": [
            "A cat has 4 paws\n",
            "A fish has 0 paws\n",
            "A bird has 2 paws\n",
            "A snake has 0 paws\n",
            "A ant has 6 paws\n",
            "A centipede has 30 paws\n"
          ],
          "name": "stdout"
        }
      ]
    },
    {
      "cell_type": "code",
      "metadata": {
        "id": "-OKmn62J9uco",
        "outputId": "aebeda66-37ba-4df2-91d7-8294f0eb1247"
      },
      "source": [
        "# There is also a while statement, which works as usual...\n",
        "x = 3.\n",
        "while x > 1.1:\n",
        "    print(x)\n",
        "    x = x / 1.6\n",
        "print(\"The final result is:\", x)\n"
      ],
      "execution_count": null,
      "outputs": [
        {
          "output_type": "stream",
          "text": [
            "3.0\n",
            "1.875\n",
            "1.171875\n",
            "The final result is: 0.732421875\n"
          ],
          "name": "stdout"
        }
      ]
    },
    {
      "cell_type": "markdown",
      "metadata": {
        "id": "6qkLsTK93xxF"
      },
      "source": [
        "## Functions"
      ]
    },
    {
      "cell_type": "code",
      "metadata": {
        "id": "zVeg_bdX3qqz",
        "outputId": "1c708e28-7a10-4ec4-ff60-c16bebcb22d9"
      },
      "source": [
        "def addone(x):\n",
        "    return x + 1\n",
        "\n",
        "addone(3)\n"
      ],
      "execution_count": null,
      "outputs": [
        {
          "output_type": "execute_result",
          "data": {
            "text/plain": [
              "4"
            ]
          },
          "metadata": {
            "tags": []
          },
          "execution_count": 96
        }
      ]
    },
    {
      "cell_type": "code",
      "metadata": {
        "id": "3tb5Tjsy-rjt"
      },
      "source": [
        "# Ok, one more argument!  Let's test our CS skill!\n",
        "def add_one_to_prod(x, y):\n",
        "    \"\"\"This function adds one to the product of x and y,\n",
        "    and this is how you are supposed to document what a\n",
        "    function does.\"\"\"\n",
        "    p = x * y\n",
        "    return p + 1\n"
      ],
      "execution_count": null,
      "outputs": []
    },
    {
      "cell_type": "code",
      "metadata": {
        "id": "W_n5-apl_BP-",
        "outputId": "6a0e859f-11a8-49da-d55b-1e2bfb8e2aa3"
      },
      "source": [
        "# At this point, writing the function for the factorial is compulsory.\n",
        "def factorial(n):\n",
        "    # Assertions are useful to check that the values passed to a function make sense.\n",
        "    # These assertions cause an error if not satisfied.  Try it!\n",
        "    assert type(n) is int, \"n is not an integer!\"\n",
        "    assert n > 0, \"n is not positive!\"\n",
        "    if n <= 1:\n",
        "        return 1\n",
        "    else:\n",
        "        return n * factorial(n - 1)\n",
        "\n",
        "factorial(4)\n"
      ],
      "execution_count": null,
      "outputs": [
        {
          "output_type": "execute_result",
          "data": {
            "text/plain": [
              "24"
            ]
          },
          "metadata": {
            "tags": []
          },
          "execution_count": 98
        }
      ]
    },
    {
      "cell_type": "code",
      "metadata": {
        "id": "p771ic3-_dV0",
        "outputId": "947ebb92-ee71-429b-cc49-5e4b8cf02304"
      },
      "source": [
        "# Remember the Euclid's MCD algorithm?\n",
        "# Well, I hope I do.\n",
        "def mcd(n, k):\n",
        "    assert type(n) is int and type(k) is int # I am being fussy\n",
        "    assert n >= 0 and k >= 0\n",
        "    if n < 2: # Case for 0, 1\n",
        "        return k\n",
        "    else:\n",
        "        return mcd(k % n, n)\n",
        "\n",
        "# Note that in the algorithm above, in the first call it might be the case that\n",
        "# n > k, but in all other calls, n <= k (why?).\n",
        "\n",
        "mcd(342, 54)\n"
      ],
      "execution_count": null,
      "outputs": [
        {
          "output_type": "execute_result",
          "data": {
            "text/plain": [
              "18"
            ]
          },
          "metadata": {
            "tags": []
          },
          "execution_count": 99
        }
      ]
    },
    {
      "cell_type": "code",
      "metadata": {
        "id": "GiWNWgfLAree",
        "outputId": "e666eb9b-07a9-4123-a0dc-92d02d4bbc31"
      },
      "source": [
        "# One of the very nice things about Python is that functions can have\n",
        "# optional arguments, which have a default value.\n",
        "def incadd(x, d=1):\n",
        "    return x + d\n",
        "\n",
        "print(incadd(3, d=4))\n",
        "print(incadd(3))\n"
      ],
      "execution_count": null,
      "outputs": [
        {
          "output_type": "stream",
          "text": [
            "7\n",
            "4\n"
          ],
          "name": "stdout"
        }
      ]
    },
    {
      "cell_type": "code",
      "metadata": {
        "id": "GBFW-H8jBjfR",
        "outputId": "1f612f7e-9bba-478d-9def-d71f1943b9a4"
      },
      "source": [
        "# Often, the optional argument has default value None.\n",
        "# Functions, btw, can be passed around just as regular values.\n",
        "# Let's try this.  Let us define a function g that squares a number.\n",
        "def g(x):\n",
        "    return x * x\n",
        "\n",
        "def f(x, h=None):\n",
        "    \"\"\"Adds 1 to x, then applies modifier function h if any,\n",
        "    and returns the result.\"\"\"\n",
        "    y = x + 1\n",
        "    return y if h is None else h(y)\n",
        "\n",
        "print(f(2))\n",
        "print(f(2, h=g))\n"
      ],
      "execution_count": null,
      "outputs": [
        {
          "output_type": "stream",
          "text": [
            "3\n",
            "9\n"
          ],
          "name": "stdout"
        }
      ]
    },
    {
      "cell_type": "code",
      "metadata": {
        "id": "rQQH3anEfLtB"
      },
      "source": [
        "# The default value of a function parameter must be immutable!\n",
        "# Otherwise, look what happens:\n",
        "\n",
        "def f(x, y=[]):\n",
        "    y.append('hello')\n",
        "    return y + x\n"
      ],
      "execution_count": null,
      "outputs": []
    },
    {
      "cell_type": "code",
      "metadata": {
        "id": "2XHQY6y4sO83"
      },
      "source": [
        "# What is mutable? Something whose value can change.  Lists, dictionaries, sets, ...\n",
        "# Strings are OK.  Strings in Python are not mutable, if you mod them, you\n",
        "# get a new one.\n"
      ],
      "execution_count": null,
      "outputs": []
    },
    {
      "cell_type": "code",
      "metadata": {
        "id": "95MTFZ_Bfdov",
        "outputId": "0dcb9bf2-30ae-4af9-df74-2c494799a326"
      },
      "source": [
        "# Let's call this a first time.\n",
        "f([\"cat\"])\n"
      ],
      "execution_count": null,
      "outputs": [
        {
          "output_type": "execute_result",
          "data": {
            "text/plain": [
              "['hello', 'cat']"
            ]
          },
          "metadata": {
            "tags": []
          },
          "execution_count": 104
        }
      ]
    },
    {
      "cell_type": "code",
      "metadata": {
        "id": "6LcXqtlBfvxu",
        "outputId": "dcb5a784-f493-4d3b-e7fa-d2b48310025b"
      },
      "source": [
        "# But if you do it again...\n",
        "f(['cat'])\n"
      ],
      "execution_count": null,
      "outputs": [
        {
          "output_type": "execute_result",
          "data": {
            "text/plain": [
              "['hello', 'hello', 'cat']"
            ]
          },
          "metadata": {
            "tags": []
          },
          "execution_count": 105
        }
      ]
    },
    {
      "cell_type": "markdown",
      "metadata": {
        "id": "iPp6yJhCApcR"
      },
      "source": [
        "## Print, and file input/output"
      ]
    },
    {
      "cell_type": "code",
      "metadata": {
        "id": "LR3MyRgwAuAT",
        "outputId": "77eb5e40-7cb7-4fa5-e723-ccbd2766e7dc"
      },
      "source": [
        "# We have seen that the print() function takes any number of arguments,\n",
        "# and prints them with intervening spaces:\n",
        "print(\"I have\", 3, 'chicken')\n"
      ],
      "execution_count": null,
      "outputs": [
        {
          "output_type": "stream",
          "text": [
            "I have 3 chicken\n"
          ],
          "name": "stdout"
        }
      ]
    },
    {
      "cell_type": "code",
      "metadata": {
        "id": "pJNS96GMA71h",
        "outputId": "45068d80-d06d-4c19-ab67-5c1847e57483"
      },
      "source": [
        "# We can also use {} and .format() to specify a string with {} holes,\n",
        "# which are filled by the arguments of .format():\n",
        "print(\"I have {} chicken\".format(3))\n",
        "print(\"{} is divisible by {}\".format(10, 2))\n"
      ],
      "execution_count": null,
      "outputs": [
        {
          "output_type": "stream",
          "text": [
            "I have 3 chicken\n",
            "10 is divisible by 2\n"
          ],
          "name": "stdout"
        }
      ]
    },
    {
      "cell_type": "code",
      "metadata": {
        "id": "GZNGrOqfBO5J",
        "outputId": "8500ce80-0edc-4b2e-e03f-0adfb399220a"
      },
      "source": [
        "# You can also use formatting options to specify the number of\n",
        "# digits to print for floating point numbers, etc.\n",
        "print(\"A gazillion is {:.2f}% less than a bazillion\".format(15.67980))\n"
      ],
      "execution_count": null,
      "outputs": [
        {
          "output_type": "stream",
          "text": [
            "A gazillion is 15.68% less than a bazillion\n"
          ],
          "name": "stdout"
        }
      ]
    },
    {
      "cell_type": "code",
      "metadata": {
        "id": "pkH3a2xEBxMC"
      },
      "source": [
        "# For file input output, you can open files for read and for write\n",
        "# like this, except that in a colab notebook, it's a little bit more complicated\n",
        "# because we don't have access to the local file system.\n",
        "with open('myfile', 'w') as f:\n",
        "    f.write(\"hello\")\n",
        "\n",
        "# We don't need to close the file; it is closed as soon as we go out of the\n",
        "# scope of the with statement.\n"
      ],
      "execution_count": null,
      "outputs": []
    },
    {
      "cell_type": "code",
      "metadata": {
        "id": "iK0t68PzCTTs",
        "outputId": "1eb8b371-0276-450d-f510-6eca5b64ff7d"
      },
      "source": [
        "with open('myfile') as f:\n",
        "    s = f.read() # This reads the file in a single shot\n",
        "print(s)\n"
      ],
      "execution_count": null,
      "outputs": [
        {
          "output_type": "stream",
          "text": [
            "hello\n"
          ],
          "name": "stdout"
        }
      ]
    },
    {
      "cell_type": "code",
      "metadata": {
        "id": "MVuuYwryCb-c",
        "outputId": "ebcf7e13-89bc-4843-ae7f-dfba164fe8f7"
      },
      "source": [
        "# You can also read files one line at a time by iterating over them:\n",
        "with open('mylongfile', 'w') as f:\n",
        "    f.write('hello\\n')\n",
        "    f.write('there!\\n')\n",
        "with open('mylongfile') as g:\n",
        "    for s in g:\n",
        "        print(s)\n"
      ],
      "execution_count": null,
      "outputs": [
        {
          "output_type": "stream",
          "text": [
            "hello\n",
            "\n",
            "there!\n",
            "\n"
          ],
          "name": "stdout"
        }
      ]
    },
    {
      "cell_type": "markdown",
      "metadata": {
        "id": "vDyUpa7_L54U"
      },
      "source": [
        "## Importing modules"
      ]
    },
    {
      "cell_type": "code",
      "metadata": {
        "id": "5wYw6n_5L98R",
        "outputId": "872b95db-9d2f-4fc1-88a8-7b5bdc16cdbb"
      },
      "source": [
        "# Python libraries are organized in modules.\n",
        "# You need to import them before using them.\n",
        "import math\n",
        "math.sqrt(3.)\n"
      ],
      "execution_count": null,
      "outputs": [
        {
          "output_type": "execute_result",
          "data": {
            "text/plain": [
              "1.7320508075688772"
            ]
          },
          "metadata": {
            "tags": []
          },
          "execution_count": 112
        }
      ]
    },
    {
      "cell_type": "code",
      "metadata": {
        "id": "ptW6o8nZMI3v",
        "outputId": "4d422884-8e9f-4a3d-ef4d-66d69e3157fa"
      },
      "source": [
        "# If you like, you can also import individual functions from libraries.\n",
        "from math import sqrt as square_root\n",
        "square_root(2.)\n"
      ],
      "execution_count": null,
      "outputs": [
        {
          "output_type": "execute_result",
          "data": {
            "text/plain": [
              "1.4142135623730951"
            ]
          },
          "metadata": {
            "tags": []
          },
          "execution_count": 113
        }
      ]
    },
    {
      "cell_type": "markdown",
      "metadata": {
        "id": "jRH24PaU-iso"
      },
      "source": [
        "One of the things that makes Python great is the huge set of modules that are available for it.  You can look at https://docs.python.org/3/library/ for information about the Python standard library, but there is a very large number of modules besides the standard library.  The general rule is, before you try to implement something, look at whether there is a module available that does (part of) what you want to do."
      ]
    },
    {
      "cell_type": "code",
      "metadata": {
        "id": "ureSKSFMMXtX"
      },
      "source": [
        "# If you have a file myfile.py in the current directory, defining a function f,\n",
        "# you can import it and use f like this:\n",
        "# import myfile\n",
        "# y = myfile.f(x)\n"
      ],
      "execution_count": null,
      "outputs": []
    },
    {
      "cell_type": "code",
      "metadata": {
        "id": "rfrbB8AYMrMk"
      },
      "source": [
        "# If myfile is in a subdirectory foo of the current directory,\n",
        "# and if foo contains both myfile.py and __init__.py (the latter\n",
        "# can be empty, but must exist), then you can do:\n",
        "# import foo.myfile\n",
        "# y = myfile.f(x)\n"
      ],
      "execution_count": null,
      "outputs": []
    },
    {
      "cell_type": "markdown",
      "metadata": {
        "id": "dRtVOqsBC4AJ"
      },
      "source": [
        "## Exceptions"
      ]
    },
    {
      "cell_type": "code",
      "metadata": {
        "id": "nzl7G2J6C7IR",
        "outputId": "4dcc71ee-9821-44c8-f893-2b57d242d9ed"
      },
      "source": [
        "# When things go wrong, an exception is raised.  You can\n",
        "# catch it and handle it like so:\n",
        "try:\n",
        "    x = 34 / 'a'\n",
        "except:\n",
        "    x = None\n",
        "print(x)\n"
      ],
      "execution_count": null,
      "outputs": [
        {
          "output_type": "stream",
          "text": [
            "None\n"
          ],
          "name": "stdout"
        }
      ]
    },
    {
      "cell_type": "code",
      "metadata": {
        "id": "LlWMZjRaC8DJ",
        "outputId": "cab9fe0f-8e88-4dc3-b605-23da1056a12e"
      },
      "source": [
        "# The module 'traceback' is very useful to figure out where\n",
        "# exceptions happen, and what happened:\n",
        "import traceback\n",
        "try:\n",
        "    x = 34 / 'a'\n",
        "except:\n",
        "    print(traceback.format_exc())\n"
      ],
      "execution_count": null,
      "outputs": [
        {
          "output_type": "stream",
          "text": [
            "Traceback (most recent call last):\n",
            "  File \"<ipython-input-117-64719c16b023>\", line 5, in <module>\n",
            "    x = 34 / 'a'\n",
            "TypeError: unsupported operand type(s) for /: 'int' and 'str'\n",
            "\n"
          ],
          "name": "stdout"
        }
      ]
    },
    {
      "cell_type": "code",
      "metadata": {
        "id": "Dw70PaQVDdV9",
        "outputId": "ee816c45-5a8f-45fc-b757-7fcd3d4c4f75"
      },
      "source": [
        "# You can also define and raise your own exceptions,\n",
        "# which are defined similarly to classes:\n",
        "class Indigestion(Exception):\n",
        "    pass\n",
        "\n",
        "def eat(m, l):\n",
        "    if len(l) > 2:\n",
        "        raise Indigestion()\n",
        "    return m + l\n",
        "\n",
        "l = ['eggs', 'bacon', 'peanuts']\n",
        "\n",
        "try:\n",
        "    eat(['bananas'], l)\n",
        "except Indigestion:\n",
        "    print(\"Hey, that's too much.\")\n"
      ],
      "execution_count": null,
      "outputs": [
        {
          "output_type": "stream",
          "text": [
            "Hey, that's too much.\n"
          ],
          "name": "stdout"
        }
      ]
    },
    {
      "cell_type": "markdown",
      "metadata": {
        "id": "v3CGE72REsXJ"
      },
      "source": [
        "## Classes"
      ]
    },
    {
      "cell_type": "code",
      "metadata": {
        "id": "QkYwW8lIEc1M"
      },
      "source": [
        "# Here is a simple standard class.\n",
        "class Product(object):\n",
        "\n",
        "    def __init__(self, name, price=0., quantity=0):\n",
        "        \"\"\"In the initializer, you should define the values that each object\n",
        "        has.  Here, 'self' means, the object.\"\"\"\n",
        "        self.name = name\n",
        "        self.price = price\n",
        "        self.quantity = quantity\n",
        "\n",
        "    def __repr__(self):\n",
        "        \"\"\"Represents a class element in a reasonable way.\n",
        "        Note the format statement below to help produce a string.\"\"\"\n",
        "        return \"Hello, I am a {} and cost ${}; you have {} of me\".format(\n",
        "            self.name, self.price, self.quantity\n",
        "        )\n",
        "\n",
        "\n",
        "    def inflation(self, x):\n",
        "        \"\"\"Increases the price by a factor x.\n",
        "        Note how self is always the first argument of methods; otherwise,\n",
        "        you would not know to which object to apply the operations.\"\"\"\n",
        "        self.price *= x\n",
        "\n",
        "    def value(self):\n",
        "        \"\"\"Total value of products of this type.\"\"\"\n",
        "        return self.price * self.quantity\n",
        "\n"
      ],
      "execution_count": null,
      "outputs": []
    },
    {
      "cell_type": "code",
      "metadata": {
        "id": "Vjif1xPIOn3L"
      },
      "source": [
        "# Let's make a list of products.\n",
        "cart = [\n",
        "    Product('Pear', price=1.99, quantity=10),\n",
        "    Product('Apple', price=0.99, quantity=15),\n",
        "    Product('Onion', price=1.49, quantity=57)\n",
        "]\n"
      ],
      "execution_count": null,
      "outputs": []
    },
    {
      "cell_type": "code",
      "metadata": {
        "id": "A-np4oPXOmzG",
        "outputId": "ee40ce55-f5f1-4352-e0e5-8d41271306a9"
      },
      "source": [
        "# We can print it; the representation is given by __repr__.\n",
        "for p in cart:\n",
        "    print(p)\n"
      ],
      "execution_count": null,
      "outputs": [
        {
          "output_type": "stream",
          "text": [
            "Hello, I am a Pear and cost $1.99; you have 10 of me\n",
            "Hello, I am a Apple and cost $0.99; you have 15 of me\n",
            "Hello, I am a Onion and cost $1.49; you have 57 of me\n"
          ],
          "name": "stdout"
        }
      ]
    },
    {
      "cell_type": "code",
      "metadata": {
        "id": "bqSkhbxMPYkz",
        "outputId": "3e72b79a-2957-4f30-9a35-e7c642d1ce2e"
      },
      "source": [
        "# What if you buy more apples?\n",
        "# The proper way would be to define a buy method, and write\n",
        "# something like p.buy(10) to buy 10 more.  But in Python, there is\n",
        "# nothing to prevent you from accessing object variables directly.\n",
        "\n",
        "def double_the_cart(c):\n",
        "    for p in c:\n",
        "        p.quantity *= 2\n",
        "\n",
        "double_the_cart(cart)\n",
        "\n",
        "def print_cart(c):\n",
        "    for p in c:\n",
        "        print(p)\n",
        "\n",
        "print_cart(cart)\n"
      ],
      "execution_count": null,
      "outputs": [
        {
          "output_type": "stream",
          "text": [
            "Hello, I am a Pear and cost $1.99; you have 20 of me\n",
            "Hello, I am a Apple and cost $0.99; you have 30 of me\n",
            "Hello, I am a Onion and cost $1.49; you have 114 of me\n"
          ],
          "name": "stdout"
        }
      ]
    },
    {
      "cell_type": "markdown",
      "metadata": {
        "id": "GiIDiPF-QqeS"
      },
      "source": [
        "## A simple event-based simulator"
      ]
    },
    {
      "cell_type": "markdown",
      "metadata": {
        "id": "VXPul2nYSEjT"
      },
      "source": [
        "Let's try to put everything together and design a simple event-based simulator. \n",
        "\n",
        "Every event will have a time at which it happens.  When it happens, it will generate two things: a string that is printed, and a list (possibly empty) of subsequent events. \n",
        "\n",
        "Let us write the code for three event types: one that occurs only once, one that occurs periodically with a certain delay between occurrences forever, and one that occurs periodically, but has a specified maximum number of occurrences."
      ]
    },
    {
      "cell_type": "code",
      "metadata": {
        "id": "ZyGOQoslhva5"
      },
      "source": [
        "# Before we do it, we have to remedy one of the few silly\n",
        "# choices in the design of Python.\n",
        "# There is apparently no sign function!\n",
        "# This is so silly that I can't resist defining one.\n",
        "def sign(x):\n",
        "    if x < 0:\n",
        "        return -1\n",
        "    elif x > 0:\n",
        "        return 1\n",
        "    else:\n",
        "        return 0\n"
      ],
      "execution_count": null,
      "outputs": []
    },
    {
      "cell_type": "code",
      "metadata": {
        "id": "R6NcNyN-Qpda",
        "outputId": "2e7993f5-e49a-46b4-8291-b603ebe7e464"
      },
      "source": [
        "class GenericEvent(object):\n",
        "\n",
        "    def __init__(self, name, time):\n",
        "        self.name = name\n",
        "        self.time = time\n",
        "\n",
        "    def __repr__(self):\n",
        "        return \"Event {} of type {} will occurr at {}\".format(\n",
        "            self.name,\n",
        "            type(self),\n",
        "            self.time.isoformat()\n",
        "        )\n",
        "\n",
        "    def __lt__(self, other):\n",
        "        \"\"\"To sort events according to their time, we need to\n",
        "        implement the __lt__ operator.  This will be used by heapq later.\"\"\"\n",
        "        return self.time < other.time\n",
        "\n",
        "    def _effect(self):\n",
        "        \"\"\"In Python, methods that are supposed to be accessed only within\n",
        "        the class are prepended with _.  Note that this is just a convention;\n",
        "        nothing prevents you from calling these methods from outside the class.\n",
        "        \"\"\"\n",
        "        print(\"At {}: {}\".format(self.time.isoformat(), self.name))\n",
        "\n",
        "    def do(self):\n",
        "        \"\"\"You are supposed to define what happens in each subclass.\"\"\"\n",
        "        raise NotImplementedError\n",
        "\n",
        "# We need the datetime module to process times.\n",
        "import datetime\n",
        "e = GenericEvent('Sun shines', datetime.datetime.now() + datetime.timedelta(hours=1))\n",
        "e\n"
      ],
      "execution_count": null,
      "outputs": [
        {
          "output_type": "execute_result",
          "data": {
            "text/plain": [
              "Event Sun shines of type <class '__main__.GenericEvent'> will occurr at 2021-01-08T00:05:37.169029"
            ]
          },
          "metadata": {
            "tags": []
          },
          "execution_count": 124
        }
      ]
    },
    {
      "cell_type": "code",
      "metadata": {
        "id": "GOn2kj8OTlgG"
      },
      "source": [
        "# Ok.  Now let's define an event that happens once only.\n",
        "class OnceOnlyEvent(GenericEvent):\n",
        "    \"\"\"OnceOnlyEvent extends GenericEvent, and so it inherits all of its\n",
        "    methods, including __repr__, __comp__, _effect.\"\"\"\n",
        "\n",
        "    def __init__(self, name, time):\n",
        "        # We simply define an element of the superclass.\n",
        "        # Here, super(OnceOnlyEvent, self) is the Python way for getting\n",
        "        # access to the superclass methods from a subclass.\n",
        "        super().__init__(name, time)\n",
        "\n",
        "    def do(self):\n",
        "        self._effect()\n",
        "        # No other events are generated.\n",
        "        return []\n"
      ],
      "execution_count": null,
      "outputs": []
    },
    {
      "cell_type": "code",
      "metadata": {
        "id": "oU9pf8fwU9Gx"
      },
      "source": [
        "class InfinitePeriodicEvent(GenericEvent):\n",
        "    \"\"\"This is a periodic event.\"\"\"\n",
        "\n",
        "    def __init__(self, name, time, periodicity):\n",
        "        \"\"\"time is a datetime object; periodicity is expressed as a timedelta object.\"\"\"\n",
        "        super().__init__(name, time)\n",
        "        self.periodicity = periodicity\n",
        "\n",
        "    def do(self):\n",
        "        self._effect()\n",
        "        # Generates and returns the next occurrence of the event.\n",
        "        next_event = PeriodicEvent(\n",
        "            self.name,\n",
        "            self.time + self.periodicity,\n",
        "            self.periodicity\n",
        "        )\n",
        "        return [next_event]\n",
        "\n",
        "\n"
      ],
      "execution_count": null,
      "outputs": []
    },
    {
      "cell_type": "code",
      "metadata": {
        "id": "JBDmQKy_WGiq"
      },
      "source": [
        "class PeriodicEvent(GenericEvent):\n",
        "    \"\"\"This is a periodic event like above, except that it has\n",
        "    an optional maximum number of occurrences.\"\"\"\n",
        "\n",
        "    def __init__(self, name, time, periodicity, num_occurrences=None):\n",
        "        \"\"\"\n",
        "        Let's document this constructor a bit better.\n",
        "        @param name: name of the event.\n",
        "        @param time: time of first occurrence of the event (datetime object).\n",
        "        @param periodicity: periodicity of the event (timedelta object).\n",
        "        @param num_occurrences: number of future occurrences of the event.\n",
        "            If None, then infinite future occurrences can happen.\n",
        "\n",
        "        \"\"\"\n",
        "        assert num_occurrences is None or num_occurrences > 0\n",
        "        # We don't want to go back in time!\n",
        "        assert periodicity.total_seconds() > 0.\n",
        "        super().__init__(name, time)\n",
        "        self.periodicity = periodicity\n",
        "        self.num_occurrences = num_occurrences\n",
        "\n",
        "    def do(self):\n",
        "        self._effect()\n",
        "        # Generates and returns the next occurrence of the event.\n",
        "        if self.num_occurrences is None or self.num_occurrences > 1:\n",
        "            return [PeriodicEvent(\n",
        "                self.name,\n",
        "                self.time + self.periodicity,\n",
        "                self.periodicity,\n",
        "                num_occurrences = None if self.num_occurrences is None\n",
        "                                  else self.num_occurrences - 1\n",
        "            )]\n",
        "        else:\n",
        "            return []\n"
      ],
      "execution_count": null,
      "outputs": []
    },
    {
      "cell_type": "markdown",
      "metadata": {
        "id": "paW7emunYCI8"
      },
      "source": [
        "Great.  Now, let's define our discrete event simulator.  It will be a class, have a method to add new events to it, and it will have a method step(), which causes the next event to occur. \n",
        "\n",
        "In order to quickly determine which one is the next event, \n",
        "we will store events in a priority queue.  This is implemented via the heapq module, whose documentation is at https://docs.python.org/2/library/heapq.html"
      ]
    },
    {
      "cell_type": "code",
      "metadata": {
        "id": "QMKRcWMOX3dY"
      },
      "source": [
        "class EventSimulator(object):\n",
        "\n",
        "    def __init__(self, event_list=None):\n",
        "        # It would be better to use a heap, but for simplicity,\n",
        "        # we use a list.\n",
        "        self.event_list = event_list or []\n",
        "        # .sort() uses __lt__ for GenericEvent;\n",
        "        # see https://docs.python.org/3/howto/sorting.html#odd-and-ends\n",
        "        self.event_list.sort()\n",
        "        # Or I could also sort wrt a key.\n",
        "        # self.event_list.sort(key = lambda event : event.time)\n",
        "\n",
        "    def add_event(self, e):\n",
        "        \"\"\"Adds an event e, maintaining the heap invariant.\"\"\"\n",
        "        self.event_list.append(e)\n",
        "        # .sort() uses __lt__ for GenericEvent;\n",
        "        # see https://docs.python.org/3/howto/sorting.html#odd-and-ends\n",
        "        self.event_list.sort()\n",
        "\n",
        "    def step(self):\n",
        "        \"\"\"Performs one step of the event simulator.\"\"\"\n",
        "        # Gets the first event.\n",
        "        e = self.event_list.pop(0)\n",
        "        # Causes e to happen.\n",
        "        generated_events = e.do()\n",
        "        # And inserts the resulting events into the heap of future events.\n",
        "        for ge in generated_events:\n",
        "            self.add_event(ge)\n"
      ],
      "execution_count": null,
      "outputs": []
    },
    {
      "cell_type": "code",
      "metadata": {
        "id": "-Va0ZFeOcnvy"
      },
      "source": [
        "# That's all there is to it.  Now let's try how it works.\n",
        "# We generate a couple of events that happen only once:\n",
        "now = datetime.datetime.now()\n",
        "ten_secs = datetime.timedelta(seconds=10)\n",
        "twentyfive_secs = datetime.timedelta(seconds=25)\n",
        "\n",
        "once1 = OnceOnlyEvent(\"once1\", now + ten_secs)\n",
        "once2 = OnceOnlyEvent(\"once2\", now + twentyfive_secs)\n"
      ],
      "execution_count": null,
      "outputs": []
    },
    {
      "cell_type": "code",
      "metadata": {
        "id": "Ebb1lJlAdPdj"
      },
      "source": [
        "# Let's also define two periodic events, one with 3 occurrences,\n",
        "# the other with infinite occurrences.\n",
        "two_secs = datetime.timedelta(seconds=2)\n",
        "three_secs = datetime.timedelta(seconds=3)\n",
        "\n",
        "periodic1 = PeriodicEvent(\"periodic1\", now + ten_secs, three_secs, num_occurrences=7)\n",
        "periodic2 = PeriodicEvent(\"periodic2\", now + twentyfive_secs, three_secs)\n"
      ],
      "execution_count": null,
      "outputs": []
    },
    {
      "cell_type": "code",
      "metadata": {
        "id": "njwkT706eXLm"
      },
      "source": [
        "# Let's create our event simulator.\n",
        "sim = EventSimulator([once1, once2, periodic1, periodic2])\n"
      ],
      "execution_count": null,
      "outputs": []
    },
    {
      "cell_type": "code",
      "metadata": {
        "id": "LsjIFxY-g3P7",
        "outputId": "77942fd1-9c91-4f75-fe77-bba2413d34a5"
      },
      "source": [
        "sim.step()\n"
      ],
      "execution_count": null,
      "outputs": [
        {
          "output_type": "stream",
          "text": [
            "At 2021-01-07T23:05:47.261550: once1\n"
          ],
          "name": "stdout"
        }
      ]
    },
    {
      "cell_type": "code",
      "metadata": {
        "id": "JuNMeyDYiNFs",
        "outputId": "461df4bc-337d-4d45-fe7e-214275b615ff"
      },
      "source": [
        "# What's in the event queue?\n",
        "sim.event_list\n"
      ],
      "execution_count": null,
      "outputs": [
        {
          "output_type": "execute_result",
          "data": {
            "text/plain": [
              "[Event periodic1 of type <class '__main__.PeriodicEvent'> will occurr at 2021-01-07T23:05:47.261550,\n",
              " Event once2 of type <class '__main__.OnceOnlyEvent'> will occurr at 2021-01-07T23:06:02.261550,\n",
              " Event periodic2 of type <class '__main__.PeriodicEvent'> will occurr at 2021-01-07T23:06:02.261550]"
            ]
          },
          "metadata": {
            "tags": []
          },
          "execution_count": 133
        }
      ]
    },
    {
      "cell_type": "code",
      "metadata": {
        "id": "SpxS_5SYioUv",
        "outputId": "e5238d84-57ec-4afb-8ea9-9ae8f9284d3c"
      },
      "source": [
        "# Let's do 20 steps now.\n",
        "for _ in range(20):\n",
        "    sim.step()\n",
        "sim.event_list\n"
      ],
      "execution_count": null,
      "outputs": [
        {
          "output_type": "stream",
          "text": [
            "At 2021-01-07T23:05:47.261550: periodic1\n",
            "At 2021-01-07T23:05:50.261550: periodic1\n",
            "At 2021-01-07T23:05:53.261550: periodic1\n",
            "At 2021-01-07T23:05:56.261550: periodic1\n",
            "At 2021-01-07T23:05:59.261550: periodic1\n",
            "At 2021-01-07T23:06:02.261550: once2\n",
            "At 2021-01-07T23:06:02.261550: periodic2\n",
            "At 2021-01-07T23:06:02.261550: periodic1\n",
            "At 2021-01-07T23:06:05.261550: periodic2\n",
            "At 2021-01-07T23:06:05.261550: periodic1\n",
            "At 2021-01-07T23:06:08.261550: periodic2\n",
            "At 2021-01-07T23:06:11.261550: periodic2\n",
            "At 2021-01-07T23:06:14.261550: periodic2\n",
            "At 2021-01-07T23:06:17.261550: periodic2\n",
            "At 2021-01-07T23:06:20.261550: periodic2\n",
            "At 2021-01-07T23:06:23.261550: periodic2\n",
            "At 2021-01-07T23:06:26.261550: periodic2\n",
            "At 2021-01-07T23:06:29.261550: periodic2\n",
            "At 2021-01-07T23:06:32.261550: periodic2\n",
            "At 2021-01-07T23:06:35.261550: periodic2\n"
          ],
          "name": "stdout"
        },
        {
          "output_type": "execute_result",
          "data": {
            "text/plain": [
              "[Event periodic2 of type <class '__main__.PeriodicEvent'> will occurr at 2021-01-07T23:06:38.261550]"
            ]
          },
          "metadata": {
            "tags": []
          },
          "execution_count": 134
        }
      ]
    },
    {
      "cell_type": "markdown",
      "metadata": {
        "id": "GhXCeYkojMl9"
      },
      "source": [
        "*That's All, Folks!*"
      ]
    }
  ]
}