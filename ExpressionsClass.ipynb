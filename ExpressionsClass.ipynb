{
  "nbformat": 4,
  "nbformat_minor": 0,
  "metadata": {
    "colab": {
      "name": "ExpressionsClass.ipynb",
      "provenance": [],
      "collapsed_sections": [],
      "authorship_tag": "ABX9TyOw2v5M4XrpwslcFM8hNrFt",
      "include_colab_link": true
    },
    "kernelspec": {
      "name": "python3",
      "display_name": "Python 3"
    }
  },
  "cells": [
    {
      "cell_type": "markdown",
      "metadata": {
        "id": "view-in-github",
        "colab_type": "text"
      },
      "source": [
        "<a href=\"https://colab.research.google.com/github/hyweisky/gwings/blob/master/ExpressionsClass.ipynb\" target=\"_parent\"><img src=\"https://colab.research.google.com/assets/colab-badge.svg\" alt=\"Open In Colab\"/></a>"
      ]
    },
    {
      "cell_type": "markdown",
      "metadata": {
        "id": "ZTHbIAQ3TgUA"
      },
      "source": [
        "Defining an expression class\r\n",
        "We define an abstract class Expr, representing a generic expression. This generic class has as subclasses the classes that represent the various operators, such as Plus, Minus, Multiply, as well as the variable class V. Here is our basic implementation."
      ]
    },
    {
      "cell_type": "code",
      "metadata": {
        "id": "x7TS7PH_TqHf"
      },
      "source": [
        "class Expr(object):\r\n",
        "    \"\"\"Abstract class representing expressions\"\"\"\r\n",
        "\r\n",
        "    name = \"expr\" # Not used, but just to define it.\r\n",
        "\r\n",
        "    def __init__(self, *args):\r\n",
        "        \"\"\"An object is created by passing to the constructor the children\"\"\"\r\n",
        "        self.children = args\r\n",
        "        self.value = None # The value of the expression\r\n",
        "        self.child_values = None # The values of the children; useful to have\r\n",
        "\r\n",
        "    def eval(self):\r\n",
        "        \"\"\"Evaluates the expression.\"\"\"\r\n",
        "        # First, we evaluate the children.\r\n",
        "        self.child_values = [c.eval() if isinstance(c, Expr) else c\r\n",
        "                             for c in self.children]\r\n",
        "        # Then, we evaluate the expression itself.\r\n",
        "        self.value = self.op(*self.child_values)\r\n",
        "        return self.value\r\n",
        "\r\n",
        "    def op(self):\r\n",
        "        \"\"\"This operator must be implemented in subclasses; it should\r\n",
        "        compute self.value from self.values, thus implementing the\r\n",
        "        operator at the expression node.\"\"\"\r\n",
        "        raise NotImplementedError()\r\n",
        "\r\n",
        "    def __repr__(self):\r\n",
        "        \"\"\"Represents the expression in a somewhat readable way.\"\"\"\r\n",
        "        if len(self.children) == 1:\r\n",
        "            # Unary operators\r\n",
        "            return \"({}{})\".format(self.__class__.name, self.children[0])\r\n",
        "        elif len(self.children) == 2:\r\n",
        "            return \"({} {} {})\".format(\r\n",
        "                self.children[0], self.__class__.name, self.children[1]\r\n",
        "            )\r\n",
        "        # Catch-all.\r\n",
        "        return \"{}({})\".format(self.__class__.__name__,\r\n",
        "                                ', '.join(repr(c) for c in self.children))\r\n",
        "\r\n",
        "    # Expression constructors\r\n",
        "\r\n",
        "    def __add__(self, other):\r\n",
        "        return Plus(self, other)\r\n",
        "\r\n",
        "    def __radd__(self, other):\r\n",
        "        return Plus(self, other)\r\n",
        "\r\n",
        "    def __sub__(self, other):\r\n",
        "        return Minus(self, other)\r\n",
        "\r\n",
        "    def __rsub__(self, other):\r\n",
        "        return Minus(other, self)\r\n",
        "\r\n",
        "    def __mul__(self, other):\r\n",
        "        return Multiply(self, other)\r\n",
        "\r\n",
        "    def __rmul__(self, other):\r\n",
        "        return Multiply(other, self)\r\n",
        "\r\n",
        "    def __truediv__(self, other):\r\n",
        "        return Divide(self, other)\r\n",
        "\r\n",
        "    def __rtruediv__(self, other):\r\n",
        "        return Divide(other, self)\r\n",
        "\r\n",
        "    def __neg__(self):\r\n",
        "        return Negative(self)\r\n"
      ],
      "execution_count": null,
      "outputs": []
    },
    {
      "cell_type": "markdown",
      "metadata": {
        "id": "RC4UX7wsT40Y"
      },
      "source": [
        "\r\n",
        "\r\n",
        "Variables are created specifying a name, and an initial value. If nothing is specified, variables have random initial values. You can assign a value to a variable using the assign method. The eval method of a variable simply returns its value.\r\n",
        "\r\n",
        "\r\n",
        "\r\n"
      ]
    },
    {
      "cell_type": "code",
      "metadata": {
        "id": "OZ0WWwu0T7V_"
      },
      "source": [
        "import random\r\n",
        "import string\r\n",
        "\r\n",
        "class V(Expr):\r\n",
        "    \"\"\"Variable.\"\"\"\r\n",
        "\r\n",
        "    def __init__(self, value=None):\r\n",
        "        super().__init__()\r\n",
        "        self.children = []\r\n",
        "        self.value = random.gauss(0, 1) if value is None else value\r\n",
        "        self.name = ''.join(\r\n",
        "            random.choices(string.ascii_letters + string.digits, k=3))\r\n",
        "\r\n",
        "    def eval(self):\r\n",
        "        return self.value\r\n",
        "\r\n",
        "    def assign(self, value):\r\n",
        "        self.value = value\r\n",
        "\r\n",
        "    def __repr__(self):\r\n",
        "        return \"V({}, value={})\".format(self.name, self.value)"
      ],
      "execution_count": null,
      "outputs": []
    },
    {
      "cell_type": "markdown",
      "metadata": {
        "id": "868cl4hMUInf"
      },
      "source": [
        "Here are the constructors for the other operators; for them, we just need to provide an implementation for op, since all the rest is inherited from Expr. We actually also define a name, as a class attribute, that we use in the representation method."
      ]
    },
    {
      "cell_type": "code",
      "metadata": {
        "id": "U9hlWoHsUJk2"
      },
      "source": [
        "class Plus(Expr):\r\n",
        "    name = \"+\"\r\n",
        "    def op(self, x, y):\r\n",
        "        return x + y\r\n",
        "\r\n",
        "class Minus(Expr):\r\n",
        "    name = \"-\"\r\n",
        "    def op(self, x, y):\r\n",
        "        return x - y\r\n",
        "\r\n",
        "class Multiply(Expr):\r\n",
        "    name = \"*\"\r\n",
        "    def op(self, x, y):\r\n",
        "        return x * y\r\n",
        "\r\n",
        "class Divide(Expr):\r\n",
        "    name = \"/\"\r\n",
        "    def op(self, x, y):\r\n",
        "        return x / y\r\n",
        "\r\n",
        "class Negative(Expr):\r\n",
        "    name = \"-\"\r\n",
        "    def op(self, x):\r\n",
        "        return -x"
      ],
      "execution_count": null,
      "outputs": []
    },
    {
      "cell_type": "markdown",
      "metadata": {
        "id": "ckLvAL4BUSTf"
      },
      "source": [
        "# We can build and evaluate expressions quite simply."
      ]
    },
    {
      "cell_type": "code",
      "metadata": {
        "colab": {
          "base_uri": "https://localhost:8080/"
        },
        "id": "q1_agjZNUOR3",
        "outputId": "44765f42-c490-4132-8a9a-2ca978531682"
      },
      "source": [
        "e = V(2) + 3\r\n",
        "print(type(e))\r\n",
        "print(e.eval())\r\n",
        "\r\n",
        "e = (V() + V(2)) * (2 + V(1))\r\n",
        "print(e)\r\n",
        "print(e.eval())"
      ],
      "execution_count": null,
      "outputs": [
        {
          "output_type": "stream",
          "text": [
            "<class '__main__.Plus'>\n",
            "5\n",
            "((V(9hp, value=-0.34519492056815754) + V(FUp, value=2)) * (V(7tx, value=1) + 2))\n",
            "4.964415238295528\n"
          ],
          "name": "stdout"
        }
      ]
    },
    {
      "cell_type": "markdown",
      "metadata": {
        "id": "rHSh-AeXUd0H"
      },
      "source": [
        "If we want to be able to assign values to variables, or refer to them in our code later, we need to assign our variable objects to Python variables:"
      ]
    },
    {
      "cell_type": "code",
      "metadata": {
        "colab": {
          "base_uri": "https://localhost:8080/"
        },
        "id": "ewLCPjdFUWJi",
        "outputId": "519d502c-de9b-4fad-a983-51b3ae00c233"
      },
      "source": [
        "x = V()\r\n",
        "y = V()\r\n",
        "e = x + y\r\n",
        "print(e.eval()) # This uses the initial random values.\r\n",
        "\r\n",
        "x.assign(2)\r\n",
        "y.assign(3)\r\n",
        "print(e.eval())\r\n"
      ],
      "execution_count": null,
      "outputs": [
        {
          "output_type": "stream",
          "text": [
            "-1.655549907584903\n",
            "5\n"
          ],
          "name": "stdout"
        }
      ]
    },
    {
      "cell_type": "markdown",
      "metadata": {
        "id": "HzFsiiBSU2Nf"
      },
      "source": [
        "# Defining Expression Equality\r\n",
        "If we test equality between expressions, we are in for a surprise."
      ]
    },
    {
      "cell_type": "code",
      "metadata": {
        "colab": {
          "base_uri": "https://localhost:8080/"
        },
        "id": "D85AK4nOUhay",
        "outputId": "36ad9c50-809c-47ad-9de3-7694e60c4b8b"
      },
      "source": [
        "x = V()\r\n",
        "e1 = x + 4\r\n",
        "e2 = x + 4\r\n",
        "e1 == e2"
      ],
      "execution_count": null,
      "outputs": [
        {
          "output_type": "execute_result",
          "data": {
            "text/plain": [
              "False"
            ]
          },
          "metadata": {
            "tags": []
          },
          "execution_count": 326
        }
      ]
    },
    {
      "cell_type": "markdown",
      "metadata": {
        "id": "OCbDmhaKU-ou"
      },
      "source": [
        "# Why is the result False?\r\n",
        "\r\n",
        "Python knows how to compare objects that belong to its own types. So you can do comparisons between strings, numbers, tuples, and more, and it all works as expected. This is why we could check equality of expressions represented as trees: those expression trees are composed entirely of standard Python types, namely, strings, numbers, and tuples.\r\n",
        "\r\n",
        "However, Expr, V, etc, are classes we defined, and Python has no idea of what it means for objects of user-defined classes to be equal.\r\n",
        "In this case, Python defaults to considering equal two objects if they are the same object. The two expressions e1 and e2 above are not the same object: they are two distinct objects, which just happen to represent the same expression.\r\n",
        "\r\n",
        "If we want to have a notion of expression equality that represents our idea that \"two expression objects are equal if they represent the same expression\", we need to define equality ourselves. This can be easily done, by defining an _ _ eq _ _ method. This method has the form:\r\n",
        "\r\n",
        "def __eq__(self, other):\r\n",
        "    ...\r\n",
        "    return <True/False>\r\n",
        "\r\n",
        "Here, self is the object on which the method is called, and other is another object -- any other object. Our job is to define when the object self is equal to the object other. This can be easily done; using again our way of adding methods to existing classes, we write:"
      ]
    },
    {
      "cell_type": "code",
      "metadata": {
        "id": "gB0dGvn7U6lX"
      },
      "source": [
        "def expr_eq(self, other):\r\n",
        "    if isinstance(other, Expr):\r\n",
        "        # The operators have to be the same\r\n",
        "        if self.__class__ != other.__class__:\r\n",
        "            return False\r\n",
        "        # and their corresponding children need to be equal\r\n",
        "        if len(self.children) != len(other.children):\r\n",
        "            return False\r\n",
        "        for c1, c2 in zip(self.children, other.children):\r\n",
        "            if c1 != c2: return False\r\n",
        "        return True\r\n",
        "    else:\r\n",
        "        return False\r\n",
        "\r\n",
        "Expr.__eq__ = expr_eq"
      ],
      "execution_count": null,
      "outputs": []
    },
    {
      "cell_type": "markdown",
      "metadata": {
        "id": "sWiDZqk6VO2p"
      },
      "source": [
        "If we did not define equality for variables, two variables would be considered equal according to Expr.__eq__, since V is a subclass of Expr. This would yield non-intended consequences (all variables would be considered equal).\r\n",
        "\r\n",
        "Thus, we define equality for variables to be the basic equality for objects: two variables are equal iff they are the same object. In the definition below, object.__eq__ is this primitive notion of equality, defined over the class object of Python, which is the base class for all classes."
      ]
    },
    {
      "cell_type": "code",
      "metadata": {
        "colab": {
          "base_uri": "https://localhost:8080/"
        },
        "id": "hNCD61_OVLeN",
        "outputId": "8a52648e-f189-4069-c7cf-f0048bf14948"
      },
      "source": [
        "#Test object.eq\r\n",
        "V.__eq__  = object.__eq__\r\n",
        "x = V()\r\n",
        "y = V()\r\n",
        "z = x\r\n",
        "print(x == y)\r\n",
        "print(x == z)"
      ],
      "execution_count": null,
      "outputs": [
        {
          "output_type": "stream",
          "text": [
            "False\n",
            "True\n"
          ],
          "name": "stdout"
        }
      ]
    },
    {
      "cell_type": "markdown",
      "metadata": {
        "id": "6qJSUhu1Ve2e"
      },
      "source": [
        "# Once expression equality is thus defined, we get the expected result when we compare expressions:"
      ]
    },
    {
      "cell_type": "code",
      "metadata": {
        "colab": {
          "base_uri": "https://localhost:8080/"
        },
        "id": "H6Oz6P-7VTgz",
        "outputId": "460e347d-62db-4f01-dcbf-d6079346cf98"
      },
      "source": [
        "x = V()\r\n",
        "e1 = x + 4\r\n",
        "e2 = x + 4\r\n",
        "e1 == e2"
      ],
      "execution_count": null,
      "outputs": [
        {
          "output_type": "execute_result",
          "data": {
            "text/plain": [
              "True"
            ]
          },
          "metadata": {
            "tags": []
          },
          "execution_count": 329
        }
      ]
    },
    {
      "cell_type": "markdown",
      "metadata": {
        "id": "m-6RLX-5Vpbv"
      },
      "source": [
        "Having to define equality \"by hand\" is very pedantic, but it does give us the flexibility of defining precisely what it means for two expressions to be equal.\r\n",
        "\r\n",
        "Variable Occurrence\r\n",
        "Now that we have expressions, let us play with them. First, as a warm-up exercise, let us write an occurs method for expressions, which checks if a given variable occurs in the expression. First we define it for a variable: of course, a variable occurs in itself only if the variable is the same as the one whose occurrence we are checking."
      ]
    },
    {
      "cell_type": "markdown",
      "metadata": {
        "id": "EhfG0bG6VtkC"
      },
      "source": [
        "# Question 1: Variable occurrence in variables"
      ]
    },
    {
      "cell_type": "code",
      "metadata": {
        "id": "EMqBN-AvVkzb"
      },
      "source": [
        "### Variable occurrence in a variable\r\n",
        "\r\n",
        "def v_contains(self, var):\r\n",
        "    \"\"\"Returns True of var is the same as self, and False otherwise.\"\"\"\r\n",
        "    ### YOUR CODE HERE\r\n",
        "    return var==self\r\n",
        "\r\n",
        "V.__contains__ = v_contains\r\n"
      ],
      "execution_count": null,
      "outputs": []
    },
    {
      "cell_type": "code",
      "metadata": {
        "colab": {
          "base_uri": "https://localhost:8080/"
        },
        "id": "RSVFOMdYaoQH",
        "outputId": "1659becb-35df-44d5-cace-e49860385592"
      },
      "source": [
        "## Here you can also test your code. \r\n",
        "\r\n",
        "x = V()\r\n",
        "y = V()\r\n",
        "print(x in x)\r\n",
        "print(x in y)\r\n",
        "\r\n",
        "\r\n",
        "### Tests for variable occurrence\r\n",
        "\r\n",
        "x = V()\r\n",
        "y = V()\r\n",
        "assert x in x\r\n",
        "assert not x in y\r\n",
        "z = x\r\n",
        "assert x in z"
      ],
      "execution_count": null,
      "outputs": [
        {
          "output_type": "stream",
          "text": [
            "True\n",
            "False\n"
          ],
          "name": "stdout"
        }
      ]
    },
    {
      "cell_type": "markdown",
      "metadata": {
        "id": "vG_lgXAAV5f_"
      },
      "source": [
        "# Question 2: Occurrence of a variable in an expression\r\n",
        "Once we define occurrence of a variable in a variable, we can define occurrence in a variable in a general expression. Of course, a variable appears in an expression if it appears in some of its children."
      ]
    },
    {
      "cell_type": "code",
      "metadata": {
        "id": "fAxSRTEqVzzF"
      },
      "source": [
        "### Occurrence of a variable in an expression\r\n",
        "\r\n",
        "def expr_contains(self, var):\r\n",
        "    ### YOUR CODE HERE\r\n",
        "    contains=False\r\n",
        "    if isinstance(self, V):\r\n",
        "      return self==var\r\n",
        "    for v in self.children:\r\n",
        "      if isinstance(v, Expr):\r\n",
        "        contains=contains | expr_contains(v,var)\r\n",
        "      elif v==var:contains=True\r\n",
        "    return contains\r\n",
        "\r\n",
        "Expr.__contains__ = expr_contains"
      ],
      "execution_count": null,
      "outputs": []
    },
    {
      "cell_type": "code",
      "metadata": {
        "colab": {
          "base_uri": "https://localhost:8080/"
        },
        "id": "OA9FC0TMhmjd",
        "outputId": "e4d2b996-bbd1-4a52-8310-6d892eccc969"
      },
      "source": [
        "## Here you can also test your code. \r\n",
        "\r\n",
        "x = V()\r\n",
        "y = V()\r\n",
        "z = V()\r\n",
        "e = x+(2+y)\r\n",
        "\r\n",
        "print(x in e)\r\n",
        "print(y in e)\r\n",
        "print(z in e)"
      ],
      "execution_count": null,
      "outputs": [
        {
          "output_type": "stream",
          "text": [
            "True\n",
            "True\n",
            "False\n"
          ],
          "name": "stdout"
        }
      ]
    },
    {
      "cell_type": "code",
      "metadata": {
        "id": "cTbLo5pWWEZk"
      },
      "source": [
        "## Tests for occurrence: 5 points. \r\n",
        "\r\n",
        "x = V()\r\n",
        "y = V()\r\n",
        "z = V()\r\n",
        "e = x + (2 * y)\r\n",
        "\r\n",
        "assert x in e\r\n",
        "assert y in e\r\n",
        "assert z not in e\r\n",
        "\r\n",
        "\r\n",
        "## Hidden tests for occurrence: 5 points. "
      ],
      "execution_count": null,
      "outputs": []
    },
    {
      "cell_type": "markdown",
      "metadata": {
        "id": "qut93jsaWUPO"
      },
      "source": [
        "# Variable Substitution\r\n",
        "Another fun thing we can do is substitute a variable with an expression. Suppose you define an expression:\r\n",
        "\r\n",
        "x = V()\r\n",
        "\r\n",
        "y = V()\r\n",
        "\r\n",
        "e = (x + 1) * (y + 1)\r\n",
        "#Suppose you also have another expression:\r\n",
        "\r\n",
        "z = V()\r\n",
        "\r\n",
        "f = y + z\r\n",
        "#Then, you can replace all occurrences of variable x in e with expression f:\r\n",
        "\r\n",
        "new_e = e.replace(x, f)\r\n",
        "#and new_e should be then equal to:\r\n",
        "\r\n",
        "((y + z) + 1) * (y + 1)"
      ]
    },
    {
      "cell_type": "markdown",
      "metadata": {
        "id": "8yi_RpgpWrOQ"
      },
      "source": [
        "Let us implement variable substitution. Let us begin by defining variable substitution for variables.\r\n",
        "\r\n",
        "\r\n",
        "# Question 3: Variable replacement for variables"
      ]
    },
    {
      "cell_type": "code",
      "metadata": {
        "id": "VM3Pb39XWZqL"
      },
      "source": [
        "### Variable replacement in variables\r\n",
        "\r\n",
        "def v_replace(self, x, e):\r\n",
        "    \"\"\"If self is x, replaces all occurrences of x with e.\"\"\"\r\n",
        "    ### YOUR CODE HERE\r\n",
        "    if self==x:\r\n",
        "      self=e\r\n",
        "    return self\r\n",
        "V.replace = v_replace"
      ],
      "execution_count": null,
      "outputs": []
    },
    {
      "cell_type": "code",
      "metadata": {
        "colab": {
          "base_uri": "https://localhost:8080/"
        },
        "id": "hscgvh3rWy7h",
        "outputId": "cd35b719-8d84-4daf-bb30-b43d830e0e97"
      },
      "source": [
        "## Here you can also test your code\r\n",
        "\r\n",
        "x = V()\r\n",
        "y = V()\r\n",
        "z = V()\r\n",
        "print(x.replace(x, x+y))\r\n",
        "print(x == x.replace(x, x))\r\n",
        "print(y == x.replace(x, y))\r\n",
        "print(x == x.replace(y, z))"
      ],
      "execution_count": null,
      "outputs": [
        {
          "output_type": "stream",
          "text": [
            "(V(T0j, value=0.11098013540054927) + V(iNh, value=0.2901431232758615))\n",
            "True\n",
            "True\n",
            "True\n"
          ],
          "name": "stdout"
        }
      ]
    },
    {
      "cell_type": "code",
      "metadata": {
        "id": "Wfvjy6OFW2T6"
      },
      "source": [
        "## Tests for variable replacement in variables. 2 points. \r\n",
        "x = V()\r\n",
        "y = V()\r\n",
        "z = V()\r\n",
        "assert x == x.replace(x, x)\r\n",
        "assert y == x.replace(x, y)\r\n",
        "assert x == x.replace(y, z)\r\n",
        "assert x.replace(x, y).replace(y, z) == z"
      ],
      "execution_count": null,
      "outputs": []
    },
    {
      "cell_type": "code",
      "metadata": {
        "id": "R-vopwDmW5pY"
      },
      "source": [
        "## Other tests for variable replacement. 2 points. \r\n",
        "\r\n",
        "x = V()\r\n",
        "y = V()\r\n",
        "\r\n",
        "e = x.replace(x, y + 3 * x)\r\n",
        "\r\n",
        "x.assign(2)\r\n",
        "y.assign(3)\r\n",
        "assert e.eval() == 9\r\n",
        "## Hidden tests for variable replacement.  2 points. "
      ],
      "execution_count": null,
      "outputs": []
    },
    {
      "cell_type": "markdown",
      "metadata": {
        "id": "Q4oErpkdXE-G"
      },
      "source": [
        "We now define variable replacement for expressions. Consider a simple expression:\r\n",
        "\r\n",
        "x = V()\r\n",
        "\r\n",
        "y = V()\r\n",
        "\r\n",
        "z = V()\r\n",
        "\r\n",
        "e = x + y\r\n",
        "\r\n",
        "Suppose we want to return e.replace(x, z). The idea is:\r\n",
        "\r\n",
        "carry out the replacement for each child (via a recursive call, as usual),\r\n",
        "then return an expression built out of the replacements.\r\n",
        "For instance, consider e = x + y. To compute\r\n",
        "\r\n",
        "e.replace(x, z)\r\n",
        "we first replace x with z, and then we return Plus(z, y).\r\n",
        "\r\n",
        "The problem is exactly in the last sentence. A Plus object, after carrying out the replacement in the children, should return a Plus object with the new children. Similarly, a Minus object should return a Minus object, a Multiply object should return a Multiply object, and so forth. If we implement this in the straightforward way, we need to add a replace method to all of these classes, so that they can return an object of the appropriate type. This is a lot of work.\r\n",
        "\r\n",
        "Is there a better way? It turns out, yes. In an object,\r\n",
        "\r\n",
        "self.__class__\r\n",
        "is the class of the object. So if you want to return a new object of the same class, created say with arguments x and y, all you need to do is:\r\n",
        "\r\n",
        "self.__class__(x, y)\r\n",
        "In this way, if you are in a Plus object, self.__class__ is Plus, and everything works. Using this idea, we, that is, you, can implement the replacement method directly for the Expr class."
      ]
    },
    {
      "cell_type": "markdown",
      "metadata": {
        "id": "HXz4PB65XIGm"
      },
      "source": [
        "# Question 4: Replacement for expressions"
      ]
    },
    {
      "cell_type": "code",
      "metadata": {
        "id": "MmEsviuWW8-z"
      },
      "source": [
        "### Replacement for expressions\r\n",
        "\r\n",
        "def expr_replace(self, x, e):\r\n",
        "    ### YOUR CODE HERE\r\n",
        "    childs=[]\r\n",
        "    if x in self:\r\n",
        "      for c in self.children:\r\n",
        "        if isinstance(c,V) or isinstance(c,Expr):     \r\n",
        "          childs.append(c.replace(x,e))\r\n",
        "        else:\r\n",
        "          childs.append(c)\r\n",
        "    else:\r\n",
        "      return self\r\n",
        "    return self.__class__(*childs)\r\n",
        "Expr.replace = expr_replace\r\n"
      ],
      "execution_count": null,
      "outputs": []
    },
    {
      "cell_type": "code",
      "metadata": {
        "colab": {
          "base_uri": "https://localhost:8080/"
        },
        "id": "nBCQMD00thhO",
        "outputId": "deeecd6f-f07e-4d43-f817-1d692fe26ad5"
      },
      "source": [
        "### Here you can debug your code. \r\n",
        "\r\n",
        "x = V()\r\n",
        "y = V()\r\n",
        "z = V()\r\n",
        "\r\n",
        "e = (1 + x) * (1 + y)\r\n",
        "x.assign(1)\r\n",
        "y.assign(2)\r\n",
        "z.assign(3)\r\n",
        "# e = x * (y+1)\r\n",
        "print(x,y,z,e.eval())\r\n",
        "f = e.replace(x, x + z)\r\n",
        "\r\n",
        "print(f.eval())\r\n",
        "\r\n"
      ],
      "execution_count": null,
      "outputs": [
        {
          "output_type": "stream",
          "text": [
            "V(L6F, value=1) V(S4t, value=2) V(kHe, value=3) 6\n",
            "15\n"
          ],
          "name": "stdout"
        }
      ]
    },
    {
      "cell_type": "code",
      "metadata": {
        "id": "6YQ5xiMvtlCa"
      },
      "source": [
        "### Tests for expression replacement. 7 points. \r\n",
        "\r\n",
        "x = V()\r\n",
        "y = V()\r\n",
        "z = V()\r\n",
        "\r\n",
        "e = (1 + x) * (1 + y)\r\n",
        "f = e.replace(x, x + z)\r\n",
        "assert f == (1 + (x + z)) * (1 + y)\r\n",
        "\r\n",
        "x.assign(1)\r\n",
        "y.assign(2)\r\n",
        "z.assign(3)\r\n",
        "assert e.eval() == 6\r\n",
        "assert f.eval() == 15\r\n",
        "\r\n",
        "e = (x + y) / (x - y)\r\n",
        "f = e.replace(x, 2 * x).replace(y, 3 * y)\r\n",
        "assert f.eval() == (2 + 6) / (2 - 6)\r\n",
        "\r\n",
        "### Hidden tests for expression replacement. 8 points."
      ],
      "execution_count": null,
      "outputs": []
    },
    {
      "cell_type": "markdown",
      "metadata": {
        "id": "d2MA3WxSXUJm"
      },
      "source": [
        "Expression Derivation\r\n",
        "We will develop here a method derivate such that, for an expression e, the method call e.derivate(x) returns the derivative of the expression with respect to the variable x. As in the previous chapter, we use the following derivation formulas:#(具体见word)\r\n",
        "# Question 5. Derivation for a variable"
      ]
    },
    {
      "cell_type": "code",
      "metadata": {
        "id": "Xrd_ThEzXPYt"
      },
      "source": [
        "### Derivation of variables\r\n",
        "\r\n",
        "def v_derivate(self, x):\r\n",
        "    ### YOUR CODE HERE\r\n",
        "   return 1 if self==x else 0\r\n",
        "\r\n",
        "V.derivate = v_derivate\r\n"
      ],
      "execution_count": null,
      "outputs": []
    },
    {
      "cell_type": "code",
      "metadata": {
        "colab": {
          "base_uri": "https://localhost:8080/"
        },
        "id": "J6uTmAba-784",
        "outputId": "e494271f-810c-4618-e3bd-d4ac0188cb58"
      },
      "source": [
        "\r\n",
        "## Here you can debug your code. \r\n",
        "\r\n",
        "x = V()\r\n",
        "y = V()\r\n",
        "print(x.derivate(x))\r\n",
        "print(x.derivate(y))"
      ],
      "execution_count": null,
      "outputs": [
        {
          "output_type": "stream",
          "text": [
            "1\n",
            "0\n"
          ],
          "name": "stdout"
        }
      ]
    },
    {
      "cell_type": "code",
      "metadata": {
        "id": "qUtJVRCm-n9B"
      },
      "source": [
        "## Tests for variable derivation\r\n",
        "\r\n",
        "x = V()\r\n",
        "y = V()\r\n",
        "assert x.derivate(x) == 1\r\n",
        "assert x.derivate(y) == 0"
      ],
      "execution_count": null,
      "outputs": []
    },
    {
      "cell_type": "markdown",
      "metadata": {
        "id": "xksxZeKvXfdW"
      },
      "source": [
        "# Derivation for expressions\r\n",
        "This time, there is no clever trick to implement derivate as a method of Expr, because the derivative behaves in a different way for the different operators. Hence, we will need to implement derivate for each individual operator. We let you do it. There are two things to be careful about:\r\n",
        "\r\n",
        "Children of an operator may not be expressions; they can also be constants such as 2.3 or 4.1.\r\n",
        "If the new children of an expression are all numbers, return the numerical result of the expression rather than a symbolic expression. For example, do not return Plus(1, 0); rather, just return 1. Note that, if you put the derivatives of the two children in, say, df and dg, you can simplify automatically by returning df + dg, which will return an expression if one of df or dg is an expression, and a number otherwise.\r\n",
        "We give you the solution for Plus, mainly because it might be difficult to believe that the solution is this simple."
      ]
    },
    {
      "cell_type": "code",
      "metadata": {
        "id": "xy8BiSAkXbXm"
      },
      "source": [
        "def plus_derivate(self, x):\r\n",
        "    f, g = self.children\r\n",
        "    df = f.derivate(x) if isinstance(f, Expr) else 0\r\n",
        "    dg = g.derivate(x) if isinstance(g, Expr) else 0\r\n",
        "    return df + dg\r\n",
        "Plus.derivate = plus_derivate"
      ],
      "execution_count": null,
      "outputs": []
    },
    {
      "cell_type": "markdown",
      "metadata": {
        "id": "ZPBf_BdYXn2H"
      },
      "source": [
        "# Question 6: Derivation for Minus\r\n",
        "You can now work out the case for Minus, which is very similar."
      ]
    },
    {
      "cell_type": "code",
      "metadata": {
        "id": "xAwR0bIUXkS6"
      },
      "source": [
        "### Derivative of Minus\r\n",
        "\r\n",
        "def minus_derivate(self, x):\r\n",
        "    ### YOUR CODE HERE\r\n",
        "    f, g = self.children\r\n",
        "    df = f.derivate(x) if isinstance(f, Expr) else 0\r\n",
        "    dg = g.derivate(x) if isinstance(g, Expr) else 0\r\n",
        "    return df - dg\r\n",
        "Minus.derivate = minus_derivate"
      ],
      "execution_count": null,
      "outputs": []
    },
    {
      "cell_type": "code",
      "metadata": {
        "colab": {
          "base_uri": "https://localhost:8080/"
        },
        "id": "wappNzg6BRtN",
        "outputId": "04713ad8-f751-4f12-a39a-0acdf830db26"
      },
      "source": [
        "### Here you can debug your code. \r\n",
        "\r\n",
        "x = V()\r\n",
        "y = V()\r\n",
        "z = V()\r\n",
        "\r\n",
        "e =x - y\r\n",
        "e.derivate(y)\r\n"
      ],
      "execution_count": null,
      "outputs": [
        {
          "output_type": "execute_result",
          "data": {
            "text/plain": [
              "-1"
            ]
          },
          "metadata": {
            "tags": []
          },
          "execution_count": 347
        }
      ]
    },
    {
      "cell_type": "code",
      "metadata": {
        "id": "Bsc_73DxBVSs"
      },
      "source": [
        "### Tests for derivatives of Plus and Minus. 3 points. \r\n",
        "x = V()\r\n",
        "y = V()\r\n",
        "z = V()\r\n",
        "e = x + y\r\n",
        "assert e.derivate(x) == 1\r\n",
        "f = x - y\r\n",
        "assert f.derivate(x) == 1\r\n",
        "assert f.derivate(y) == -1\r\n",
        "\r\n",
        "h = e + f\r\n",
        "assert h.derivate(x) == 2\r\n",
        "\r\n",
        "u = x + 4\r\n",
        "assert u.derivate(x) == 1\r\n",
        "v = 3 - y\r\n",
        "assert v.derivate(x) == 0\r\n",
        "assert v.derivate(y) == -1"
      ],
      "execution_count": null,
      "outputs": []
    },
    {
      "cell_type": "markdown",
      "metadata": {
        "id": "_bUsyezUXyp3"
      },
      "source": [
        "# Question 7: derivative of Negative\r\n",
        "Since we are at it, let us take care of unary minus, or Negative."
      ]
    },
    {
      "cell_type": "code",
      "metadata": {
        "id": "w4Lh1B8AX0fr"
      },
      "source": [
        "### Derivative of Negative\r\n",
        "\r\n",
        "def negative_derivate(self, x):\r\n",
        "    ### YOUR CODE HERE\r\n",
        "    f,= self.children\r\n",
        "    df = f.derivate(x) if isinstance(f, Expr) else 0\r\n",
        "    return -df\r\n",
        "Negative.derivate = negative_derivate\r\n"
      ],
      "execution_count": null,
      "outputs": []
    },
    {
      "cell_type": "code",
      "metadata": {
        "colab": {
          "base_uri": "https://localhost:8080/"
        },
        "id": "LIn3wTwuCCku",
        "outputId": "6a742a0e-1056-4719-850e-c1faee53dedc"
      },
      "source": [
        "### Here you can debug your code.\r\n",
        "\r\n",
        "x = V()\r\n",
        "y = V()\r\n",
        "e = x-(-y)\r\n",
        "e.derivate(y)\r\n"
      ],
      "execution_count": null,
      "outputs": [
        {
          "output_type": "execute_result",
          "data": {
            "text/plain": [
              "1"
            ]
          },
          "metadata": {
            "tags": []
          },
          "execution_count": 350
        }
      ]
    },
    {
      "cell_type": "code",
      "metadata": {
        "id": "fWq56k_UHitO"
      },
      "source": [
        "### Tests for negative. 4 points. \r\n",
        "\r\n",
        "x = V()\r\n",
        "y = V()\r\n",
        "e = -x\r\n",
        "assert e.derivate(x) == -1\r\n",
        "assert e.derivate(y) == 0"
      ],
      "execution_count": null,
      "outputs": []
    },
    {
      "cell_type": "code",
      "metadata": {
        "colab": {
          "base_uri": "https://localhost:8080/"
        },
        "id": "aHiozglLCFOl",
        "outputId": "5d43c03a-f7e1-44b7-a323-d9c3b9c93d43"
      },
      "source": [
        "\r\n",
        "### Tests for negative. 4 points. \r\n",
        "x = V()\r\n",
        "y = V()\r\n",
        "e = -x\r\n",
        "print(e.derivate(x))\r\n",
        "assert e.derivate(x) == -1\r\n",
        "assert e.derivate(y) == 0"
      ],
      "execution_count": null,
      "outputs": [
        {
          "output_type": "stream",
          "text": [
            "-1\n"
          ],
          "name": "stdout"
        }
      ]
    },
    {
      "cell_type": "markdown",
      "metadata": {
        "id": "6Uf8Mt8ZX9bG"
      },
      "source": [
        "Now for multiplication and divisions. Be careful to use the formulas exactly as given, otherwise the result may not match. E.g. use#(具体见word)\r\n",
        "\r\n",
        "# Question 8: Derivation of multiplication"
      ]
    },
    {
      "cell_type": "code",
      "metadata": {
        "id": "jDAz-mZFX5O5"
      },
      "source": [
        "### Derivative of multiplication.\r\n",
        "def multiply_derivate(self, x):\r\n",
        "    ### YOUR CODE HERE\r\n",
        "    f,g=self.children\r\n",
        "    df = f.derivate(x) if isinstance(f, Expr) else 0\r\n",
        "    dg = g.derivate(x) if isinstance(g, Expr) else 0\r\n",
        "    return df*g+f*dg\r\n",
        "\r\n",
        "Multiply.derivate = multiply_derivate"
      ],
      "execution_count": null,
      "outputs": []
    },
    {
      "cell_type": "markdown",
      "metadata": {
        "id": "nidR2_TeYGNm"
      },
      "source": [
        "If you did the above right, it will be 4-5 lines wrong. If you wrote much more than that, please think at it again. The solution is quite simple; you can just trust that the operators * and + will build it."
      ]
    },
    {
      "cell_type": "code",
      "metadata": {
        "colab": {
          "base_uri": "https://localhost:8080/"
        },
        "id": "i7c4G0tqM6Cm",
        "outputId": "2f047399-16fc-4cd1-dc50-0a411cd516e6"
      },
      "source": [
        "## Here you can debug your code. \r\n",
        "\r\n",
        "x = V()\r\n",
        "e = x * x\r\n",
        "de = e.derivate(x)\r\n",
        "de\r\n"
      ],
      "execution_count": null,
      "outputs": [
        {
          "output_type": "execute_result",
          "data": {
            "text/plain": [
              "((1 * V(TP9, value=-0.5411262336133215)) + (V(TP9, value=-0.5411262336133215) * 1))"
            ]
          },
          "metadata": {
            "tags": []
          },
          "execution_count": 354
        }
      ]
    },
    {
      "cell_type": "code",
      "metadata": {
        "colab": {
          "base_uri": "https://localhost:8080/"
        },
        "id": "2kAU46zuYCDa",
        "outputId": "5023255d-4be6-4e09-918e-96bd03f5beec"
      },
      "source": [
        "## Tests for derivative of multiplication. 4 points. \r\n",
        "\r\n",
        "x = V()\r\n",
        "y = V(value=2)\r\n",
        "\r\n",
        "e = x * y\r\n",
        "# This is ugly.  It is.  We have not implemented 0, 1 simplifications.\r\n",
        "print(e.derivate(x))\r\n",
        "assert e.derivate(x) == 1 * y + x * 0"
      ],
      "execution_count": null,
      "outputs": [
        {
          "output_type": "stream",
          "text": [
            "((1 * V(Y7p, value=2)) + (V(bNr, value=-2.4503790300907107) * 0))\n"
          ],
          "name": "stdout"
        }
      ]
    },
    {
      "cell_type": "code",
      "metadata": {
        "id": "3vw_9Du3NSVq"
      },
      "source": [
        "# To remedy ugliness, we now test numerically.\r\n",
        "f = x * x\r\n",
        "x.assign(3)\r\n",
        "assert f.derivate(x).eval() == 6, f.derivate(x).eval()\r\n",
        "x.assign(4)\r\n",
        "assert f.derivate(x).eval() == 8, f.derivate(x).eval()\r\n",
        "\r\n",
        "h = 3 * x\r\n",
        "assert h.derivate(x).eval() == 3\r\n",
        "u = x * 3\r\n",
        "assert u.derivate(x).eval() == 3"
      ],
      "execution_count": null,
      "outputs": []
    },
    {
      "cell_type": "markdown",
      "metadata": {
        "id": "fX7hIL2FYNU-"
      },
      "source": [
        "## Question 9: Derivative of division#(具体见word)"
      ]
    },
    {
      "cell_type": "code",
      "metadata": {
        "id": "pWpLuhTEYRHb"
      },
      "source": [
        "### Derivative of division\r\n",
        "\r\n",
        "def divide_derivate(self, x):\r\n",
        "    ### YOUR CODE HERE\r\n",
        "    f,g=self.children\r\n",
        "    df = f.derivate(x) if isinstance(f, Expr) else 0\r\n",
        "    dg = g.derivate(x) if isinstance(g, Expr) else 0\r\n",
        "    return (df*g-f*dg)/(g*g)\r\n",
        "Divide.derivate = divide_derivate"
      ],
      "execution_count": null,
      "outputs": []
    },
    {
      "cell_type": "code",
      "metadata": {
        "colab": {
          "base_uri": "https://localhost:8080/"
        },
        "id": "yPfPIe9HYUTP",
        "outputId": "c444d719-353a-41fb-b29e-f14170b290c2"
      },
      "source": [
        "## Here you can debug your code. \r\n",
        "\r\n",
        "x = V()\r\n",
        "y = V()\r\n",
        "print(\"x:\", x)\r\n",
        "print(\"y:\", y)\r\n",
        "\r\n",
        "e = x / y\r\n",
        "\r\n",
        "e.derivate(y)\r\n"
      ],
      "execution_count": null,
      "outputs": [
        {
          "output_type": "stream",
          "text": [
            "x: V(H2a, value=0.9142714871773974)\n",
            "y: V(fOu, value=-0.8977765171991245)\n"
          ],
          "name": "stdout"
        },
        {
          "output_type": "execute_result",
          "data": {
            "text/plain": [
              "(((0 * V(fOu, value=-0.8977765171991245)) - (V(H2a, value=0.9142714871773974) * 1)) / (V(fOu, value=-0.8977765171991245) * V(fOu, value=-0.8977765171991245)))"
            ]
          },
          "metadata": {
            "tags": []
          },
          "execution_count": 358
        }
      ]
    },
    {
      "cell_type": "code",
      "metadata": {
        "colab": {
          "base_uri": "https://localhost:8080/"
        },
        "id": "N4azNrNsONms",
        "outputId": "a1019d6a-7d6a-447e-8598-7fc5aacf111e"
      },
      "source": [
        "\r\n",
        "### Tests for derivative of division. 4 points. \r\n",
        "\r\n",
        "x = V()\r\n",
        "y = V()\r\n",
        "e = x / 2\r\n",
        "f = e.derivate(x)\r\n",
        "print('f=',f)\r\n",
        "x.assign(3)\r\n",
        "assert f.eval() == 1/2\r\n",
        "\r\n",
        "g = 1 / x\r\n",
        "assert g.derivate(x).eval() == - 1 / 9\r\n",
        "assert g.derivate(y).eval() == 0\r\n"
      ],
      "execution_count": null,
      "outputs": [
        {
          "output_type": "stream",
          "text": [
            "f= ((2 - (V(3kH, value=0.15408337313733367) * 0)) / 4)\n"
          ],
          "name": "stdout"
        }
      ]
    },
    {
      "cell_type": "code",
      "metadata": {
        "id": "bhR9URp8OT3a"
      },
      "source": [
        "## Miscellaneous tests.  3 points. \r\n",
        "\r\n",
        "x = V(value=2)\r\n",
        "y = V(value=3)\r\n",
        "\r\n",
        "f = (x + 1) * (y + 1) / (x - 1) * (y - 1)\r\n",
        "df = f.derivate(x)\r\n",
        "\r\n",
        "assert df.eval() == -16\r\n",
        "\r\n",
        "x.assign(0.5)\r\n",
        "y.assign(0.5)\r\n",
        "assert df.eval() == 6"
      ],
      "execution_count": null,
      "outputs": []
    },
    {
      "cell_type": "code",
      "metadata": {
        "id": "IWuiGFtsYaAI"
      },
      "source": [
        "## Miscellaneous tests. 3 points. \r\n",
        "\r\n",
        "x = V(value=0)\r\n",
        "\r\n",
        "f = (3 * x * x + 2 * x + 4) / (5 * x * x - 7 * x + 12)\r\n",
        "\r\n",
        "df = f.derivate(x)\r\n",
        "assert abs(df.eval() - 0.3611) < 0.01\r\n",
        "x.assign(1)\r\n",
        "assert df.eval() == 0.53\r\n",
        "x.assign(1000)\r\n",
        "assert abs(df.eval()) < 0.001\r\n",
        "x.assign(-0.5)\r\n",
        "assert abs(df.eval() - 0.1) < 0.01\r\n",
        "\r\n",
        "## Final hidden tests on everything. 10 points. "
      ],
      "execution_count": null,
      "outputs": []
    },
    {
      "cell_type": "code",
      "metadata": {
        "id": "78MW-HzHQV1K"
      },
      "source": [
        ""
      ],
      "execution_count": null,
      "outputs": []
    }
  ]
}