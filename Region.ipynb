{
  "nbformat": 4,
  "nbformat_minor": 0,
  "metadata": {
    "colab": {
      "name": "Region.ipynb",
      "provenance": [],
      "collapsed_sections": [],
      "authorship_tag": "ABX9TyPnVh6vaURRyGR86H1bBAJd",
      "include_colab_link": true
    },
    "kernelspec": {
      "name": "python3",
      "display_name": "Python 3"
    }
  },
  "cells": [
    {
      "cell_type": "markdown",
      "metadata": {
        "id": "view-in-github",
        "colab_type": "text"
      },
      "source": [
        "<a href=\"https://colab.research.google.com/github/hyweisky/gwings/blob/master/Region.ipynb\" target=\"_parent\"><img src=\"https://colab.research.google.com/assets/colab-badge.svg\" alt=\"Open In Colab\"/></a>"
      ]
    },
    {
      "cell_type": "code",
      "metadata": {
        "id": "n1Pm_q5iZr74"
      },
      "source": [
        "class Interval(object):\r\n",
        "\r\n",
        "    def __init__(self, x0, x1):\r\n",
        "        # Sorts the endpoints, to ensure that x0 <= x1.\r\n",
        "        x0, x1 = (x0, x1) if x0 < x1 else (x1, x0)\r\n",
        "        assert x0 < x1 # No point intervals.\r\n",
        "        self.x0 = x0\r\n",
        "        self.x1 = x1\r\n",
        "\r\n",
        "    @property\r\n",
        "    def length(self):\r\n",
        "        return self.x1 - self.x0\r\n",
        "\r\n",
        "    def endpoints(self):\r\n",
        "        return (self.x0, self.x1)\r\n",
        "\r\n",
        "    def __getitem__(self, i):\r\n",
        "        \"\"\"Alternative way of accessing endpoints.\"\"\"\r\n",
        "        if i == 0:\r\n",
        "            return self.x0\r\n",
        "        elif i == 1:\r\n",
        "            return self.x1\r\n",
        "        raise KeyError()\r\n",
        "\r\n",
        "    def __repr__(self):\r\n",
        "        return \"[{},{}]\".format(self.x0, self.x1)"
      ],
      "execution_count": null,
      "outputs": []
    },
    {
      "cell_type": "code",
      "metadata": {
        "id": "AgyFuQ3qZtHG",
        "colab": {
          "base_uri": "https://localhost:8080/"
        },
        "outputId": "82e9643c-884e-4cb0-ed1f-21b5e9bc13f1"
      },
      "source": [
        "print(Interval(3,4))"
      ],
      "execution_count": null,
      "outputs": [
        {
          "output_type": "stream",
          "text": [
            "[3,4]\n"
          ],
          "name": "stdout"
        }
      ]
    },
    {
      "cell_type": "code",
      "metadata": {
        "id": "YOVsOlM7ZxZl"
      },
      "source": [
        "### Defining Equality\r\n",
        "def interval_equality(self, other):\r\n",
        "    \"\"\"Return True if the intervals self and other are equal, and False otherwise.\"\"\"\r\n",
        "    ### YOUR CODE HERE\r\n",
        "    return self.x0==other.x0 and self.x1==other.x1\r\n",
        "Interval.__eq__ = interval_equality\r\n",
        "\r\n"
      ],
      "execution_count": null,
      "outputs": []
    },
    {
      "cell_type": "code",
      "metadata": {
        "colab": {
          "base_uri": "https://localhost:8080/"
        },
        "id": "NWOZwMxcaKnp",
        "outputId": "fcac9037-ae5d-4b16-f177-41205e47d741"
      },
      "source": [
        "#Test the function\r\n",
        "i = Interval(3, 5)\r\n",
        "j = Interval(4, 5)\r\n",
        "i == j"
      ],
      "execution_count": null,
      "outputs": [
        {
          "output_type": "execute_result",
          "data": {
            "text/plain": [
              "False"
            ]
          },
          "metadata": {
            "tags": []
          },
          "execution_count": 4
        }
      ]
    },
    {
      "cell_type": "code",
      "metadata": {
        "id": "us3OmJ4Gajr3",
        "colab": {
          "base_uri": "https://localhost:8080/",
          "height": 198
        },
        "outputId": "ce0fb5e4-0474-48f1-f93e-e90fc763e957"
      },
      "source": [
        "#Q1 Tests for equality. 5 points. \r\n",
        "i = Interval(3, 5)\r\n",
        "j = Interval(4, 5)\r\n",
        "assert i != j\r\n",
        "assert Interval(5, 7) == Interval(5, 7)\r\n",
        "assert Interval(2.3, 3.4) == Interval(2.3, 4)"
      ],
      "execution_count": null,
      "outputs": [
        {
          "output_type": "error",
          "ename": "AssertionError",
          "evalue": "ignored",
          "traceback": [
            "\u001b[0;31m---------------------------------------------------------------------------\u001b[0m",
            "\u001b[0;31mAssertionError\u001b[0m                            Traceback (most recent call last)",
            "\u001b[0;32m<ipython-input-28-600facecd130>\u001b[0m in \u001b[0;36m<module>\u001b[0;34m()\u001b[0m\n\u001b[1;32m      4\u001b[0m \u001b[0;32massert\u001b[0m \u001b[0mi\u001b[0m \u001b[0;34m!=\u001b[0m \u001b[0mj\u001b[0m\u001b[0;34m\u001b[0m\u001b[0;34m\u001b[0m\u001b[0m\n\u001b[1;32m      5\u001b[0m \u001b[0;32massert\u001b[0m \u001b[0mInterval\u001b[0m\u001b[0;34m(\u001b[0m\u001b[0;36m5\u001b[0m\u001b[0;34m,\u001b[0m \u001b[0;36m7\u001b[0m\u001b[0;34m)\u001b[0m \u001b[0;34m==\u001b[0m \u001b[0mInterval\u001b[0m\u001b[0;34m(\u001b[0m\u001b[0;36m5\u001b[0m\u001b[0;34m,\u001b[0m \u001b[0;36m7\u001b[0m\u001b[0;34m)\u001b[0m\u001b[0;34m\u001b[0m\u001b[0;34m\u001b[0m\u001b[0m\n\u001b[0;32m----> 6\u001b[0;31m \u001b[0;32massert\u001b[0m \u001b[0mInterval\u001b[0m\u001b[0;34m(\u001b[0m\u001b[0;36m2.3\u001b[0m\u001b[0;34m,\u001b[0m \u001b[0;36m3.4\u001b[0m\u001b[0;34m)\u001b[0m \u001b[0;34m==\u001b[0m \u001b[0mInterval\u001b[0m\u001b[0;34m(\u001b[0m\u001b[0;36m2.3\u001b[0m\u001b[0;34m,\u001b[0m \u001b[0;36m4\u001b[0m\u001b[0;34m)\u001b[0m\u001b[0;34m\u001b[0m\u001b[0;34m\u001b[0m\u001b[0m\n\u001b[0m",
            "\u001b[0;31mAssertionError\u001b[0m: "
          ]
        }
      ]
    },
    {
      "cell_type": "markdown",
      "metadata": {
        "id": "NkGxnSvAcUsy"
      },
      "source": [
        "Union\r\n",
        "We define union for you, to give you an example.\r\n",
        "\r\n",
        "\r\n",
        "# The union of these two intervals is a list of two intervals. \r\n",
        "Interval(3, 5) | Interval(7, 10)\r\n",
        "\r\n",
        "# The union of these two intervals is a single interval.\r\n",
        "Interval(3, 5) | Interval(4, 10)"
      ]
    },
    {
      "cell_type": "code",
      "metadata": {
        "id": "XphbwmHXcmcY"
      },
      "source": [
        "def interval_or(self, other):\r\n",
        "    \"\"\"Union of self and other.  Returns a list of 1 or 2 non-overlapping intervals.\"\"\"\r\n",
        "    if self.x1 < other.x0 or other.x1 < self.x0:\r\n",
        "        # Disjoint\r\n",
        "        return [self, other]\r\n",
        "    else:\r\n",
        "        # Have intersection, merge them.\r\n",
        "        return [Interval(min(self.x0, other.x0), max(self.x1, other.x1))]\r\n",
        "\r\n",
        "Interval.__or__ = interval_or"
      ],
      "execution_count": null,
      "outputs": []
    },
    {
      "cell_type": "code",
      "metadata": {
        "colab": {
          "base_uri": "https://localhost:8080/"
        },
        "id": "eJoBZq8TcngP",
        "outputId": "0b207608-1330-45d6-da94-bda796567518"
      },
      "source": [
        "#测试两个Interval的并运算\r\n",
        "Interval(3,5)|Interval(4,10)"
      ],
      "execution_count": null,
      "outputs": [
        {
          "output_type": "execute_result",
          "data": {
            "text/plain": [
              "[[3,10]]"
            ]
          },
          "metadata": {
            "tags": []
          },
          "execution_count": 7
        }
      ]
    },
    {
      "cell_type": "markdown",
      "metadata": {
        "id": "C7elnld-dtFq"
      },
      "source": [
        "Question 2: Interval Intersection\r\n",
        "The intersection of two intervals i and j consists either of a single interval, or None, if the two intervals have no intersection. We leave it to you to implement it."
      ]
    },
    {
      "cell_type": "code",
      "metadata": {
        "id": "Q66xFrswduib"
      },
      "source": [
        "### Interval intersection\r\n",
        "def interval_and(self, other):\r\n",
        "    \"\"\"Intersection; returns an interval, or None.\"\"\"\r\n",
        "    ### YOUR CODE HERE\r\n",
        "    if other.x0>=self.x1 or other.x1<=self.x0:\r\n",
        "      return None\r\n",
        "    if self.x0<=other.x0 < self.x1:\r\n",
        "      return Interval(other.x0,min(self.x1,other.x1))\r\n",
        "    if self.x0<other.x1<=self.x1:\r\n",
        "      return Interval(max(self.x0,other.x0),other.x1)\r\n",
        "    if self.x0>=other.x0 and self.x1<=other.x1:\r\n",
        "      return self\r\n",
        "\r\n",
        "Interval.__and__ = interval_and"
      ],
      "execution_count": null,
      "outputs": []
    },
    {
      "cell_type": "code",
      "metadata": {
        "id": "EFZQLiA-ilmr"
      },
      "source": [
        "# 5 points: tests for intersection.\r\n",
        "assert Interval(3, 4) & Interval(5, 6) is None\r\n",
        "assert Interval(3, 10) & Interval(6, 20) == Interval(6, 10)\r\n",
        "assert Interval(9, 16) & Interval(4, 16) == Interval(9, 16)"
      ],
      "execution_count": null,
      "outputs": []
    },
    {
      "cell_type": "markdown",
      "metadata": {
        "id": "Vf8JOAGsog9h"
      },
      "source": [
        "Question 3: Interval Membership\r\n",
        "Given an interval i, and a floating point number x, we can write a method __contains__ of an interval, which checks if x belongs to the interval. In this way, writing x in i will return True if x belongs to i, and False otherwise. For the purpose of this method, you can consider an interval closed, so that\r\n",
        "3 in Interval(3, 5)\r\n",
        "returns True."
      ]
    },
    {
      "cell_type": "code",
      "metadata": {
        "id": "jDPuX3B1oiYV"
      },
      "source": [
        "### Membership of a point in an interval\r\n",
        "def interval_contains(self, x):\r\n",
        "    ### YOUR CODE HERE\r\n",
        "    return x>=self.x0 and x<=self.x1\r\n",
        "\r\n",
        "Interval.__contains__ = interval_contains"
      ],
      "execution_count": null,
      "outputs": []
    },
    {
      "cell_type": "code",
      "metadata": {
        "id": "Jm3IxqORo8VK"
      },
      "source": [
        "#测试上述定义\r\n",
        "\r\n",
        "assert 5 in Interval(3, 5)\r\n",
        "assert not (1 in Interval(3, 5))"
      ],
      "execution_count": null,
      "outputs": []
    },
    {
      "cell_type": "code",
      "metadata": {
        "id": "Ao_Dxdn5pUGr"
      },
      "source": [
        "# 5 points: tests for interval membership. \r\n",
        "\r\n",
        "assert 3 in Interval(3, 5)\r\n",
        "assert 2 not in Interval(3, 5)\r\n",
        "assert 8 not in Interval(3, 5)"
      ],
      "execution_count": null,
      "outputs": []
    },
    {
      "cell_type": "markdown",
      "metadata": {
        "id": "9rM-5-HKpgeh"
      },
      "source": [
        "Question 4: Interval Difference\r\n",
        "For intervals i, j, the difference of i - j consists of 0, 1, or 2 non-overlapping intervals. Again, we leave the implementation to you.\r\n",
        "Difference. The difference i - j is the portion of i that is not in j. The result is a list of intervals, containing 0 intervals (if j includes i), one interval (if j does not overlap i, or if it overlaps only from one side of i), or two intervals (if j falls in the middle of i)."
      ]
    },
    {
      "cell_type": "code",
      "metadata": {
        "id": "yNAMmNhFpXF5"
      },
      "source": [
        "### Interval difference\r\n",
        "def interval_sub(self, other):\r\n",
        "    \"\"\"Subtracts from this interval the interval other, returning a possibly\r\n",
        "    empty list of intervals.\"\"\"\r\n",
        "    ### YOUR CODE HERE\r\n",
        "    #j include the i\r\n",
        "    if other.x0<=self.x0 and self.x1<=other.x1:\r\n",
        "      return []\r\n",
        "    #j does not overlap the i\r\n",
        "    if other.x1<=self.x0 or other.x0>=self.x1:\r\n",
        "      return [self]\r\n",
        "    #j overlaps only from one side of i\r\n",
        "    if self.x1>other.x1>self.x0 and other.x0<=self.x0:\r\n",
        "      return [Interval(other.x1,self.x1)]\r\n",
        "    if other.x0>self.x0 and other.x1>=self.x1:\r\n",
        "      return [Interval(self.x0,other.x0)]\r\n",
        "    #j falls in the middle of i\r\n",
        "    if other.x0>self.x0 and other.x1<self.x1:\r\n",
        "      return [Interval(self.x0,other.x0),Interval(self.x1,other.x1)]\r\n",
        "\r\n",
        "Interval.__sub__ = interval_sub"
      ],
      "execution_count": null,
      "outputs": []
    },
    {
      "cell_type": "code",
      "metadata": {
        "id": "b1ITWgU6u6_r",
        "colab": {
          "base_uri": "https://localhost:8080/"
        },
        "outputId": "85d6ba23-134d-4002-9a8f-cf588d7085b5"
      },
      "source": [
        "#测试i-j\r\n",
        "print(Interval(3, 5) - Interval(0, 4))\r\n",
        "assert Interval(4, 6) - Interval(5, 8) == [Interval(4, 5)]\r\n",
        "assert Interval(0, 10) - Interval(4, 5) == [Interval(0, 4), Interval(5, 10)]"
      ],
      "execution_count": null,
      "outputs": [
        {
          "output_type": "stream",
          "text": [
            "[[4,5]]\n"
          ],
          "name": "stdout"
        }
      ]
    },
    {
      "cell_type": "code",
      "metadata": {
        "id": "mfq-RrHLvKh_"
      },
      "source": [
        "# 5 points: tests for interval difference. \r\n",
        "\r\n",
        "assert Interval(4, 6) - Interval(5, 8) == [Interval(4, 5)]\r\n",
        "assert Interval(0, 10) - Interval(4, 5) == [Interval(0, 4), Interval(5, 10)]\r\n",
        "assert Interval(0, 2) - Interval(-3, 6) == []\r\n",
        "assert Interval(0, 10) - Interval(0, 5) == [Interval(5, 10)]\r\n",
        "assert Interval(-4, -2) - Interval(-3, -2) == [Interval(-4, -3)]\r\n",
        "assert Interval(4, 5) - Interval(4, 5) == []"
      ],
      "execution_count": null,
      "outputs": []
    },
    {
      "cell_type": "markdown",
      "metadata": {
        "id": "CQaRoRfp6mWB"
      },
      "source": [
        "Another way of testing this code is the following. Let's generate many random intervals  I1  and  I2 . Denoting with  −  the difference of intervals and with  ∩  their intersection, and denoting the length of an interval  I  by  l(I) , the following invariant must be true:\r\n",
        "\r\n",
        "l(I1−I2)+l(I2−I1)+2l(I1∩I2)=l(I1)+l(I2) \r\n",
        "\r\n",
        "To verify this, let us start by defining this total length function precisely."
      ]
    },
    {
      "cell_type": "code",
      "metadata": {
        "id": "jwueLiJsxGSu"
      },
      "source": [
        "import numpy as np\r\n",
        "def total_length(x):\r\n",
        "    if x is None:\r\n",
        "        return 0.\r\n",
        "    elif type(x) == list:\r\n",
        "        return np.sum([i.length for i in x])\r\n",
        "    else:\r\n",
        "        return x.length"
      ],
      "execution_count": null,
      "outputs": []
    },
    {
      "cell_type": "code",
      "metadata": {
        "colab": {
          "base_uri": "https://localhost:8080/"
        },
        "id": "s_de9tUP6MQx",
        "outputId": "59c188fb-1d22-4286-a292-84841de1f757"
      },
      "source": [
        "print(total_length(None))\r\n",
        "i1 = Interval(0, 1)\r\n",
        "i2 = Interval(3, 5)\r\n",
        "print(\"i1:\", total_length(i1))\r\n",
        "print(\"i2:\", total_length(i2))\r\n",
        "print(\"i1+i2:\", total_length([i1, i2]))"
      ],
      "execution_count": null,
      "outputs": [
        {
          "output_type": "stream",
          "text": [
            "0.0\n",
            "i1: 1\n",
            "i2: 2\n",
            "i1+i2: 3\n"
          ],
          "name": "stdout"
        }
      ]
    },
    {
      "cell_type": "code",
      "metadata": {
        "id": "sUs-7pl46P1O"
      },
      "source": [
        "# 5 points: more tests for interval difference. \r\n",
        "import random\r\n",
        "def test_random():\r\n",
        "    i1 = Interval(random.random(), random.random())\r\n",
        "    i2 = Interval(random.random(),random.random())\r\n",
        "    d1 = i1 - i2\r\n",
        "    d2 = i2 - i1\r\n",
        "    inters = i1 & i2\r\n",
        "    assert (total_length(d1) + total_length(d2) + 2. * total_length(inters) == i1.length + i2.length)"
      ],
      "execution_count": null,
      "outputs": []
    },
    {
      "cell_type": "code",
      "metadata": {
        "id": "fjj_YAzb7e3m"
      },
      "source": [
        "for _ in range(100):\r\n",
        "  test_random()"
      ],
      "execution_count": null,
      "outputs": []
    },
    {
      "cell_type": "markdown",
      "metadata": {
        "id": "Jy611OV7DB3p"
      },
      "source": [
        "Rectangles\r\n",
        "Let us now develop a representation of a rectangle, in terms of intersection of intervals. We will phrase the definition in such a way that it works in any number of dimensions, storing the intervals as a list, as opposed to (say) storing the three intervals separately for 3D."
      ]
    },
    {
      "cell_type": "code",
      "metadata": {
        "id": "yOnIBl1v73Ux"
      },
      "source": [
        "import string\r\n",
        "\r\n",
        "class Rectangle(object):\r\n",
        "\r\n",
        "    def __init__(self, *intervals, name=None):\r\n",
        "        \"\"\"A rectangle is initialized with a list, whose elements are\r\n",
        "        either Interval, or a pair of numbers.\r\n",
        "        It would be perhaps cleaner to accept only list of intervals,\r\n",
        "        but specifying rectangles via a list of pairs, with each pair\r\n",
        "        defining an interval, makes for a concise shorthand that will be\r\n",
        "        useful in tests.\r\n",
        "        Every rectangle has a name, used to depict it.\r\n",
        "        If no name is provided, we invent a random one.\"\"\"\r\n",
        "        self.intervals = []\r\n",
        "        for i in intervals:\r\n",
        "            self.intervals.append(i if type(i) == Interval else Interval(*i))\r\n",
        "        # I want each rectangle to have a name.\r\n",
        "        if name is None:\r\n",
        "            self.name = ''.join(\r\n",
        "                random.choices(string.ascii_letters + string.digits, k=8))\r\n",
        "        else:\r\n",
        "            self.name = name\r\n",
        "\r\n",
        "    def __repr__(self):\r\n",
        "        \"\"\"Function used to print a rectangle.\"\"\"\r\n",
        "        s = \"Rectangle \" + self.name + \": \"\r\n",
        "        s += repr([(i.x0, i.x1) for i in self.intervals])\r\n",
        "        return s\r\n",
        "\r\n",
        "    def clone(self, name=None):\r\n",
        "        \"\"\"Returns a clone of itself, with a given name.\"\"\"\r\n",
        "        name = name or self.name + \"'\"\r\n",
        "        return Rectangle(*self.intervals, name=name)\r\n",
        "\r\n",
        "    def __len__(self):\r\n",
        "        \"\"\"Returns the number of dimensions of the rectangle\r\n",
        "        (not the length of the edges).  This is used with\r\n",
        "        __getitem__ below, to get the interval along a dimension.\"\"\"\r\n",
        "        return len(self.intervals)\r\n",
        "\r\n",
        "    def __getitem__(self, n):\r\n",
        "        \"\"\"Returns the interval along the n-th dimension\"\"\"\r\n",
        "        return self.intervals[n]\r\n",
        "\r\n",
        "    def __setitem__(self, n, i):\r\n",
        "        \"\"\"Sets the interval along the n-th dimension to be i\"\"\"\r\n",
        "        self.intervals[n] = i\r\n",
        "\r\n",
        "    @property\r\n",
        "    def ndims(self):\r\n",
        "        \"\"\"Returns the number of dimensions of the interval.\"\"\"\r\n",
        "        return len(self.intervals)\r\n",
        "\r\n",
        "    @property\r\n",
        "    def volume(self):\r\n",
        "        return np.prod([i.length for i in self.intervals])\r\n"
      ],
      "execution_count": null,
      "outputs": []
    },
    {
      "cell_type": "code",
      "metadata": {
        "id": "SJ8JY1stKYWu",
        "colab": {
          "base_uri": "https://localhost:8080/"
        },
        "outputId": "fc91d285-b1e2-4e22-9f68-6c6c2b31cb5b"
      },
      "source": [
        "#测试\r\n",
        "print(Rectangle(Interval(3., 4.), Interval(1., 4.)))\r\n",
        "r = Rectangle(Interval(1., 2.), (5., 6.), name=\"my_rectangle\")\r\n",
        "print(r)\r\n",
        "print(r.clone())\r\n",
        "print(r.volume)"
      ],
      "execution_count": null,
      "outputs": [
        {
          "output_type": "stream",
          "text": [
            "Rectangle EDCyGtOl: [(3.0, 4.0), (1.0, 4.0)]\n",
            "Rectangle my_rectangle: [(1.0, 2.0), (5.0, 6.0)]\n",
            "Rectangle my_rectangle': [(1.0, 2.0), (5.0, 6.0)]\n",
            "1.0\n"
          ],
          "name": "stdout"
        }
      ]
    },
    {
      "cell_type": "markdown",
      "metadata": {
        "id": "Alj3NihUK1a_"
      },
      "source": [
        "Drawing rectangles\r\n",
        "Before we go much further, it is useful to be able to draw rectangles. Rectangles can have any number of dimensions, and we will write here code to draw them on 2D, projecting away all other dimensions."
      ]
    },
    {
      "cell_type": "code",
      "metadata": {
        "id": "82TCCdXpK3_m"
      },
      "source": [
        "import matplotlib\r\n",
        "import matplotlib.pyplot as plt\r\n",
        "import matplotlib.path as mpath\r\n",
        "import matplotlib.patches as mpatches\r\n",
        "from matplotlib.collections import PatchCollection\r\n",
        "matplotlib.rcParams['figure.figsize'] = (6.0, 4.0)\r\n",
        "\r\n",
        "def draw_rectangles(*rectangles, prefix=\"\"):\r\n",
        "    \"\"\"Here, rectangles is a rectangle iterator; it could be a list,\r\n",
        "    for instance.\"\"\"\r\n",
        "    fig, ax = plt.subplots()\r\n",
        "    patches = []\r\n",
        "    # We keep track of the limits.\r\n",
        "    lo_x, hi_x = [], []\r\n",
        "    lo_y, hi_y = [], []\r\n",
        "    for r in rectangles:\r\n",
        "        x0, x1 = r[0].endpoints()\r\n",
        "        y0, y1 = r[1].endpoints()\r\n",
        "        lo_x.append(x0)\r\n",
        "        hi_x.append(x1)\r\n",
        "        lo_y.append(y0)\r\n",
        "        hi_y.append(y1)\r\n",
        "        # Prepares the \"patch\" for the rectangle, see\r\n",
        "        # https://matplotlib.org/api/_as_gen/matplotlib.patches.Rectangle.html\r\n",
        "        p = mpatches.Rectangle((x0, y0), x1 - x0, y1 - y0)\r\n",
        "        y = (y0 + y1) / 2. - 0.0\r\n",
        "        x = (x0 + x1) / 2. - 0.0\r\n",
        "        plt.text(x, y, prefix + r.name, ha=\"center\", family='sans-serif', size=12)\r\n",
        "        patches.append(p)\r\n",
        "    # Draws the patches.\r\n",
        "    colors = np.linspace(0, 1, len(patches) + 1)\r\n",
        "    collection = PatchCollection(patches, cmap=plt.cm.hsv, alpha=0.3)\r\n",
        "    collection.set_array(np.array(colors))\r\n",
        "    ax.add_collection(collection)\r\n",
        "    # Computes nice ax limits. Note that I need to take care of the case\r\n",
        "    # in which the rectangle lists are empty.\r\n",
        "    lox, hix = (min(lo_x), max(hi_x)) if len(lo_x) > 0 else (0., 1.)\r\n",
        "    loy, hiy = (min(lo_y), max(hi_y)) if len(lo_y) > 0 else (0., 1.)\r\n",
        "    sx, sy = hix - lox, hiy - loy\r\n",
        "    lox -= 0.2 * sx\r\n",
        "    hix += 0.2 * sx\r\n",
        "    loy -= 0.2 * sy\r\n",
        "    hiy += 0.2 * sy\r\n",
        "    ax.set_xlim(lox, hix)\r\n",
        "    ax.set_ylim(loy, hiy)\r\n",
        "    plt.gca().set_aspect('equal', adjustable='box')\r\n",
        "    plt.grid()\r\n",
        "    plt.show()"
      ],
      "execution_count": null,
      "outputs": []
    },
    {
      "cell_type": "code",
      "metadata": {
        "id": "H8Iz4AByKl9N",
        "colab": {
          "base_uri": "https://localhost:8080/",
          "height": 521
        },
        "outputId": "d485ab61-36de-4cfc-8242-851529286347"
      },
      "source": [
        "#测试绘画矩形\r\n",
        "r1 = Rectangle((3., 5.), (1., 4.), name=\"A\")\r\n",
        "r2 = Rectangle((1., 4.), (2., 6.), name=\"B\")\r\n",
        "r3 = Rectangle((2., 3.5), (1.5, 5.), name=\"C\")\r\n",
        "draw_rectangles(r1, r2, r3)\r\n",
        "draw_rectangles(r)"
      ],
      "execution_count": null,
      "outputs": [
        {
          "output_type": "display_data",
          "data": {
            "image/png": "[encoded data removed]",
            "text/plain": [
              "<Figure size 432x288 with 1 Axes>"
            ]
          },
          "metadata": {
            "tags": [],
            "needs_background": "light"
          }
        },
        {
          "output_type": "display_data",
          "data": {
            "image/png": "[encoded data removed]",
            "text/plain": [
              "<Figure size 432x288 with 1 Axes>"
            ]
          },
          "metadata": {
            "tags": [],
            "needs_background": "light"
          }
        }
      ]
    },
    {
      "cell_type": "markdown",
      "metadata": {
        "id": "_sPKhpgDLL1O"
      },
      "source": [
        "There are three main operations on rectangles: intersection, union, and difference. Among them, only intersection is guaranteed to return another rectangle. In general, the union of two rectangles is ... two rectangles, and the difference between two rectangles is ... a whole lot of rectangles, as we will see.\r\n",
        "\r\n",
        "We let you implement rectangle equality, intersection, and membership of a point in a rectangle.\r\n",
        "\r\n",
        "Equality: Two rectangles  R  and  T  are equal if they have the same number of dimensions, and if for every dimension  k , the interval of  R  along  k  is equal to the interval of  T  along  k . For example,"
      ]
    },
    {
      "cell_type": "code",
      "metadata": {
        "id": "99dJrwHNLD1B",
        "colab": {
          "base_uri": "https://localhost:8080/"
        },
        "outputId": "13fe5580-78d9-49ef-fc92-781869b53063"
      },
      "source": [
        "Rectangle((2, 3), (4, 5)) == Rectangle((2, 3), (4, 5))\r\n",
        "Rectangle((2, 3), (4, 5)) != Rectangle((4, 5), (2, 3))\r\n",
        "Rectangle((2, 3), (4, 5)) != Rectangle((2, 3), (4, 5), (6, 7))"
      ],
      "execution_count": null,
      "outputs": [
        {
          "output_type": "execute_result",
          "data": {
            "text/plain": [
              "True"
            ]
          },
          "metadata": {
            "tags": []
          },
          "execution_count": 25
        }
      ]
    },
    {
      "cell_type": "markdown",
      "metadata": {
        "id": "eFcIDtc3LYH_"
      },
      "source": [
        "Intersection: The intersection is defined only if the rectangles have the same number of dimensions. The intersection is computed by taking the intersection of the intervals of the two rectangles for corresponding dimensions.\r\n",
        "\r\n",
        "Membership: For an  n -dimensional point  (x0,x1,…,xn)  and an  n -dimensional rectangle  R , we have  (x0,x1,…,xn)∈R  if the point is in the region  R . For instance:\r\n",
        "\r\n",
        "    (2.5, 4.5) in Rectangle((2, 3), (4, 5))\r\n",
        "    (2, 3) in Rectangle((2, 3), (4, 5))\r\n",
        "    (1, 3) not in Rectangle((2, 3), (4, 5))\r\n",
        "If the point and the rectangle have different dimensions, you can raise a TypeError.\r\n",
        "\r\n",
        "Question 5: Rectangle Equality"
      ]
    },
    {
      "cell_type": "code",
      "metadata": {
        "id": "7wLWAzjALPXA"
      },
      "source": [
        "def rectangle_eq(self, other):\r\n",
        "    ### YOUR CODE HERE\r\n",
        "    if self.ndims!=other.ndims:\r\n",
        "      return False\r\n",
        "    for i in range(len(self)):\r\n",
        "      if self[i]!=other[i]:\r\n",
        "        return False\r\n",
        "    return True\r\n",
        "\r\n",
        "Rectangle.__eq__ = rectangle_eq"
      ],
      "execution_count": null,
      "outputs": []
    },
    {
      "cell_type": "code",
      "metadata": {
        "id": "4qQaEBuCLtA0"
      },
      "source": [
        "# 5 points: tests for rectangle equality.\r\n",
        "\r\n",
        "assert Rectangle((2, 3), (4, 5)) == Rectangle((2, 3), (4, 5))\r\n",
        "assert Rectangle((2, 3), (4, 5)) != Rectangle((4, 5), (2, 3))\r\n",
        "assert Rectangle((2, 3), (4, 5),(6,7)) != Rectangle((2, 3), (4, 5))\r\n"
      ],
      "execution_count": null,
      "outputs": []
    },
    {
      "cell_type": "markdown",
      "metadata": {
        "id": "EaOTrbcUL9dn"
      },
      "source": [
        "Question 6: Rectangle Intersection"
      ]
    },
    {
      "cell_type": "code",
      "metadata": {
        "id": "C168l9POL1ca"
      },
      "source": [
        "### Rectangle intersection\r\n",
        "def rectangle_and(self, other):\r\n",
        "    if self.ndims != other.ndims:\r\n",
        "        raise TypeError(\"The rectangles have different dimensions: {} and {}\".format(\r\n",
        "            self.ndims, other.ndims\r\n",
        "        ))\r\n",
        "    # Challenge: can you write this as a one-liner shorter than this comment is?\r\n",
        "    # There are no bonus points, note.  Just for the fun. \r\n",
        "    ### YOUR CODE HERE\r\n",
        "    intervals=[]\r\n",
        "    for i in range(len(self)):\r\n",
        "      intervals.append(self[i] & other[i])\r\n",
        "    return Rectangle(*intervals)\r\n",
        "Rectangle.__and__ = rectangle_and"
      ],
      "execution_count": null,
      "outputs": []
    },
    {
      "cell_type": "code",
      "metadata": {
        "id": "zqeYU7TGMCKU",
        "colab": {
          "base_uri": "https://localhost:8080/",
          "height": 513
        },
        "outputId": "4b83e4eb-e80f-44a8-8684-e8da5d697ec4"
      },
      "source": [
        "# Let's see how your rectangle intersection works. \r\n",
        "r1 = Rectangle((2, 3), (0, 4))\r\n",
        "r2 = Rectangle((0, 4), (1, 3))\r\n",
        "draw_rectangles(r1, r2)\r\n",
        "draw_rectangles(r1 & r2)"
      ],
      "execution_count": null,
      "outputs": [
        {
          "output_type": "display_data",
          "data": {
            "image/png": "[encoded data removed]",
            "text/plain": [
              "<Figure size 432x288 with 1 Axes>"
            ]
          },
          "metadata": {
            "tags": [],
            "needs_background": "light"
          }
        },
        {
          "output_type": "display_data",
          "data": {
            "image/png": "[encoded data removed]",
            "text/plain": [
              "<Figure size 432x288 with 1 Axes>"
            ]
          },
          "metadata": {
            "tags": [],
            "needs_background": "light"
          }
        }
      ]
    },
    {
      "cell_type": "code",
      "metadata": {
        "id": "8tA4B2H-MH6f"
      },
      "source": [
        "# 10 points: tests for rectangle intersection. \r\n",
        "\r\n",
        "r1 = Rectangle((2, 3), (0, 4))\r\n",
        "r2 = Rectangle((0, 4), (1, 3))\r\n",
        "assert r1 & r2 == Rectangle((2, 3), (1, 3))\r\n",
        "\r\n",
        "r1 = Rectangle((2, 3), (0, 4))\r\n",
        "r2 = Rectangle((0, 4), (1, 5))\r\n",
        "assert r1 & r2 == Rectangle((2, 3), (1, 4))\r\n",
        "\r\n",
        "r1 = Rectangle((-1, 5), (0, 6))\r\n",
        "r2 = Rectangle((0, 4), (-1, 3))\r\n",
        "assert r1 & r2 == Rectangle((0, 4), (0, 3))\r\n",
        "\r\n",
        "r1 = Rectangle((2, 6), (0, 4))\r\n",
        "r2 = Rectangle((0, 6), (0, 3))\r\n",
        "assert r1 & r2 == Rectangle((2, 6), (0, 3))"
      ],
      "execution_count": null,
      "outputs": []
    },
    {
      "cell_type": "markdown",
      "metadata": {
        "id": "qUR3c6XXMRE2"
      },
      "source": [
        "Question 7: Point Membership in a Rectangle\r\n",
        "\r\n",
        "Membership: For an n -dimensional point (x0,x1,…,xn) and an n -dimensional rectangle R , we have (x0,x1,…,xn)∈R if the point is in the region R . For instance:\r\n",
        "\r\n",
        "    (2.5, 4.5) in Rectangle((2, 3), (4, 5))\r\n",
        "    (2, 3) in Rectangle((2, 3), (4, 5))\r\n",
        "    (1, 3) not in Rectangle((2, 3), (4, 5))\r\n",
        "If the point and the rectangle have different dimensions, you can raise a TypeError.\r\n",
        "\r\n"
      ]
    },
    {
      "cell_type": "code",
      "metadata": {
        "id": "DgdVUhN1MMob"
      },
      "source": [
        "### Membership of a point in a rectangle.\r\n",
        "def rectangle_contains(self, p):\r\n",
        "    # The point is a tuple with one element per dimension of the rectangle.\r\n",
        "    if len(p) != self.ndims:\r\n",
        "        raise TypeError()\r\n",
        "    ### YOUR CODE HERE\r\n",
        "    for i in range(len(p)):\r\n",
        "       if p[i] not in self[i]:\r\n",
        "         return False\r\n",
        "    return True\r\n",
        "Rectangle.__contains__ = rectangle_contains"
      ],
      "execution_count": null,
      "outputs": []
    },
    {
      "cell_type": "code",
      "metadata": {
        "id": "c1OLYJoBMWi_"
      },
      "source": [
        "# 5 points: tests for membership. \r\n",
        "assert (2, 3) in Rectangle((0, 4), (1, 5))\r\n",
        "assert (0, 4) in Rectangle((0, 4), (4, 5))\r\n",
        "assert (4, 4) in Rectangle((0, 4), (4, 5))\r\n",
        "assert (0, 0, 0) not in Rectangle((3, 4), (0, 3), (0, 8))"
      ],
      "execution_count": null,
      "outputs": []
    },
    {
      "cell_type": "markdown",
      "metadata": {
        "id": "Qcl4uYvIMfUY"
      },
      "source": [
        "Regions\r\n",
        "The problem with rectangles is that they are not closed under union: the union of two rectangles is not necessarily a rectangle.\r\n",
        "\r\n",
        "We want a representation for objects in space that is closed under union, intersection, and difference. To this end, we introduce regions, which are unions of rectangles."
      ]
    },
    {
      "cell_type": "code",
      "metadata": {
        "id": "D4B5H4xKMZzO"
      },
      "source": [
        "class Region(object):\r\n",
        "\r\n",
        "    def __init__(self, *rectangles, name=None):\r\n",
        "        \"\"\"A region is initialized via a set of rectangles.\"\"\"\r\n",
        "        self.rectangles = list(rectangles)\r\n",
        "        if name is None:\r\n",
        "            self.name = ''.join(\r\n",
        "                random.choices(string.ascii_letters + string.digits, k=8))\r\n",
        "        else:\r\n",
        "            self.name = name\r\n",
        "\r\n",
        "    def draw(self):\r\n",
        "        draw_rectangles(*self.rectangles, prefix=self.name + \":\")\r\n",
        "\r\n",
        "    def __or__(self, other):\r\n",
        "        \"\"\"Union of regions.\"\"\"\r\n",
        "        return Region(*(self.rectangles + other.rectangles), name=self.name + \"_union_\" + other.name)"
      ],
      "execution_count": null,
      "outputs": []
    },
    {
      "cell_type": "code",
      "metadata": {
        "id": "mlIixjReMkAh",
        "colab": {
          "base_uri": "https://localhost:8080/",
          "height": 286
        },
        "outputId": "343ccf87-a4fb-4e34-8af7-df308be0b9d9"
      },
      "source": [
        "# Let us try.\r\n",
        "r = Rectangle((0., 4.), (0., 4.), name=\"R\")\r\n",
        "t = Rectangle((1.5, 3.5), (1., 5.), name=\"T\")\r\n",
        "\r\n",
        "reg1 = Region(r, name=\"Reg1\")\r\n",
        "reg2 = Region(t, name=\"Reg2\")\r\n",
        "print(reg1.rectangles)\r\n",
        "(reg1 | reg2).draw()"
      ],
      "execution_count": null,
      "outputs": [
        {
          "output_type": "stream",
          "text": [
            "[Rectangle R: [(0.0, 4.0), (0.0, 4.0)]]\n"
          ],
          "name": "stdout"
        },
        {
          "output_type": "display_data",
          "data": {
            "image/png": "[encoded data removed]",
            "text/plain": [
              "<Figure size 432x288 with 1 Axes>"
            ]
          },
          "metadata": {
            "tags": [],
            "needs_background": "light"
          }
        }
      ]
    },
    {
      "cell_type": "markdown",
      "metadata": {
        "id": "mZehvWv-Mtlp"
      },
      "source": [
        "Question 8: Membership of a Point in a Region\r\n",
        "A point belongs into a region if it belongs into some rectangle of the region. We let you implement this.\r\n"
      ]
    },
    {
      "cell_type": "code",
      "metadata": {
        "id": "nT8a_FUXMnz2"
      },
      "source": [
        "### Membership of a point in a region\r\n",
        "def region_contains(self, p):\r\n",
        "    ### YOUR CODE HERE\r\n",
        "    member=False\r\n",
        "    for rect in self.rectangles:\r\n",
        "      member=member | (p in rect)\r\n",
        "    return member\r\n",
        "\r\n",
        "Region.__contains__ = region_contains"
      ],
      "execution_count": null,
      "outputs": []
    },
    {
      "cell_type": "code",
      "metadata": {
        "id": "qw2ijk74MyYj"
      },
      "source": [
        "assert (4, 7) in Region(Rectangle((0, 2), (0, 3)),Rectangle((4, 6), (5, 8)))\r\n",
        "assert (2, 1) not in Region(Rectangle((0, 1), (0, 3)), \r\n",
        "                            Rectangle((4, 6), (5, 8)))"
      ],
      "execution_count": null,
      "outputs": []
    },
    {
      "cell_type": "markdown",
      "metadata": {
        "id": "78VaAP3zNAY0"
      },
      "source": [
        "Monte-Carlo Methods\r\n",
        "There are some obvious things we might want to do with a region, namely, compute its volume, compute whether two regions are equal, and compute the center of mass of a region.\r\n",
        "\r\n",
        "There are two approaches to this.\r\n",
        "\r\n",
        "One is to develop a precise approach. The problem in computing the volume of a region is that the rectangles in it might overlap. To solve this, one can use our method for computing disjoing differences to put regions in normal form, consisting of non-overlapping rectangles. The idea is to keep a region as a list of non-overlapping rectangles. When we add a rectangle S from a region consisting of non-overlapping rectangles R1,…,Rn, we first subtract from S each of R1,…,Rn in turn, getting as result a bunch of subrectangles of S; we can then add these subrectangles to the region.\r\n",
        "\r\n",
        "But this sounds like work!\r\n",
        "\r\n",
        "An alternative is to develop a randomized approach.\r\n",
        "\r\n",
        "A Monte-Carlo algorithm for region area\r\n",
        "We can develop a randomized approach to measuring the area of a region as follows. First, we compute a bounding box around it, which is simply the smallest rectangle guaranteed to contain the region. We simply take, for each coordinate, the min and max values of that coordinate of any rectangle in the region.\r\n",
        "\r\n",
        "Once we have a bounding box B for a region R, we simply pick at random a lot of points x∈B, using our Python random function. We can use our test x∈R, written in code as x in my_region, to check whether a point x belongs to region R. Let N be the number of points we generate, and M be the number of points that end up in R. The volume VR of the region R can be simply written as:\r\n",
        "\r\n",
        "VR=MN⋅VB,\r\n",
        "\r\n",
        "where VB is the volume of the bounding box. We will lead you to implement this code in steps.\r\n",
        "\r\n",
        "This method is an example of a Monte Carlo method, a method which gives an answer to a question via repeated randomized experiments, rather than via mathematical computation, which may be complex or unfeasible.\r\n",
        "\r\n",
        "\r\n",
        "Question 9: Compute Bounding Boxes\r\n",
        "\r\n",
        "First, write a method bounding_box of a region, which returns the bounding box as a rectangle. The bounding box is the smallest rectangle that contains the region.\r\n"
      ]
    },
    {
      "cell_type": "code",
      "metadata": {
        "id": "9FIddG1MM2jJ"
      },
      "source": [
        "### Compute the bounding box of a region\r\n",
        "\r\n",
        "def region_bounding_box(self):\r\n",
        "    \"\"\"Returns the bounding box of the region, as a rectangle.\r\n",
        "    This returns None if the region does not contain any rectangle.\"\"\"\r\n",
        "    if len(self.rectangles) == 0:\r\n",
        "        return None\r\n",
        "    ### YOUR CODE HERE\r\n",
        "    points=[]\r\n",
        "    result=[]\r\n",
        "    l=len(self.rectangles);#the numbers of rect\r\n",
        "    d=self.rectangles[0].ndims\r\n",
        "    for r in self.rectangles:\r\n",
        "      for j in range(len(r)):\r\n",
        "        points.append(r[j])\r\n",
        "    aa=np.array(points).reshape([l,d])\r\n",
        "    for i in range(d):\r\n",
        "      x0s,x1s=[],[]\r\n",
        "      for j in range(l):\r\n",
        "        x0s.append(aa[:,i][j].x0)\r\n",
        "        x1s.append(aa[:,i][j].x1)\r\n",
        "      result.append(Interval(min(x0s),max(x1s)))\r\n",
        "    \r\n",
        "    return Rectangle(*result)  \r\n",
        "\r\n",
        "Region.bounding_box = property(region_bounding_box)"
      ],
      "execution_count": null,
      "outputs": []
    },
    {
      "cell_type": "code",
      "metadata": {
        "id": "j5dbW3A5NG1e"
      },
      "source": [
        "# 10 points: tests for bounding boxes\r\n",
        "\r\n",
        "reg1 = Region(Rectangle((0, 2), (1, 3)), Rectangle((4, 6), (5, 8)))\r\n",
        "reg2 = Region(Rectangle((1, 2), (2, 3)), Rectangle((5, 6), (7, 8)))\r\n",
        "reg=reg1|reg2\r\n",
        "assert reg.bounding_box == Rectangle((0, 6), (1, 8))\r\n",
        "assert reg1.bounding_box == Rectangle((0, 6), (1, 8))\r\n",
        "\r\n",
        "reg = Region(\r\n",
        "    Rectangle((0, 5), (4, 5), (1, 9)),\r\n",
        "    Rectangle((4, 20), (-2, 3), (4, 21)),\r\n",
        "    Rectangle((7, 99), (3, 7), (2, 3))\r\n",
        ")\r\n",
        "assert reg.bounding_box == Rectangle((0, 99), (-2, 7), (1, 21))"
      ],
      "execution_count": null,
      "outputs": []
    },
    {
      "cell_type": "markdown",
      "metadata": {
        "id": "xI0yqmtdNSG3"
      },
      "source": [
        "Select random points from a rectangle\r\n",
        "Next, we write a Rectangle method random_point, which returns a point of a rectangle chosen uniformly at random each time it is called. To this end, it is easier first to write the corresponding method for an interval. In Python,\r\n",
        "\r\n",
        "random.random()\r\n",
        "returns a random value uniformly distributed between 0 and 1, and\r\n",
        "\r\n",
        "random.uniform(a, b)\r\n",
        "returns a random value uniformly distributed between a and b. We can use this to define the interval method:\r\n"
      ]
    },
    {
      "cell_type": "code",
      "metadata": {
        "id": "Wl081df1NLRb"
      },
      "source": [
        "import random\r\n",
        "\r\n",
        "def interval_random_point(self):\r\n",
        "    return random.uniform(self.x0, self.x1)\r\n",
        "\r\n",
        "Interval.random_point = interval_random_point\r\n",
        "\r\n",
        "# Or if we wanted to be concise, we could just have written:\r\n",
        "\r\n",
        "Interval.random_point = lambda self : random.uniform(self.x0, self.x1)\r\n"
      ],
      "execution_count": null,
      "outputs": []
    },
    {
      "cell_type": "markdown",
      "metadata": {
        "id": "NBKH3QMHNc7Z"
      },
      "source": [
        "Question 10: Random Point in a Rectangle\r\n",
        "\r\n",
        "---\r\n",
        "\r\n",
        "\r\n",
        "To select a random point from a rectangle, we just need to return a tuple formed by choosing a random point from each of the rectangle's intervals. We leave this to you. Remember that the intervals of a rectangle self are in self.intervals."
      ]
    },
    {
      "cell_type": "code",
      "metadata": {
        "id": "gOSI1A9zNX7q"
      },
      "source": [
        "### Random point of a rectangle\r\n",
        "def rectangle_random_point(self):\r\n",
        "    ### YOUR CODE HERE\r\n",
        "    point=[]\r\n",
        "    for i in self.intervals:\r\n",
        "      x=i.random_point()\r\n",
        "      point.append(x)\r\n",
        "    return tuple(point)\r\n",
        "\r\n",
        "Rectangle.random_point = rectangle_random_point"
      ],
      "execution_count": null,
      "outputs": []
    },
    {
      "cell_type": "code",
      "metadata": {
        "colab": {
          "base_uri": "https://localhost:8080/"
        },
        "id": "fblUVDRqNhz8",
        "outputId": "fa05e2c1-2c17-48f7-8de0-4034944c60b7"
      },
      "source": [
        "# 3 points: random point of a rectangle.\r\n",
        "\r\n",
        "r = Rectangle((0, 2), (1, 3))\r\n",
        "\r\n",
        "for i in range(5):\r\n",
        "    p = r.random_point()\r\n",
        "    assert isinstance(p, tuple)\r\n",
        "    assert len(p) == 2\r\n",
        "    assert p in r\r\n",
        "    print(p)"
      ],
      "execution_count": null,
      "outputs": [
        {
          "output_type": "stream",
          "text": [
            "(1.4247823902346395, 1.8429408997857673)\n",
            "(0.10876444423477416, 2.531448607015585)\n",
            "(1.243364525800819, 2.5838909970375097)\n",
            "(0.3123543130142019, 1.00216924520542)\n",
            "(0.29007358833153796, 2.703332231337625)\n"
          ],
          "name": "stdout"
        }
      ]
    },
    {
      "cell_type": "code",
      "metadata": {
        "id": "U_-B2_HSNkuo"
      },
      "source": [
        "# 3 points: random point of a rectangle. \r\n",
        "\r\n",
        "import numpy as np\r\n",
        "\r\n",
        "r = Rectangle((1, 2), (1, 6))\r\n",
        "xs, ys = [], []\r\n",
        "for _ in range(10000):\r\n",
        "    p = r.random_point()\r\n",
        "    assert p in r\r\n",
        "    xs.append(p[0])\r\n",
        "    ys.append(p[1])\r\n",
        "assert np.std(xs) * 4.9 < np.std(ys) < np.std(xs) * 5.1\r\n"
      ],
      "execution_count": null,
      "outputs": []
    },
    {
      "cell_type": "markdown",
      "metadata": {
        "id": "msr5XeTKNphW"
      },
      "source": [
        "Question 11: Volume via Monte Carlo\r\n",
        "We are now ready to compute the volume of a region  R  using Monte Carlo methods. The form of your code is:\r\n",
        "\r\n",
        "Compute the bounding box  B \r\n",
        "Pick  N  points at random from  B , and count the number  M  of them that fall in  R .\r\n",
        "Return  B.volume⋅(M/N) ."
      ]
    },
    {
      "cell_type": "code",
      "metadata": {
        "id": "XsbVsMcjNn7W"
      },
      "source": [
        "### Monte carlo Volume\r\n",
        "\r\n",
        "def region_montecarlo_volume(self, n=1000):\r\n",
        "    \"\"\"Computes the volume of a region, using Monte Carlo approximation\r\n",
        "    with n samples.\"\"\"\r\n",
        "    # The solution, written without any particular trick, takes 7 lines.\r\n",
        "    # If you write a much longer solution, you are on the wrong track.\r\n",
        "    ### YOUR CODE HERE\r\n",
        "    b=self.bounding_box\r\n",
        "    m=0\r\n",
        "    for i in range(n):\r\n",
        "      point=b.random_point()\r\n",
        "      if point in self:\r\n",
        "        m+=1\r\n",
        "    return b.volume*m/n\r\n",
        "Region.montecarlo_volume = region_montecarlo_volume"
      ],
      "execution_count": null,
      "outputs": []
    },
    {
      "cell_type": "markdown",
      "metadata": {
        "id": "Rcf4NxxuN0oX"
      },
      "source": [
        "the approximation becomes the more precise, the more samples we have."
      ]
    },
    {
      "cell_type": "code",
      "metadata": {
        "colab": {
          "base_uri": "https://localhost:8080/",
          "height": 332
        },
        "id": "Bj72ChGWNwK4",
        "outputId": "edcda19f-0c6c-4dc7-a896-46b1a9d9a8c5"
      },
      "source": [
        "reg = Region(Rectangle((0, 4), (0, 2)), Rectangle((1, 2), (0, 4)))\r\n",
        "reg.draw()\r\n",
        "print(\"   10 samples:\", reg.montecarlo_volume(n=10))\r\n",
        "print(\"  100 samples:\", reg.montecarlo_volume(n=100))\r\n",
        "print(\" 1000 samples:\", reg.montecarlo_volume(n=1000))\r\n",
        "print(\"10000 samples:\", reg.montecarlo_volume(n=1000))"
      ],
      "execution_count": null,
      "outputs": [
        {
          "output_type": "display_data",
          "data": {
            "image/png": "[encoded data removed]",
            "text/plain": [
              "<Figure size 432x288 with 1 Axes>"
            ]
          },
          "metadata": {
            "tags": [],
            "needs_background": "light"
          }
        },
        {
          "output_type": "stream",
          "text": [
            "   10 samples: 12.8\n",
            "  100 samples: 9.44\n",
            " 1000 samples: 10.176\n",
            "10000 samples: 9.632\n"
          ],
          "name": "stdout"
        }
      ]
    },
    {
      "cell_type": "code",
      "metadata": {
        "id": "TdUrdduRN4Zb",
        "colab": {
          "base_uri": "https://localhost:8080/",
          "height": 332
        },
        "outputId": "f20e496f-8d7b-4d1e-8525-ad078f1f9288"
      },
      "source": [
        "# 10 points: Volume via Monte Carlo\r\n",
        "\r\n",
        "reg = Region(Rectangle((0, 1), (0, 4)), Rectangle((0, 4), (0, 1)))\r\n",
        "reg.draw()\r\n",
        "print(\"   10 samples:\", reg.montecarlo_volume(n=10))\r\n",
        "print(\"  100 samples:\", reg.montecarlo_volume(n=100))\r\n",
        "print(\" 1000 samples:\", reg.montecarlo_volume(n=1000))\r\n",
        "print(\"10000 samples:\", reg.montecarlo_volume(n=1000))\r\n",
        "\r\n",
        "v = reg.montecarlo_volume(n=10000)\r\n",
        "assert 6.2 < v < 7.8"
      ],
      "execution_count": null,
      "outputs": [
        {
          "output_type": "display_data",
          "data": {
            "image/png": "[encoded data removed]",
            "text/plain": [
              "<Figure size 432x288 with 1 Axes>"
            ]
          },
          "metadata": {
            "tags": [],
            "needs_background": "light"
          }
        },
        {
          "output_type": "stream",
          "text": [
            "   10 samples: 6.4\n",
            "  100 samples: 7.2\n",
            " 1000 samples: 7.12\n",
            "10000 samples: 6.768\n"
          ],
          "name": "stdout"
        }
      ]
    },
    {
      "cell_type": "markdown",
      "metadata": {
        "id": "OWWzeYS3ODKY"
      },
      "source": [
        "We could quantify the standard deviation of the result, but it is beyond the scope of this class.\r\n",
        "\r\n",
        "Exercise: Develop a Monte-Carlo method for computing the center of mass of a region. The idea consists in sampling uniformly at random from the bounding box, retaining only the points that are in the region. The center of mass of the sampled points in the region provides an approximation for the center of mass of the region."
      ]
    },
    {
      "cell_type": "markdown",
      "metadata": {
        "id": "9lU6QiB0OKZO"
      },
      "source": [
        "Question 12: A Monte-Carlo method for region equality\r\n",
        "\r\n",
        "\r\n",
        "We can apply Monte Carlo methods also to the question of deciding region equality.\r\n",
        "\r\n",
        "One way to decide whether two regions  R1  and  R2  are equal consists in subtracting  R2  from  R1  and checking that the result is empty, and then subtracting  R1  from  R2 , and checking that it is also empty.\r\n",
        "\r\n",
        "But again, this sounds like work, and why work if we can just guess?\r\n",
        "\r\n",
        "The idea is to compute the bounding box  B  of  R1∪R2 , and to sample points from  B . If we find a point  p  that belongs to one region but not the other, we declare the regions distinct. If we do not find such \"distinguishing\" point after  N  trials, we declare the regions identical, and the point serves as a witness to their difference.\r\n",
        "\r\n",
        "We leave the implementation to you."
      ]
    },
    {
      "cell_type": "code",
      "metadata": {
        "id": "4th3Hpr1N_RK",
        "colab": {
          "base_uri": "https://localhost:8080/",
          "height": 811
        },
        "outputId": "840ab706-30f9-4330-fa37-0732506f61f2"
      },
      "source": [
        "### Monte Carlo difference and equality between regions\r\n",
        "\r\n",
        "def region_montecarlo_difference(self, other, n=1000):\r\n",
        "    \"\"\"Checks whether a region self is different from a region other, using\r\n",
        "    a Monte Carlo method with n samples.  It returns either a point p that\r\n",
        "    witnesses the difference of the regions, or None, if no such point is found.\"\"\"\r\n",
        "    # This can be done without hurry in 6 lines of code.\r\n",
        "    ### YOUR CODE HERE\r\n",
        "    box=(self | other).bounding_box\r\n",
        "    \r\n",
        "    for i in range(n):\r\n",
        "      point=box.random_point()\r\n",
        "      if (point in self and point not in other) or (point not in self and point in other):\r\n",
        "        return point\r\n",
        "    return None\r\n",
        "\r\n",
        "Region.montecarlo_difference = region_montecarlo_difference\r\n",
        "\r\n",
        "def region_montecarlo_equality(self, other, n=1000):\r\n",
        "    return self.montecarlo_difference(other, n=n) is None\r\n",
        "\r\n",
        "Region.montecarlo_equality = region_montecarlo_equality\r\n",
        "\r\n",
        "reg1 = Region(Rectangle((0, 4), (0, 2)), Rectangle((1, 2), (0, 4)), name=\"reg1\")\r\n",
        "reg2 = Region(Rectangle((0, 4), (0, 2)), Rectangle((1, 2), (1, 4)), name=\"reg2\")\r\n",
        "reg3 = Region(Rectangle((0, 4), (0, 2)), Rectangle((1, 2), (0, 3)), name=\"reg3\")\r\n",
        "reg1.draw()\r\n",
        "reg2.draw()\r\n",
        "reg3.draw()\r\n",
        "print(\"reg1 vs reg2\", reg1.montecarlo_equality(reg2))\r\n",
        "print(\"reg1 vs reg2\", reg1.montecarlo_equality(reg3))\r\n",
        "print(\"reg1 vs reg3\", reg1.montecarlo_difference(reg3))\r\n"
      ],
      "execution_count": null,
      "outputs": [
        {
          "output_type": "display_data",
          "data": {
            "image/png": "[encoded data removed]",
            "text/plain": [
              "<Figure size 432x288 with 1 Axes>"
            ]
          },
          "metadata": {
            "tags": [],
            "needs_background": "light"
          }
        },
        {
          "output_type": "display_data",
          "data": {
            "image/png": "[encoded data removed]",
            "text/plain": [
              "<Figure size 432x288 with 1 Axes>"
            ]
          },
          "metadata": {
            "tags": [],
            "needs_background": "light"
          }
        },
        {
          "output_type": "display_data",
          "data": {
            "image/png": "[encoded data removed]",
            "text/plain": [
              "<Figure size 432x288 with 1 Axes>"
            ]
          },
          "metadata": {
            "tags": [],
            "needs_background": "light"
          }
        },
        {
          "output_type": "stream",
          "text": [
            "reg1 vs reg2 True\n",
            "reg1 vs reg2 False\n",
            "reg1 vs reg3 (1.744251990504321, 3.4434215477080823)\n"
          ],
          "name": "stdout"
        }
      ]
    },
    {
      "cell_type": "code",
      "metadata": {
        "id": "6EAAYsUPORCn"
      },
      "source": [
        "# 10 points: Equality of regions via Monte Carlo. \r\n",
        "\r\n",
        "reg1 = Region(Rectangle((0, 4), (0, 2)), Rectangle((1, 2), (0, 4)), name=\"reg1\")\r\n",
        "reg2 = Region(Rectangle((0, 4), (0, 2)), Rectangle((1, 2), (1, 4)), name=\"reg2\")\r\n",
        "reg3 = Region(Rectangle((0, 4), (0, 2)), Rectangle((1, 2), (0, 3)), name=\"reg3\")\r\n",
        "assert reg1.montecarlo_equality(reg2)\r\n",
        "assert not reg1.montecarlo_equality(reg3)"
      ],
      "execution_count": null,
      "outputs": []
    },
    {
      "cell_type": "code",
      "metadata": {
        "id": "aVPBDutzOVOu"
      },
      "source": [
        ""
      ],
      "execution_count": null,
      "outputs": []
    }
  ]
}