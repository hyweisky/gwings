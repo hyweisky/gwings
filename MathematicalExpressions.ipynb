{
  "nbformat": 4,
  "nbformat_minor": 0,
  "metadata": {
    "colab": {
      "name": "MathematicalExpressions.ipynb",
      "provenance": [],
      "collapsed_sections": [],
      "authorship_tag": "ABX9TyPHKKXOofLminldCsajtjc2",
      "include_colab_link": true
    },
    "kernelspec": {
      "name": "python3",
      "display_name": "Python 3"
    }
  },
  "cells": [
    {
      "cell_type": "markdown",
      "metadata": {
        "id": "view-in-github",
        "colab_type": "text"
      },
      "source": [
        "<a href=\"https://colab.research.google.com/github/hyweisky/gwings/blob/master/MathematicalExpressions.ipynb\" target=\"_parent\"><img src=\"https://colab.research.google.com/assets/colab-badge.svg\" alt=\"Open In Colab\"/></a>"
      ]
    },
    {
      "cell_type": "markdown",
      "metadata": {
        "id": "tMhxLqH8a759"
      },
      "source": [
        "Let us create an exception to raise when we cannot interpret an expression."
      ]
    },
    {
      "cell_type": "code",
      "metadata": {
        "id": "HXbydZKWa4v_"
      },
      "source": [
        "class IllegalExpression(Exception):\r\n",
        "    pass\r\n",
        "\r\n",
        "def compute_plus_minus(e):\r\n",
        "    if isinstance(e, tuple):\r\n",
        "        # We have an expression.\r\n",
        "        op, l, r = e\r\n",
        "        # We compute the subexpressions.\r\n",
        "        ll = compute_plus_minus(l)\r\n",
        "        rr = compute_plus_minus(r)\r\n",
        "        # And on the basis of those, the whole expression.\r\n",
        "        if op == \"+\":\r\n",
        "            return ll + rr\r\n",
        "        elif op == \"-\":\r\n",
        "            return ll - rr\r\n",
        "        else:\r\n",
        "            raise IllegalExpression(repr(e))\r\n",
        "    else:\r\n",
        "        # base expression; just return the number.\r\n",
        "        return e"
      ],
      "execution_count": null,
      "outputs": []
    },
    {
      "cell_type": "code",
      "metadata": {
        "colab": {
          "base_uri": "https://localhost:8080/"
        },
        "id": "2H8u46tibUKU",
        "outputId": "26cd3e3b-ec24-485e-f4d0-deb4c56736bb"
      },
      "source": [
        "compute_plus_minus((\"+\", 4, 5))\r\n",
        "compute_plus_minus((\"+\", (\"-\", 3, 1), (\"+\", 4, 9)))"
      ],
      "execution_count": null,
      "outputs": [
        {
          "output_type": "execute_result",
          "data": {
            "text/plain": [
              "15"
            ]
          },
          "metadata": {
            "tags": []
          },
          "execution_count": 3
        }
      ]
    },
    {
      "cell_type": "code",
      "metadata": {
        "colab": {
          "base_uri": "https://localhost:8080/"
        },
        "id": "WLRUyVqGbOHC",
        "outputId": "94076bb6-e92c-4130-c4b1-28ed5d6bd030"
      },
      "source": [
        "import traceback\r\n",
        "try:\r\n",
        "    compute_plus_minus((\"^\", 3, 4))\r\n",
        "except:\r\n",
        "    traceback.print_exc()"
      ],
      "execution_count": null,
      "outputs": [
        {
          "output_type": "stream",
          "text": [
            "Traceback (most recent call last):\n",
            "  File \"<ipython-input-4-ecf33d817174>\", line 3, in <module>\n",
            "    compute_plus_minus((\"^\", 3, 4))\n",
            "  File \"<ipython-input-2-8ecdf92b911e>\", line 17, in compute_plus_minus\n",
            "    raise IllegalExpression(repr(e))\n",
            "IllegalExpression: ('^', 3, 4)\n"
          ],
          "name": "stderr"
        }
      ]
    },
    {
      "cell_type": "markdown",
      "metadata": {
        "id": "tIaBM2sjcEz9"
      },
      "source": [
        "Let us define a helper function calc, which takes as argument an operator and two numbers, and computes the required operation. It will make it easier to write the rest of the code."
      ]
    },
    {
      "cell_type": "code",
      "metadata": {
        "id": "_U5-wqJIcH5K"
      },
      "source": [
        "def calc(op, left, right):\r\n",
        "    if op == \"+\":\r\n",
        "        return left + right\r\n",
        "    elif op == \"-\":\r\n",
        "        return left - right\r\n",
        "    elif op == \"*\":\r\n",
        "        return left * right\r\n",
        "    elif op == \"/\":\r\n",
        "        return left / right\r\n",
        "    else:\r\n",
        "      raise IllegalExpression(repr(e))"
      ],
      "execution_count": null,
      "outputs": []
    },
    {
      "cell_type": "markdown",
      "metadata": {
        "id": "5pMhJfNscfNY"
      },
      "source": [
        "Question 1\r\n",
        "\r\n",
        "Extend the compute_plus_minus to a compute_arithmetic function that can deal with all four arithmetic operators. You may use the above calc helper if you wish."
      ]
    },
    {
      "cell_type": "code",
      "metadata": {
        "id": "fM21NLXjcmzW"
      },
      "source": [
        "def compute_arithmetic(e):\r\n",
        "    \"\"\"Computes the value of an arithmetic expression e.\"\"\"\r\n",
        "    ### YOUR CODE HERE\r\n",
        "    if isinstance(e, tuple):\r\n",
        "        # We have an expression.\r\n",
        "        op, l, r = e\r\n",
        "        # We compute the subexpressions.\r\n",
        "        ll = compute_arithmetic(l)\r\n",
        "        rr = compute_arithmetic(r)\r\n",
        "        return calc(op,ll,rr)\r\n",
        "    else:\r\n",
        "        # base expression; just return the number.\r\n",
        "        return e"
      ],
      "execution_count": null,
      "outputs": []
    },
    {
      "cell_type": "code",
      "metadata": {
        "id": "Ygk2E5x0cz57"
      },
      "source": [
        "## Simple tests for one-level expressions. 2 points. \r\n",
        "\r\n",
        "assert compute_arithmetic(3) == 3\r\n",
        "assert compute_arithmetic((\"+\", 3, 5)) == 8\r\n",
        "assert compute_arithmetic((\"-\", 3, 5)) == -2\r\n",
        "assert compute_arithmetic((\"*\", 3, 5.5)) == 16.5\r\n",
        "assert compute_arithmetic((\"/\", 10, 5)) == 2\r\n"
      ],
      "execution_count": null,
      "outputs": []
    },
    {
      "cell_type": "code",
      "metadata": {
        "id": "JZpAJbZSc2uL"
      },
      "source": [
        "## Tests for multilevel expressions.  3 points. \r\n",
        "\r\n",
        "e = (\"-\", (\"+\", 3, 4), (\"*\", 5, 3))\r\n",
        "assert compute_arithmetic(e) == -8\r\n",
        "\r\n",
        "e = (\"*\", (\"/\", 8, 4), (\"*\", 5, 3))\r\n",
        "assert compute_arithmetic(e) == 30\r\n",
        "\r\n",
        "e = (\"*\", (\"/\", 8, 4), (\"*\", 5, 3.2))\r\n",
        "assert compute_arithmetic(e) == 32\r\n",
        "\r\n",
        "e = (\"*\", (\"/\", 8, 4), (\"*\", (\"-\", 9, 6), 5))\r\n",
        "assert compute_arithmetic(e) == 30\r\n",
        "## Hidden tests for expressions.  5 points. "
      ],
      "execution_count": null,
      "outputs": []
    },
    {
      "cell_type": "markdown",
      "metadata": {
        "id": "kZF6W8SzfqJL"
      },
      "source": [
        "Expressions with variables\r\n",
        "If an expression can have variables, we can distinguish three types of expressions:\r\n",
        "\r\n",
        "Numbers\r\n",
        "Variables\r\n",
        "Composite expressions.\r\n",
        "To facilitate writing code, let us define for you three helper functions that tell us the type of an expression."
      ]
    },
    {
      "cell_type": "code",
      "metadata": {
        "id": "a6GMHD69flor"
      },
      "source": [
        "from numbers import Number # The mother class of all numbers.\r\n",
        "\r\n",
        "def isnumber(e):\r\n",
        "    return isinstance(e, Number)\r\n",
        "\r\n",
        "def isvariable(e):\r\n",
        "    return isinstance(e, str)\r\n",
        "\r\n",
        "def iscomposite(e):\r\n",
        "    return isinstance(e, tuple)"
      ],
      "execution_count": null,
      "outputs": []
    },
    {
      "cell_type": "markdown",
      "metadata": {
        "id": "r61dNSJEgCt0"
      },
      "source": [
        "The idea we use to simplify an expression is the following:\r\n",
        "\r\n",
        "If the expression is a Number, you return a number: it's already simplified.\r\n",
        "If the expression is a variable, you return the variable (that is, the expression unchanged); there is nothing to be done.\r\n",
        "If the expression is an operation, such as \"+\", \"-\", ..., then you consider the right and left children, and you reason:\r\n",
        "If all the two children are numbers, then you can compute the operation and return the result.\r\n",
        "Otherwise, again, there is nothing that can be done, and you return the expression unchanged.\r\n",
        "\r\n",
        "def simplify_once(e):\r\n",
        "    if isnumber(e) or isvariable(e):\r\n",
        "        # No simplification possible.\r\n",
        "        return e\r\n",
        "    else:\r\n",
        "        op, l, r = e\r\n",
        "        if isnumber(l) and isnumber(r):\r\n",
        "            return calc(op, l, r)\r\n",
        "        else:\r\n",
        "            # We cannot do anything.\r\n",
        "            return e\r\n"
      ]
    },
    {
      "cell_type": "code",
      "metadata": {
        "id": "9duOyIKBgJZ8"
      },
      "source": [
        "def simplify_once(e):\r\n",
        "    if isnumber(e) or isvariable(e):\r\n",
        "        # No simplification possible.\r\n",
        "        return e\r\n",
        "    else:\r\n",
        "        op, l, r = e\r\n",
        "        \r\n",
        "        if isnumber(l) and isnumber(r):\r\n",
        "            return calc(op, l, r)\r\n",
        "        else:\r\n",
        "            # We cannot do anything.\r\n",
        "            return e"
      ],
      "execution_count": null,
      "outputs": []
    },
    {
      "cell_type": "markdown",
      "metadata": {
        "id": "uwn6trfGg2Ir"
      },
      "source": [
        "#Let's see how this works.\r\n"
      ]
    },
    {
      "cell_type": "code",
      "metadata": {
        "id": "MS4CxruIg87b",
        "colab": {
          "base_uri": "https://localhost:8080/"
        },
        "outputId": "f2a5e8f1-687a-4035-8748-df37666fc014"
      },
      "source": [
        "simplify_once(3)\r\n",
        "simplify_once((\"+\", \"x\", 1))"
      ],
      "execution_count": null,
      "outputs": [
        {
          "output_type": "execute_result",
          "data": {
            "text/plain": [
              "('+', 'x', 1)"
            ]
          },
          "metadata": {
            "tags": []
          },
          "execution_count": 11
        }
      ]
    },
    {
      "cell_type": "markdown",
      "metadata": {
        "id": "6DsgdK4ShJqk"
      },
      "source": [
        "Yes, there was nothing we could simplify. Let's try now with something we can simplify:\r\n"
      ]
    },
    {
      "cell_type": "code",
      "metadata": {
        "colab": {
          "base_uri": "https://localhost:8080/"
        },
        "id": "9MpYNuIChN-a",
        "outputId": "8a88f9a1-1c3a-4b40-bdfc-75dba4b95148"
      },
      "source": [
        "simplify_once(('-', 5, 4))\r\n"
      ],
      "execution_count": null,
      "outputs": [
        {
          "output_type": "execute_result",
          "data": {
            "text/plain": [
              "1"
            ]
          },
          "metadata": {
            "tags": []
          },
          "execution_count": 12
        }
      ]
    },
    {
      "cell_type": "markdown",
      "metadata": {
        "id": "0vIBeZibhYBs"
      },
      "source": [
        "#Can we simplify bigger expressions?\r\n"
      ]
    },
    {
      "cell_type": "code",
      "metadata": {
        "colab": {
          "base_uri": "https://localhost:8080/"
        },
        "id": "L-lFr0gfhbkr",
        "outputId": "25ba3044-beca-4218-9818-df171f470617"
      },
      "source": [
        "simplify_once( ('+', 6, ('-', 7, 2)) )"
      ],
      "execution_count": null,
      "outputs": [
        {
          "output_type": "execute_result",
          "data": {
            "text/plain": [
              "('+', 6, ('-', 7, 2))"
            ]
          },
          "metadata": {
            "tags": []
          },
          "execution_count": 13
        }
      ]
    },
    {
      "cell_type": "markdown",
      "metadata": {
        "id": "9iu1SL86gv0F"
      },
      "source": [
        "No. It's not wrong, but nothing happens. Why?\r\n",
        "\r\n",
        "Because when simplify_once looks at the top expression, it sees a +. It then asks (line 9): are both children numbers? And the answer is No: the left child, 6, is a number, but the right child is an expression.\r\n",
        "\r\n",
        "We need to first simplify the expressions corresponding to the children, and only then ask whether the children of the node are both numbers. In other words, simplify needs to be a recursive function, which for a node, first tries to simplify the children, and only then tries to simplify the whole expression."
      ]
    },
    {
      "cell_type": "markdown",
      "metadata": {
        "id": "h0q_3JrviAnt"
      },
      "source": [
        "Question 2\r\n",
        "Write a version of simplify that is able to carry on computation on multi-level expressions, including (but not limited to) ('+', 6, ('-', 7, 2)).\r\n"
      ]
    },
    {
      "cell_type": "code",
      "metadata": {
        "id": "pjRycDPwiEw0"
      },
      "source": [
        "def simplify(e):\r\n",
        "    \"\"\"Simplifies an expression containing variables, carrying out all possible computations.\"\"\"\r\n",
        "    ### YOUR CODE HERE\r\n",
        "    if isnumber(e) or isvariable(e):\r\n",
        "        # No simplification possible.\r\n",
        "        return e\r\n",
        "    else:\r\n",
        "        op, l, r = e\r\n",
        "        l=simplify(l)\r\n",
        "        r=simplify(r)\r\n",
        "        if isnumber(l) and isnumber(r):\r\n",
        "            return calc(op, l, r)\r\n",
        "        else:\r\n",
        "            # We return the new expression.\r\n",
        "            return (op,l,r)\r\n"
      ],
      "execution_count": null,
      "outputs": []
    },
    {
      "cell_type": "code",
      "metadata": {
        "id": "U58Z9BO8iJ-i"
      },
      "source": [
        "## Tests for simplify. 2 points. \r\n",
        "\r\n",
        "e = ('+', 6, ('-', 7, 2))\r\n",
        "assert simplify(e) == 11\r\n",
        "\r\n",
        "e = ('+', 6, ('-', \"x\", 2))\r\n",
        "assert simplify(e) == e\r\n",
        "\r\n",
        "e = ('+', \"cat\", ('-', 7, 2))\r\n",
        "assert simplify(e) == ('+', \"cat\", 5)\r\n",
        "\r\n",
        "e = ('*', ('+', 2, 3), ('-', 7, 2))\r\n",
        "assert simplify(e) == 25\r\n",
        "\r\n",
        "e = ('*', ('+', 2, 3), ('-', 7, \"monkey\"))\r\n",
        "assert simplify(e) == ('*', 5, ('-', 7, 'monkey'))\r\n",
        "\r\n",
        "## Hidden tests for simplify.  4 points.\r\n",
        "e = ('*', ('+', 2, 3), ('-', ('*',4,2), ('-', 2, \"mokey\")))\r\n",
        "assert simplify(e) == ('*', 5, ('-', 8, ('-', 2, \"mokey\")))"
      ],
      "execution_count": null,
      "outputs": []
    },
    {
      "cell_type": "markdown",
      "metadata": {
        "id": "qccSj0Njt3yT"
      },
      "source": [
        "Question 3: Evaluating expressions with respect to a variable valuation.\r\n",
        "\r\n",
        "The function simplify we asked you to write above can perform all numerical computations, but stops whenever it encounters a variable. It cannot do any better, in fact, because it does not know the values of variables.\r\n",
        "\r\n",
        "If we specify values for variables, we can then use those values in the computation, replacing each variable whose value is specified with the value itself.\r\n",
        "\r\n",
        "A variable valuation is a mapping from variables to their values; we can represent it simply as a dictionary associating to each variable a number:\r\n",
        "\r\n",
        "varval = {'x': 3, 'y': 8}\r\n",
        "\r\n",
        "You can extend the evaluation function to take as input a variable valuation. The idea is that, when you find a variable, you try to see whether its value is specified in the variable valuation. If it is, you can replace the variable with the value, and carry on. If it is not, you leave the variable as it is, since you cannot evaluate it.\r\n",
        "\r\n",
        "To check if a variable (a string) s is in a dictionary d, you can test\r\n",
        "\r\n",
        "s in d\r\n",
        "\r\n",
        "and to get the value, in case it is present, you can just do d[s] of course. We let you develop the code."
      ]
    },
    {
      "cell_type": "code",
      "metadata": {
        "id": "a2I6XZtuuCpz"
      },
      "source": [
        "### Evaluating an expression with respect to a variable evaluation\r\n",
        "def compute(e, varval={}):\r\n",
        "    ### YOUR CODE HERE\r\n",
        "    if isnumber(e):\r\n",
        "        # No simplification possible.\r\n",
        "        return e\r\n",
        "    elif isvariable(e):\r\n",
        "      if e in varval:\r\n",
        "        return varval[e]\r\n",
        "      else:\r\n",
        "        return e\r\n",
        "    else:\r\n",
        "        op, l, r = e\r\n",
        "        l=compute(l,varval)\r\n",
        "        r=compute(r,varval)\r\n",
        "        if isnumber(l) and isnumber(r):\r\n",
        "            return calc(op, l, r)\r\n",
        "        else:\r\n",
        "            # We return the new expression.\r\n",
        "            return (op,l,r)\r\n"
      ],
      "execution_count": null,
      "outputs": []
    },
    {
      "cell_type": "code",
      "metadata": {
        "id": "RotTqYyQuGQr"
      },
      "source": [
        "## Tests for compute.  4 points. \r\n",
        "e = ('*', 2, ('+', 'x', ('-', 3, 2)))\r\n",
        "assert compute(e) == ('*', 2, ('+', 'x', 1))\r\n",
        "assert compute(e, varval={'x': 6}) == 14\r\n",
        "assert compute(e, varval={'y': 10}) == ('*', 2, ('+', 'x', 1))\r\n",
        "\r\n",
        "e = ('+', ('-', 'yy', 3), ('*', 'x', 4))\r\n",
        "assert compute(e, varval={'x': 2}) == ('+', ('-', 'yy', 3), 8)\r\n",
        "assert compute(e, varval={'yy': 3}) == ('+', 0, ('*', 'x', 4))\r\n",
        "assert compute(e, varval={'x': 2, 'yy': 3}) == 8\r\n",
        "### Hidden tests for compute.  6 points. "
      ],
      "execution_count": null,
      "outputs": []
    },
    {
      "cell_type": "markdown",
      "metadata": {
        "id": "sxe_gdRawp7L"
      },
      "source": [
        "If we provide the values for only some of the variables, the compute function defined above, will plug in the values for those variables and perform all computations possible. Of course, if the expression contains variables for which the valuation does not specify a value, the resulting expression will still contain those variables: it will not be simply a number. In computer science, evaluating an expression as far as possible using the values for a subset of the variables is knwon as partial evaluation.\r\n",
        "\r\n",
        "\r\n",
        "When are two expressions equal?\r\n",
        "Or: it's better to be lucky than to be smart.\r\n",
        "\r\n",
        "Or: if you don't know how to do it right, do it at random.\r\n",
        "\r\n",
        "Or: the power of randomization.\r\n",
        "\r\n",
        "We now consider the following problem: given two expressions e and f, how can we decide whether they are equal in value, that is, whether they yield always the same value for all values of the variables?\r\n",
        "\r\n",
        "This \"value equality\" is a different notion from the structural equality we defined before. For instance, the two expressions (\"+\", \"x\", 1) and (\"-\", (*, 2, \"x\"), \"x\") are not structurally equal, but they are equal in values.\r\n",
        "\r\n",
        "How can we test for value equality of expressions? There are two ways: the high road, and the pirate road. Of course, we take the pirate road.\r\n",
        "\r\n",
        "The high-road approach consists in trying to demonstrate, in some way, that the two expressions are equal. One way of doing so would be to define a set of rewriting rules for expressions, that try to transform one expression into the other; this would mimick the process often done by hand to show that two expressions are equal. Another way would be to use theorem provers that can reason about expressions and real numbers, such as PVS. The problem is that these approaches are a lot of work. Is there a way to be lazy, and still get the job done?\r\n",
        "\r\n",
        "There is, it turns out. Suppose you have two expressions f,g containing variable x only. The idea is that if f and g are built with the usual operators of algebra, it is exceedingly unlikely for f and g to give the same value many values of x, and yet not be always equal. This would not be true if our expressions could contain if-then-else statements, but for the operators we defined so far, it holds. Indeed, one could be more precise, and try to come up with a theorem of the form:\r\n",
        "\r\n",
        "If f and g have \"zerosity\" n, and are equal for n+1 values of x, then they are equal for all values of x.\r\n",
        "\r\n",
        "We could then try to define the \"zerosity\" of an expression to make this hold: for example, for two polynomials of degree at most d, once you show that they are equal for d+1 points, they must be equal everywhere (why?). But this again would be a smart approach, and we are trying to see if we can solve the problem while being as stupid as possible. So our idea will simply be: pick 1000 values of x at random; if the two expressions are equal for all the values, then they must be equal everywhere. This is a somewhat special case of a Monte Carlo method, a method used to estimate the probability of complex phenomena (where expression equality is our phenomenon).\r\n",
        "\r\n",
        "There are only two wrinkles with this. The first is that an expression can contain many variables, and we have to try to value assignments for all of the variables. This is easy to overcome; we just need some helper function that gives us the set of variables in a function. The second wrinkle is: how do we generate the possible value assignments? How big do these values need to be on average? According to what probability distribution? We could dive into a lot of theory and reasoning about how to compute appropriate probability distributions, but since our goal is to be stupid, we will use one of the simplest distributions with infinite domain: the Gaussian one.\r\n",
        "\r\n",
        "Let us start by writing the function variables such that, if e is an expression, variables(e) is the set of variables that appear in it.\r\n",
        "\r\n",
        "\r\n",
        "Question 4: define variables"
      ]
    },
    {
      "cell_type": "code",
      "metadata": {
        "id": "kJZ1UR4jz2iY"
      },
      "source": [
        "def variables(e):\r\n",
        "  ### Exercise: define `variables`\r\n",
        "  ### YOUR CODE HERE\r\n",
        "  var_sets=set()\r\n",
        "  if isvariable(e) :\r\n",
        "    var_sets.add(e)\r\n",
        "    return var_sets\r\n",
        "  elif iscomposite(e):\r\n",
        "    op,l,r=e\r\n",
        "    var_sets_l,var_sets_r= variables(l),variables(r)\r\n",
        "    return var_sets | var_sets_l |var_sets_r\r\n",
        " \r\n",
        "  else:\r\n",
        "    return var_sets\r\n"
      ],
      "execution_count": null,
      "outputs": []
    },
    {
      "cell_type": "code",
      "metadata": {
        "id": "msByALqp0BfQ"
      },
      "source": [
        "### Tests for `variables`. 2 points. \r\n",
        "\r\n",
        "e = ('*', ('+', 'x', 2), ('/', 'x', 'yay'))\r\n",
        "assert variables(e) == {'x', 'yay'}\r\n",
        "\r\n",
        "e = ('-', ('+', 'a', 2), ('*', 'c', 'c'))\r\n",
        "assert variables(e) == {'a', 'c'}\r\n",
        "\r\n",
        "### Hidden tests for variables. 4 points.\r\n",
        "e = ('*', ('+', 'x', ('/', 'z', 'yay')), ('/', 'x', 'yay'))\r\n",
        "assert variables(e) == {'x','z', 'yay'}\r\n",
        "#Verify the e has no variables\r\n",
        "e=('*',2,2)\r\n",
        "assert variables(e) ==set()"
      ],
      "execution_count": null,
      "outputs": []
    },
    {
      "cell_type": "markdown",
      "metadata": {
        "id": "J3dN5n7FJHXN"
      },
      "source": [
        "Question 5: value equality\r\n",
        "\r\n",
        "We ask you to write the value_equality method.\r\n",
        "Given the two expressions  e  and  f , first compute the set of variables  V  that appear in either  e  or  f . Then, the idea consists in performing num_sample times the following test for equality:\r\n",
        "\r\n",
        "First, produce a variable assignment (a dictionary) mapping each variable in  V  to a random value. Choose these random values from the gaussian distribution centered around 0 and with standard deviation 10 (for instance; any continuous distribution with infinite domain would work). You can obtain such numbers using random.gauss(0, 10).\r\n",
        "Then, compute the values of  e  and  f  with respect to that variable evaluation. If the values are closer than a specified tolerance tolerance, you consider  e  and  f  equal (for that variable valuation). Otherwise, you can stop and return that  e  and  f  are different.\r\n",
        "If you can repeat the process num_sample times, and  e  and  f  are considered equal every time, then you declare them equal.\r\n"
      ]
    },
    {
      "cell_type": "code",
      "metadata": {
        "id": "m15RbW0hJMW-"
      },
      "source": [
        "\r\n",
        "### Exercise: implementation of value equality\r\n",
        "import random\r\n",
        "\r\n",
        "def value_equality(e, f, num_samples=1000, tolerance=1e-6):\r\n",
        "    \"\"\"Return True if the two expressions self and other are numerically\r\n",
        "    equivalent.  Equivalence is tested by generating\r\n",
        "    num_samples assignments, and checking that equality holds\r\n",
        "    for all of them.  Equality is checked up to tolerance, that is,\r\n",
        "    the values of the two expressions have to be closer than tolerance.\r\n",
        "    It can be done in less than 10 lines of code.\"\"\"\r\n",
        "    ### YOUR CODE HERE\r\n",
        "    v=variables(e)|variables(f)\r\n",
        "    for i in range(num_samples):\r\n",
        "      varval={}\r\n",
        "      for var in v:\r\n",
        "        varval[var]=random.gauss(0, 10)\r\n",
        "      value_e=compute(e, varval)\r\n",
        "      value_f=compute(f, varval)\r\n",
        "      if abs(value_e-value_f)>tolerance:return False   \r\n",
        "    return True\r\n",
        "    "
      ],
      "execution_count": null,
      "outputs": []
    },
    {
      "cell_type": "code",
      "metadata": {
        "id": "a2H6M82sJQmj"
      },
      "source": [
        "### Tests for value equality. 4 points. \r\n",
        "\r\n",
        "e1 = ('+', ('*', 'x', 1), ('*', 'y', 0))\r\n",
        "e2 = 'x'\r\n",
        "assert value_equality(e1, e2)\r\n",
        "\r\n",
        "e3 = ('/', ('*', 'x', 'x'), ('*', 'x', 1))\r\n",
        "assert value_equality(e1, e3)\r\n",
        "\r\n",
        "e4 = ('/', 'y', 2)\r\n",
        "assert not value_equality(e1, e4)\r\n",
        "assert not value_equality(e3, e4)\r\n",
        "assert not value_equality(e4, e3)\r\n",
        "\r\n",
        "e5 = (\"+\", \"cat\", (\"-\", \"dog\", \"dog\"))\r\n",
        "assert value_equality(e5, \"cat\")\r\n",
        "assert value_equality(\"cat\", e5)\r\n",
        "\r\n",
        "e6 = (\"-\", \"hello\", \"hello\")\r\n",
        "assert value_equality(e6, 0)\r\n",
        "assert value_equality(0, e6)\r\n",
        "\r\n",
        "### Hidden tests for value equality.  6 points.\r\n",
        "#tests for no varibles\r\n",
        "e7=('*',4,2)\r\n",
        "e8=('*',2,4)\r\n",
        "assert value_equality(8, e7)\r\n",
        "assert value_equality(e8, e7)"
      ],
      "execution_count": null,
      "outputs": []
    },
    {
      "cell_type": "markdown",
      "metadata": {
        "id": "8mJ_JVCHSqms"
      },
      "source": [
        "\r\n",
        "\r\n",
        "#Symbolic Expressions\r\n",
        "The notation we developed enables the representation of symbolic expressions: expressions in which not only numbers appear, but also symbols. Accordingly, we can perform symbolic operations on the expressions: operations that encode what you do with pencil and paper when you work on an expression.\r\n",
        "\r\n",
        "Our first symbolic operations will be the implementation of derivatives.\r\n",
        "##（部分内容在word里）\r\n",
        "\r\n",
        "Question 6: derivative of a leaf expression\r\n",
        "##（部分内容在word里）\r\n",
        "\r\n",
        "Let's start from a leaf expression. The function derivate_leaf takes as argument an expression that is a leaf, and a variable, and returns the symbolic derivative of the leaf writh respect to the variable.\r\n"
      ]
    },
    {
      "cell_type": "code",
      "metadata": {
        "id": "lusyAvHWSuw8"
      },
      "source": [
        "### Derivation of a leaf expression\r\n",
        "def derivate_leaf(e, x):\r\n",
        "    \"\"\"This function takes as input an expression e and a variable x,\r\n",
        "    and returns the symbolic derivative of e wrt. x, as an expression.\"\"\"\r\n",
        "    ### YOUR CODE HERE\r\n",
        "    if isnumber(e):\r\n",
        "      return 0\r\n",
        "    elif isvariable(e):\r\n",
        "      return 1 if(e==x) else 0\r\n",
        "    else:\r\n",
        "      return e\r\n",
        "\r\n"
      ],
      "execution_count": null,
      "outputs": []
    },
    {
      "cell_type": "code",
      "metadata": {
        "colab": {
          "base_uri": "https://localhost:8080/"
        },
        "id": "-mQPJaY8S12O",
        "outputId": "765d71fd-c395-4871-eead-68e471619e44"
      },
      "source": [
        "## Derivative of a leaf expression. 2 points. \r\n",
        "\r\n",
        "assert derivate_leaf(\"x\", \"x\") == 1\r\n",
        "assert derivate_leaf(\"x\", \"y\") == 0\r\n",
        "assert derivate_leaf(\"y\", \"z\") == 0\r\n",
        "assert derivate_leaf(4, \"x\") == 0\r\n",
        "\r\n",
        "## Hidden tests for derivative of a leaf expression. 3 points. \r\n",
        "derivate_leaf(('*','x','x'), \"x\")\r\n"
      ],
      "execution_count": null,
      "outputs": [
        {
          "output_type": "execute_result",
          "data": {
            "text/plain": [
              "('*', 'x', 'x')"
            ]
          },
          "metadata": {
            "tags": []
          },
          "execution_count": 23
        }
      ]
    },
    {
      "cell_type": "markdown",
      "metadata": {
        "id": "WP0N1cT6TAMz"
      },
      "source": [
        "Question 7: Implementation of derivative\r\n",
        "#（部分内容在word里）"
      ]
    },
    {
      "cell_type": "code",
      "metadata": {
        "id": "7cfFwPmJTKl7"
      },
      "source": [
        "### Implement `derivate`\r\n",
        "def derivate(e, x):\r\n",
        "    \"\"\"Returns the derivative of e wrt x.\r\n",
        "    It can be done in less than 15 lines of code.\"\"\"\r\n",
        "    ### YOUR CODE HERE\r\n",
        "    if not iscomposite(e):\r\n",
        "      return derivate_leaf(e,x)\r\n",
        "    else:\r\n",
        "      op,f,g=e\r\n",
        "      dfx=derivate(f,x)\r\n",
        "      dgx=derivate(g,x)\r\n",
        "      if op == \"+\" or op == \"-\":\r\n",
        "        return (op,dfx,dgx)\r\n",
        "      elif op == \"*\":\r\n",
        "        return ('+',('*',dfx,g),('*',f,dgx))\r\n",
        "      elif op == \"/\":\r\n",
        "        return ('/',('-',('*',dfx,g),('*',f,dgx)),('*',g,g))\r\n",
        "      else:\r\n",
        "        raise IllegalExpression(repr(e))"
      ],
      "execution_count": null,
      "outputs": []
    },
    {
      "cell_type": "code",
      "metadata": {
        "id": "Js1wYSU9TTIT"
      },
      "source": [
        "### Tests for `derivate` for single-operator expressions. 4 points. \r\n",
        "assert derivate(('+', 'x', 'x'), 'x') == ('+', 1, 1)\r\n",
        "assert derivate(('-', 4, 'x'), 'x') == ('-', 0, 1)\r\n",
        "assert derivate(('*', 2, 'x'), 'x') == ('+', ('*', 0, 'x'), ('*', 2, 1))\r\n",
        "assert derivate(('/', 2, 'x'), 'x') == ('/', ('-', ('*', 0, 'x'), ('*', 2, 1)), ('*', 'x', 'x'))\r\n",
        "### Hidden tests for `derivate` for single-operator expressions. 6 points."
      ],
      "execution_count": null,
      "outputs": []
    },
    {
      "cell_type": "code",
      "metadata": {
        "id": "C7UKvdLiS87i"
      },
      "source": [
        "### Tests for `derivate` for composite expressions. 3 points. \r\n",
        "e1 = ('*', 'x', 'x')\r\n",
        "e2 = ('*', 3, 'x')\r\n",
        "num = ('-', e1, e2)\r\n",
        "e3 = ('*', 'a', 'x')\r\n",
        "den = ('+', e1, e3)\r\n",
        "e = ('/', num, den)\r\n",
        "\r\n",
        "f = ('/',\r\n",
        " ('-',\r\n",
        "  ('*',\r\n",
        "   ('-',\r\n",
        "    ('+', ('*', 1, 'x'), ('*', 'x', 1)),\r\n",
        "    ('+', ('*', 0, 'x'), ('*', 3, 1))),\r\n",
        "   ('+', ('*', 'x', 'x'), ('*', 'a', 'x'))),\r\n",
        "  ('*',\r\n",
        "   ('-', ('*', 'x', 'x'), ('*', 3, 'x')),\r\n",
        "   ('+',\r\n",
        "    ('+', ('*', 1, 'x'), ('*', 'x', 1)),\r\n",
        "    ('+', ('*', 0, 'x'), ('*', 'a', 1))))),\r\n",
        " ('*',\r\n",
        "  ('+', ('*', 'x', 'x'), ('*', 'a', 'x')),\r\n",
        "  ('+', ('*', 'x', 'x'), ('*', 'a', 'x'))))\r\n",
        "\r\n",
        "assert derivate(e, 'x') == f\r\n",
        "\r\n",
        "### Hidden tests for `derivate` for composite expressions. 7 points."
      ],
      "execution_count": null,
      "outputs": []
    },
    {
      "cell_type": "markdown",
      "metadata": {
        "id": "GIIdst6ytrr3"
      },
      "source": [
        "Testing the derivative via its definition\r\n",
        "\r\n",
        "One of the best ways of testing a solution to a difficult problem consists in implementing a different solution, and then comparing the two.\r\n",
        "\r\n",
        "To help test your implementation of derivative, we can use the following property of derivative:\r\n",
        "#（部分内容在word里）"
      ]
    },
    {
      "cell_type": "code",
      "metadata": {
        "id": "krB2uqSmtx_U"
      },
      "source": [
        "def derivate_approx(f, x, varval, delta=0.0001):\r\n",
        "    \"\"\"Computes the derivative of f with respect to x, for a given delta,\r\n",
        "    using the (f(x + delta) - f(x)) / delta method. \"\"\"\r\n",
        "    # This is f(x)\r\n",
        "    f_x = compute(f, varval=varval)\r\n",
        "\r\n",
        "    varval_delta = dict(varval)\r\n",
        "    varval_delta[x] += delta\r\n",
        "    # if x in varval_delta:\r\n",
        "    #   varval_delta[x] += delta\r\n",
        "    # else:\r\n",
        "    #   varval_delta=varval\r\n",
        "    # This is f(x + delta)\r\n",
        "    f_x_plus_delta = compute(f, varval=varval_delta)\r\n",
        "    # print(f_x,f_x_plus_delta)\r\n",
        "\r\n",
        "    return (f_x_plus_delta - f_x) / delta"
      ],
      "execution_count": null,
      "outputs": []
    },
    {
      "cell_type": "code",
      "metadata": {
        "colab": {
          "base_uri": "https://localhost:8080/"
        },
        "id": "kRGf3c9iD9mk",
        "outputId": "e4d1661e-8ba7-4933-debe-aaf459faee7e"
      },
      "source": [
        "\r\n",
        "# This is x^2 + 3x.  Its derivative is 2x + 3.\r\n",
        "f = (\"+\", (\"*\", \"x\", \"x\"), (\"*\", \"x\", 3))\r\n",
        "# The derivative, at x= 2, should be close to 7.\r\n",
        "derivate_approx(f, \"x\", varval=dict(x=2))"
      ],
      "execution_count": null,
      "outputs": [
        {
          "output_type": "execute_result",
          "data": {
            "text/plain": [
              "7.000100000027487"
            ]
          },
          "metadata": {
            "tags": []
          },
          "execution_count": 28
        }
      ]
    },
    {
      "cell_type": "markdown",
      "metadata": {
        "id": "Ns1OtzChuXWu"
      },
      "source": [
        "On the basis of this idea, write a function test_derivative that takes as arguments:\r\n",
        "\r\n",
        "an expression f\r\n",
        "its symbolic derivative expression df computed with respect to variable x\r\n",
        "the variable x\r\n",
        "a delta to compute the derivative of f with respect to x using derivate_approx,\r\n",
        "a tolerance within which to consider the solution correct.\r\n",
        "a num_trials specifying how many times to perform the validation.\r\n",
        "For each validation, one must first choose a random variable valuation for the variables appearing in f, as done for the expression equality check. For this variable valuation, one then computes:\r\n",
        "\r\n",
        "the value of the symbolic derivative df\r\n",
        "the value of the experimental derivative of f, computed using derivate_approx\r\n",
        "and one checks that the two values are closer, in absolute value, than tolerance. If any of the num_trials checks fail, we return False, to indicate that df is not the symbolic derivative of f. If all num_trial checks pass, then we return True.\r\n",
        "\r\n",
        "To help clarify what you have to do, let's do it by hand once. Consider this expression:\r\n"
      ]
    },
    {
      "cell_type": "code",
      "metadata": {
        "id": "8zlrHwWAvCl1"
      },
      "source": [
        "\r\n",
        "f = (\"+\", (\"*\", \"cat\", \"cat\"), (\"*\", \"dog\", \"cat\"))\r\n"
      ],
      "execution_count": null,
      "outputs": []
    },
    {
      "cell_type": "markdown",
      "metadata": {
        "id": "86qbS90pvEz9"
      },
      "source": [
        "We are going to consider the symbolic derivative with respect to cat."
      ]
    },
    {
      "cell_type": "code",
      "metadata": {
        "id": "3IHCB4D1u4qn"
      },
      "source": [
        "x = \"cat\" # Variable wrt which we derivate.\r\n",
        "# This is our first candidate at symbolic derivative.\r\n",
        "df1 = (\"+\", (\"*\", 2, \"cat\"), \"dog\")\r\n",
        "# And this is our second attempt.\r\n",
        "df2 = (\"+\", (\"*\", 2, \"cat\"), (\"*\", \"dog\", \"cat\"))\r\n",
        "\r\n",
        "# Let us come up with a random variable valuation. Well, not random actually.\r\n",
        "valu = {\"cat\": 1.2, \"dog\": 3.34}\r\n",
        "\r\n",
        "# Let us compute the values of df1 and df2, and of the approximation of the derivative.\r\n",
        "print(\"df1:\", compute(df1, varval=valu))\r\n",
        "print(\"df2:\", compute(df2, varval=valu))\r\n",
        "print(\"approximate:\", derivate_approx(f, x, valu))\r\n"
      ],
      "execution_count": null,
      "outputs": []
    },
    {
      "cell_type": "markdown",
      "metadata": {
        "id": "79Jnke9bwBv2"
      },
      "source": [
        "\r\n",
        "From this we see that df2 is not the symbolic derivative of f, as the error is quite large (6.4 vs. 5.74, approximately).\r\n",
        "\r\n",
        "Question 8: implement test_derivative\r\n",
        "Now you have to code test_derivative, to perform this test automatically. We give you the function similar, which you should use to test whether two numbers x, y are similar within epsilon, via similar(x, y, epsilon). According to this function, two positive numbers  x,y  are similar within a given  ϵ  if either\r\n",
        "#（部分内容在word里）\r\n",
        "\r\n"
      ]
    },
    {
      "cell_type": "code",
      "metadata": {
        "id": "4iWh8qnDwFUV"
      },
      "source": [
        "def similar(x, y, epsilon):\r\n",
        "    if x < 0 and y < 0:\r\n",
        "        # If they are negative, max and min play opposite roles. \r\n",
        "        return similar(-x, -y, epsilon)\r\n",
        "    if abs(x - y) < epsilon:\r\n",
        "        return True\r\n",
        "    else:\r\n",
        "        return max(x, y) / (min(x, y) + epsilon) < 1 + epsilon\r\n"
      ],
      "execution_count": null,
      "outputs": []
    },
    {
      "cell_type": "markdown",
      "metadata": {
        "id": "I24DUPY5wMV9"
      },
      "source": [
        "When you obtain the symbolic derivative value sym_d and the approximate derivative value approx_d, compare them via\r\n",
        "\r\n",
        "similar(sym_d, approx_d, epsilon)"
      ]
    },
    {
      "cell_type": "code",
      "metadata": {
        "id": "hsxHLU9pwRUW"
      },
      "source": [
        "### Implementation of `test_derivative`\r\n",
        "def test_derivative(f, df, x, delta=0.0001, epsilon=0.1, num_tests=1000):\r\n",
        "    \"\"\"See above.\"\"\"\r\n",
        "    ### YOUR CODE HERE\r\n",
        "    vars=variables(f)\r\n",
        "    for i in range(num_tests):\r\n",
        "      valu={}\r\n",
        "      for var in vars:\r\n",
        "        valu[var]=random.gauss(0, 10)\r\n",
        "      sym_d=compute(df,valu)\r\n",
        "      if x not in vars:\r\n",
        "        valu[x]=random.gauss(0, 10)\r\n",
        "      approx_d=derivate_approx(f,x,valu,delta)\r\n",
        "      # print(approx_d)\r\n",
        "      if not similar(sym_d,approx_d,epsilon):\r\n",
        "        return False\r\n",
        "    return True\r\n",
        "\r\n"
      ],
      "execution_count": null,
      "outputs": []
    },
    {
      "cell_type": "code",
      "metadata": {
        "id": "dqp3Yl6NwVgQ"
      },
      "source": [
        "### Tests for test_derivative, 4 points. \r\n",
        "\r\n",
        "f = (\"+\", (\"*\", \"cat\", \"cat\"), (\"*\", \"dog\", \"cat\"))\r\n",
        "df1 = (\"+\", (\"*\", 2, \"cat\"), \"dog\")\r\n",
        "df2 = (\"+\", (\"*\", 2, \"cat\"), (\"*\", \"dog\", \"cat\"))\r\n",
        "\r\n",
        "assert test_derivative(f, df1, \"cat\")\r\n",
        "assert not test_derivative(f, df2, \"cat\")\r\n",
        "assert not test_derivative(f, df1, \"dog\")\r\n",
        "assert not test_derivative(f, df1, \"donkey\")\r\n",
        "assert test_derivative(f, 0, \"donkey\")\r\n",
        "\r\n",
        "### Hidden tests for test_derivative, 6 points. \r\n"
      ],
      "execution_count": null,
      "outputs": []
    },
    {
      "cell_type": "markdown",
      "metadata": {
        "id": "IQ63dsJ70RrV"
      },
      "source": [
        "# Challenge Question\r\n",
        "\r\n",
        "Question 9: Distributive property\r\n",
        "If you truly want to test your teeth on a difficult recursion, here is grist for your teeth. This question is worth just a few points, so that students can score well even without doing it. But if you are starving for a difficult question, here is one.\r\n",
        "\r\n",
        "This is difficult. Attempt at your own risk. Instructor is not responsible for the many hours you may end up spending on this problem. Please, do not ask for help about this question in office hours; let people who are doing the regular questions benefit from office hour time."
      ]
    },
    {
      "cell_type": "code",
      "metadata": {
        "id": "MiCJXVn20bHM"
      },
      "source": [
        "### Exercise: Implement `apply_distributive`\r\n",
        "\r\n",
        "def apply_distributive(e):\r\n",
        "    \"\"\"Applies the distributive property to an expression e.\"\"\"\r\n",
        "    ### YOUR CODE HERE\r\n",
        "    def has_plusminus(exp):\r\n",
        "        return isinstance(exp,tuple) and exp[0] in '+-'\r\n",
        "    if isnumber(e) or isvariable(e):\r\n",
        "      return e\r\n",
        "    op,e1,e2=e\r\n",
        "    e11=apply_distributive(e1)\r\n",
        "    e22=apply_distributive(e2)\r\n",
        "    # print('op,e11,e22:',op,e11,e22)\r\n",
        "    if op in '+-':\r\n",
        "      return (op,e11,e22)\r\n",
        "    if op in '*/':\r\n",
        "      if has_plusminus(e11):\r\n",
        "        op1,l,r=e11\r\n",
        "        return (op1,apply_distributive((op,l,e22)),apply_distributive((op,r,e22)))\r\n",
        "      if has_plusminus(e22):\r\n",
        "        op1,l,r=e22\r\n",
        "        return (op1,apply_distributive((op,l,e11)),apply_distributive((op,r,e11)))\r\n",
        "      else:\r\n",
        "        return e\r\n",
        "\r\n",
        "   \r\n",
        "### Simple test for distributivity. 2 points.\r\n"
      ],
      "execution_count": null,
      "outputs": []
    },
    {
      "cell_type": "code",
      "metadata": {
        "id": "BPRn8xZE0oBH"
      },
      "source": [
        "## Here is a definition of equality that disregards order.\r\n",
        "def is_distributed(exp):\r\n",
        "    def is_plusminus(exp):\r\n",
        "        return isinstance(exp,tuple) and exp[0] in '+-'\r\n",
        "\r\n",
        "    if isinstance(exp, tuple):\r\n",
        "        op, e1, e2 = exp\r\n",
        "        if op == '*' and (is_plusminus(e1) or is_plusminus(e2)):\r\n",
        "            return False\r\n",
        "        return is_distributed(e1) and is_distributed(e2)\r\n",
        "    else:\r\n",
        "        return True\r\n",
        "\r\n"
      ],
      "execution_count": null,
      "outputs": []
    },
    {
      "cell_type": "code",
      "metadata": {
        "id": "cYfDcKKo0sfE"
      },
      "source": [
        "import random\r\n",
        "\r\n",
        "def applied_distributivity(f, g):\r\n",
        "    return is_distributed(f) and value_equality(f, g)\r\n",
        "\r\n"
      ],
      "execution_count": null,
      "outputs": []
    },
    {
      "cell_type": "code",
      "metadata": {
        "id": "_AzG5E2H01AP"
      },
      "source": [
        "# Simple test\r\n",
        "e = ('*', ('+', 1, 2), ('-', 3, 4))\r\n",
        "f = ('+', ('-', ('*', 1, 3), ('*', 1, 4)), ('-', ('*', 2, 3), ('*', 2, 4)))\r\n",
        "\r\n",
        "assert applied_distributivity(apply_distributive(e), f)\r\n",
        "\r\n"
      ],
      "execution_count": null,
      "outputs": []
    },
    {
      "cell_type": "code",
      "metadata": {
        "id": "0x1k7DO605qF"
      },
      "source": [
        "### More complicated tests for distributivity. 2 points. \r\n",
        "\r\n",
        "e = ('*', ('+', 1, 2), ('-', 3, 4))\r\n",
        "e2 = ('*', e, ('+', 5, 6))\r\n",
        "\r\n",
        "f = ('+',\r\n",
        " ('-',\r\n",
        "  ('+', ('*', ('*', 1, 3), 5), ('*', ('*', 1, 3), 6)),\r\n",
        "  ('+', ('*', ('*', 1, 4), 5), ('*', ('*', 1, 4), 6))),\r\n",
        " ('-',\r\n",
        "  ('+', ('*', ('*', 2, 3), 5), ('*', ('*', 2, 3), 6)),\r\n",
        "  ('+', ('*', ('*', 2, 4), 5), ('*', ('*', 2, 4), 6))))\r\n",
        "\r\n",
        "assert applied_distributivity(apply_distributive(e2), f)\r\n"
      ],
      "execution_count": null,
      "outputs": []
    },
    {
      "cell_type": "code",
      "metadata": {
        "id": "kpG-me63gKDz"
      },
      "source": [
        "# More complex tests\r\n",
        "\r\n",
        "e = ('*', ('*', ('+', 1, 2), ('-', 3, 4)), ('*', ('-', 5, 6), ('+', 7, 8)))\r\n",
        "f = ('+',\r\n",
        " ('-',\r\n",
        "  ('-',\r\n",
        "   ('+', ('*', ('*', 1, 3), ('*', 5, 7)), ('*', ('*', 1, 3), ('*', 5, 8))),\r\n",
        "   ('+', ('*', ('*', 1, 3), ('*', 6, 7)), ('*', ('*', 1, 3), ('*', 6, 8)))),\r\n",
        "  ('-',\r\n",
        "   ('+', ('*', ('*', 1, 4), ('*', 5, 7)), ('*', ('*', 1, 4), ('*', 5, 8))),\r\n",
        "   ('+', ('*', ('*', 1, 4), ('*', 6, 7)), ('*', ('*', 1, 4), ('*', 6, 8))))),\r\n",
        " ('-',\r\n",
        "  ('-',\r\n",
        "   ('+', ('*', ('*', 2, 3), ('*', 5, 7)), ('*', ('*', 2, 3), ('*', 5, 8))),\r\n",
        "   ('+', ('*', ('*', 2, 3), ('*', 6, 7)), ('*', ('*', 2, 3), ('*', 6, 8)))),\r\n",
        "  ('-',\r\n",
        "   ('+', ('*', ('*', 2, 4), ('*', 5, 7)), ('*', ('*', 2, 4), ('*', 5, 8))),\r\n",
        "   ('+', ('*', ('*', 2, 4), ('*', 6, 7)), ('*', ('*', 2, 4), ('*', 6, 8))))))\r\n",
        "\r\n",
        "assert applied_distributivity(apply_distributive(e), f)"
      ],
      "execution_count": null,
      "outputs": []
    },
    {
      "cell_type": "code",
      "metadata": {
        "id": "41GEgNupfm2T"
      },
      "source": [
        ""
      ],
      "execution_count": null,
      "outputs": []
    }
  ]
}