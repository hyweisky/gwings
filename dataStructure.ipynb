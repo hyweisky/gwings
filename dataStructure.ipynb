{
  "nbformat": 4,
  "nbformat_minor": 0,
  "metadata": {
    "colab": {
      "name": "dataStructure.ipynb",
      "provenance": [],
      "collapsed_sections": [],
      "authorship_tag": "ABX9TyMnZIkvg5bDnzsbDQ4INizn",
      "include_colab_link": true
    },
    "kernelspec": {
      "name": "python3",
      "display_name": "Python 3"
    }
  },
  "cells": [
    {
      "cell_type": "markdown",
      "metadata": {
        "id": "view-in-github",
        "colab_type": "text"
      },
      "source": [
        "<a href=\"https://colab.research.google.com/github/hyweisky/gwings/blob/master/dataStructure.ipynb\" target=\"_parent\"><img src=\"https://colab.research.google.com/assets/colab-badge.svg\" alt=\"Open In Colab\"/></a>"
      ]
    },
    {
      "cell_type": "code",
      "metadata": {
        "id": "dE4Tw9NuWHOf"
      },
      "source": [
        "class Stack(object):\r\n",
        "  def __init__(self):\r\n",
        "    self.stack=[]\r\n",
        "  def __repr__(self):\r\n",
        "    return repr(self.stack)\r\n",
        "  def push(self,x):\r\n",
        "    self.stack.append(x)\r\n",
        "  def pop(self):\r\n",
        "    return self.stack.pop() if len(self.stack)>0 else None\r\n",
        "  def isempty(self):\r\n",
        "    return len(self.stack)==0\r\n",
        "  def __len__(self):\r\n",
        "    return len(self.stack)\r\n",
        "  def __iter__(self,x):\r\n",
        "    for el in self.stack:\r\n",
        "      yield el\r\n",
        "  def __getitem__(self,i):\r\n",
        "    return self.stack[iter]\r\n",
        "  def __contains__(self,x):\r\n",
        "    return x in self.stack\r\n"
      ],
      "execution_count": null,
      "outputs": []
    },
    {
      "cell_type": "code",
      "metadata": {
        "colab": {
          "base_uri": "https://localhost:8080/"
        },
        "id": "2e582UeBXB9p",
        "outputId": "470b65c7-e3bf-4a09-e426-96b5d7e9cccf"
      },
      "source": [
        "s=Stack()\r\n",
        "print(s.pop())\r\n",
        "s.push('a')\r\n",
        "s.push('b')\r\n",
        "print(s.isempty())"
      ],
      "execution_count": null,
      "outputs": [
        {
          "output_type": "stream",
          "text": [
            "None\n",
            "False\n"
          ],
          "name": "stdout"
        }
      ]
    },
    {
      "cell_type": "code",
      "metadata": {
        "id": "C-J9PlPiX2BU"
      },
      "source": [
        "class Queue(object):\r\n",
        "  def __init__(self):\r\n",
        "    self.queue=[]\r\n",
        "  def __repr__(self):\r\n",
        "    return repr(self.queue)\r\n",
        "  def add(self,x):\r\n",
        "    self.queue.append(x)\r\n",
        "  def get(self):\r\n",
        "    return self.queue.pop(0) if len(self.queue)>0 else None\r\n",
        "  def isempty(self):\r\n",
        "    return len(self.queue)==0\r\n",
        "  def __len__(self):\r\n",
        "    return len(self.queue)\r\n",
        "  def __iter__(self):\r\n",
        "    for el in self.queue:\r\n",
        "      yield el\r\n",
        "  def __getitem__(self,i):\r\n",
        "    return self.queue[i]\r\n",
        "  def __contains__(self,x):\r\n",
        "    return x in self.queue"
      ],
      "execution_count": null,
      "outputs": []
    },
    {
      "cell_type": "code",
      "metadata": {
        "colab": {
          "base_uri": "https://localhost:8080/"
        },
        "id": "rNDA2fAFYuLF",
        "outputId": "4d1eab33-1156-4830-dff5-665843640e72"
      },
      "source": [
        "q=Queue()\r\n",
        "print(q.get())\r\n",
        "q.add('a')\r\n",
        "q.add('b')\r\n",
        "q.add('c')\r\n",
        "print(q.get())\r\n",
        "print(q.get())\r\n",
        "print(q.get())\r\n",
        "print(q.get())\r\n",
        "q.queue"
      ],
      "execution_count": null,
      "outputs": [
        {
          "output_type": "stream",
          "text": [
            "None\n",
            "a\n",
            "b\n",
            "c\n",
            "None\n"
          ],
          "name": "stdout"
        },
        {
          "output_type": "execute_result",
          "data": {
            "text/plain": [
              "[]"
            ]
          },
          "metadata": {
            "tags": []
          },
          "execution_count": 64
        }
      ]
    },
    {
      "cell_type": "code",
      "metadata": {
        "id": "xs5nxofiY06c"
      },
      "source": [
        "class CountingQueue(object):\r\n",
        "  def __init__(self):\r\n",
        "    self.queue=[]\r\n",
        "  def __repr__(self):\r\n",
        "    return repr(self.queue)\r\n",
        "  def add(self,x,count=1):\r\n",
        "    if len(self.queue)>0:\r\n",
        "      xx,cc=self.queue[-1]\r\n",
        "      if xx==x:\r\n",
        "        self.queue[-1]=(xx,cc+count)\r\n",
        "      else:\r\n",
        "        self.queue.append((x,count))\r\n",
        "    else:\r\n",
        "      self.queue=[(x,count)]\r\n",
        "  def get(self):\r\n",
        "    if len(self.queue)==0:\r\n",
        "      return None\r\n",
        "    x,c=self.queue[0]\r\n",
        "    if c==1:\r\n",
        "      self.queue.pop(0)\r\n",
        "      return x\r\n",
        "    else:\r\n",
        "      self.queue[0]=(x,c-1)\r\n",
        "      return x\r\n",
        "  def isempty(self):\r\n",
        "    return len(self.queue)==0"
      ],
      "execution_count": null,
      "outputs": []
    },
    {
      "cell_type": "code",
      "metadata": {
        "colab": {
          "base_uri": "https://localhost:8080/"
        },
        "id": "rRFVhX8MbV2L",
        "outputId": "aef1f616-1d57-42bd-8270-36031349c7f1"
      },
      "source": [
        "cq=CountingQueue()\r\n",
        "cq.add('a')\r\n",
        "print(cq)\r\n",
        "cq.add('b',count=5)\r\n",
        "print(cq)\r\n",
        "cq.add('c',count=2)\r\n",
        "print(cq)\r\n",
        "while not cq.isempty():\r\n",
        "  print(cq.get())\r\n",
        "  print(cq)"
      ],
      "execution_count": null,
      "outputs": [
        {
          "output_type": "stream",
          "text": [
            "[('a', 1)]\n",
            "[('a', 1), ('b', 5)]\n",
            "[('a', 1), ('b', 5), ('c', 2)]\n",
            "a\n",
            "[('b', 5), ('c', 2)]\n",
            "b\n",
            "[('b', 4), ('c', 2)]\n",
            "b\n",
            "[('b', 3), ('c', 2)]\n",
            "b\n",
            "[('b', 2), ('c', 2)]\n",
            "b\n",
            "[('b', 1), ('c', 2)]\n",
            "b\n",
            "[('c', 2)]\n",
            "c\n",
            "[('c', 1)]\n",
            "c\n",
            "[]\n"
          ],
          "name": "stdout"
        }
      ]
    },
    {
      "cell_type": "code",
      "metadata": {
        "id": "m5gEVivvbdkw"
      },
      "source": [
        "def counting_queue_peek(self):\r\n",
        "  if len(self.queue)==0:\r\n",
        "    return None\r\n",
        "  el,_=self.queue[0]\r\n",
        "  return el\r\n",
        "CountingQueue.peek=counting_queue_peek"
      ],
      "execution_count": null,
      "outputs": []
    },
    {
      "cell_type": "code",
      "metadata": {
        "colab": {
          "base_uri": "https://localhost:8080/"
        },
        "id": "n12_ZzSVfcZR",
        "outputId": "b6a531fc-e975-4aeb-fccf-0165e9488038"
      },
      "source": [
        "q=CountingQueue()\r\n",
        "q.add('cat')\r\n",
        "q.add('dog')\r\n",
        "q.peek()\r\n",
        "print(q)"
      ],
      "execution_count": null,
      "outputs": [
        {
          "output_type": "stream",
          "text": [
            "[('cat', 1), ('dog', 1)]\n"
          ],
          "name": "stdout"
        }
      ]
    },
    {
      "cell_type": "code",
      "metadata": {
        "id": "52rw_gXIfnNp"
      },
      "source": [
        "def counting_queue_len(self):\r\n",
        "  ###YOUR CODE HERE返回队列中实际元素的个数，而不是queue中元素的个数（有重复元素）\r\n",
        "  self.counting_queue=[]\r\n",
        "  if len(self.queue)==0:\r\n",
        "    return 0 #如果队列中没有数据，则直接返回\r\n",
        "  for el,c in self.queue:\r\n",
        "    for i in range(c):\r\n",
        "      self.counting_queue.append(el)\r\n",
        "  return len(self.counting_queue)\r\n",
        "CountingQueue.__len__=counting_queue_len"
      ],
      "execution_count": null,
      "outputs": []
    },
    {
      "cell_type": "code",
      "metadata": {
        "id": "1RIFZnAJgZSV"
      },
      "source": [
        "q=CountingQueue()\r\n",
        "assert len(q)==0\r\n",
        "q.add('cat')\r\n",
        "q.add('dog')\r\n",
        "assert len(q.queue)==2\r\n",
        "assert len(q)==2\r\n",
        "q.add(\"dog\")\r\n",
        "assert len(q)==3\r\n",
        "assert len(q.queue)==2\r\n",
        "q.add(\"dog\")\r\n",
        "assert len(q)==4\r\n",
        "assert len(q)==4\r\n",
        "assert len(q)==4\r\n",
        "assert len(q.queue)==2\r\n"
      ],
      "execution_count": null,
      "outputs": []
    },
    {
      "cell_type": "code",
      "metadata": {
        "id": "OdXwGZtbggU6"
      },
      "source": [
        "import random\r\n",
        "for k in range(100):\r\n",
        "  q0=Queue()\r\n",
        "  q1=CountingQueue()\r\n",
        "  for _ in range(100):\r\n",
        "    el=random.choice([\"a\",\"b\",\"c\"])\r\n",
        "    q0.add(el)\r\n",
        "    q1.add(el)\r\n",
        "    assert len(q0)==len(q1)\r\n",
        "    assert len(q0.queue)>=len(q1.queue)\r\n"
      ],
      "execution_count": null,
      "outputs": []
    },
    {
      "cell_type": "code",
      "metadata": {
        "id": "jExzmlPiqrHd"
      },
      "source": [
        "#实现__iter__方法\r\n",
        "def counting_queue_iter(self):\r\n",
        "  #YOU CODE HERE\r\n",
        "  for el,c in self.queue:\r\n",
        "    for i in range(c):\r\n",
        "      yield el\r\n",
        "CountingQueue.__iter__=counting_queue_iter"
      ],
      "execution_count": null,
      "outputs": []
    },
    {
      "cell_type": "code",
      "metadata": {
        "id": "jgVqGSBftHA6"
      },
      "source": [
        "#5 points Simple test\r\n",
        "q=CountingQueue()\r\n",
        "q.add('cat',count=2)\r\n",
        "q.add('dog',count=3)\r\n",
        "assert [x for x in q]==[\"cat\"]*2+[\"dog\"]*3"
      ],
      "execution_count": null,
      "outputs": []
    },
    {
      "cell_type": "code",
      "metadata": {
        "id": "oYKo3vont9QN"
      },
      "source": [
        "#5 points Works the same as queue\r\n",
        "for k in range(100):\r\n",
        "  q0=Queue()\r\n",
        "  q1=CountingQueue()\r\n",
        "  for _ in range(100):\r\n",
        "    el=random.choice([\"a\",\"b\",\"c\"])\r\n",
        "    q0.add(el)\r\n",
        "    q1.add(el)\r\n",
        "    assert [x for x in q0]==[x for x in q1]"
      ],
      "execution_count": null,
      "outputs": []
    },
    {
      "cell_type": "code",
      "metadata": {
        "id": "uRjtP7jEyI5j"
      },
      "source": [
        "#实现__in__方法\r\n",
        "def counting_queue_in(self,el):\r\n",
        "  #YOU CODE HERE\r\n",
        "  return el in [x for x in self.queue]\r\n",
        "CountingQueue.__in__=counting_queue_in"
      ],
      "execution_count": null,
      "outputs": []
    },
    {
      "cell_type": "code",
      "metadata": {
        "id": "Mf2Ma0UbzcAC"
      },
      "source": [
        "#5 points Simple cases\r\n",
        "q=CountingQueue()\r\n",
        "assert \"cat\" not in q\r\n",
        "q.add(\"cat\",count=2)\r\n",
        "assert \"cat\" in q\r\n",
        "assert \"dog\" not in q\r\n",
        "q.add(\"dog\")\r\n",
        "assert \"cat\" in q\r\n",
        "assert \"dog\" in q\r\n",
        "q.get()\r\n",
        "assert \"cat\" in q\r\n",
        "assert \"dog\" in q\r\n"
      ],
      "execution_count": null,
      "outputs": []
    },
    {
      "cell_type": "code",
      "metadata": {
        "id": "vWP-wm0A2iiH"
      },
      "source": [
        "#实现__getitem__方法\r\n",
        "def counting_queue_getitem(self,n):\r\n",
        "  #YOU CODE HERE\r\n",
        "  # print(\"hell:\",n,self.queue)\r\n",
        "  datas=[]\r\n",
        "  for el,c in self.queue:\r\n",
        "    for _ in range(c):\r\n",
        "      datas.append(el)\r\n",
        "  return datas[n]\r\n",
        "   \r\n",
        "CountingQueue.__getitem__=counting_queue_getitem"
      ],
      "execution_count": null,
      "outputs": []
    },
    {
      "cell_type": "code",
      "metadata": {
        "id": "KdJxWcIU3raH"
      },
      "source": [
        "#5 points Simple cases\r\n",
        "q=CountingQueue()\r\n",
        "q.add(\"cat\",count=2)\r\n",
        "q.add(\"dog\",count=3)\r\n",
        "q.add(\"bird\",count=4)\r\n",
        "els=[q[i] for i in range(9)]\r\n",
        "assert els==[\"cat\"]*2+[\"dog\"]*3+[\"bird\"]*4\r\n",
        "#again\r\n",
        "els=[q[i] for i in range(9)]\r\n",
        "assert els==[\"cat\"]*2+[\"dog\"]*3+[\"bird\"]*4"
      ],
      "execution_count": null,
      "outputs": []
    },
    {
      "cell_type": "code",
      "metadata": {
        "id": "nRMBOweR38zb"
      },
      "source": [
        "#5 points Simple cases\r\n",
        "q=CountingQueue()\r\n",
        "q.add(\"cat\",count=2)\r\n",
        "q.add(\"dog\",count=3)\r\n",
        "#Raise \r\n",
        "try:\r\n",
        "  q[5]\r\n",
        "  assert False,\"Failed to raise IndexError\"\r\n",
        "except IndexError:\r\n",
        "  pass\r\n",
        "assert q[4]==\"dog\""
      ],
      "execution_count": null,
      "outputs": []
    },
    {
      "cell_type": "code",
      "metadata": {
        "id": "GdI5RIVQBYwr"
      },
      "source": [
        ""
      ],
      "execution_count": null,
      "outputs": []
    }
  ]
}