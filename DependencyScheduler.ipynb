{
  "nbformat": 4,
  "nbformat_minor": 0,
  "metadata": {
    "colab": {
      "name": "DependencyScheduler.ipynb",
      "provenance": [],
      "collapsed_sections": [],
      "authorship_tag": "ABX9TyOPVxWwSyjZUJAO/N48chXl",
      "include_colab_link": true
    },
    "kernelspec": {
      "name": "python3",
      "display_name": "Python 3"
    }
  },
  "cells": [
    {
      "cell_type": "markdown",
      "metadata": {
        "id": "view-in-github",
        "colab_type": "text"
      },
      "source": [
        "<a href=\"https://colab.research.google.com/github/hyweisky/gwings/blob/master/DependencyScheduler.ipynb\" target=\"_parent\"><img src=\"https://colab.research.google.com/assets/colab-badge.svg\" alt=\"Open In Colab\"/></a>"
      ]
    },
    {
      "cell_type": "code",
      "metadata": {
        "id": "olP7ZubDwZzW"
      },
      "source": [
        "from collections import defaultdict\r\n",
        "import networkx as nx # Library for displaying graphs.\r\n",
        "import matplotlib.pyplot as plt\r\n",
        "\r\n",
        "class DependencyScheduler(object):\r\n",
        "\r\n",
        "    def __init__(self):\r\n",
        "        self.tasks = set()\r\n",
        "        # The successors of a task are the tasks that depend on it, and can\r\n",
        "        # only be done once the task is completed.\r\n",
        "        self.successors = defaultdict(set)\r\n",
        "        # The predecessors of a task have to be done before the task.\r\n",
        "        self.predecessors = defaultdict(set)\r\n",
        "        self.completed_tasks = set() # completed tasks\r\n",
        "\r\n",
        "    def add_task(self, t, dependencies):\r\n",
        "        \"\"\"Adds a task t with given dependencies.\"\"\"\r\n",
        "        # Makes sure we know about all tasks mentioned.\r\n",
        "        assert t not in self.tasks or len(self.predecessors[t]) == 0, \"The task was already present.\"\r\n",
        "        self.tasks.add(t)\r\n",
        "        self.tasks.update(dependencies)\r\n",
        "        # The predecessors are the tasks that need to be done before.\r\n",
        "        self.predecessors[t] = set(dependencies)\r\n",
        "        # The new task is a successor of its dependencies.\r\n",
        "        for u in dependencies:\r\n",
        "            self.successors[u].add(t)\r\n",
        "\r\n",
        "    def reset(self):\r\n",
        "        self.completed_tasks = set()\r\n",
        "\r\n",
        "    @property\r\n",
        "    def done(self):\r\n",
        "        return self.completed_tasks == self.tasks\r\n",
        "\r\n",
        "\r\n",
        "    def show(self):\r\n",
        "        \"\"\"We use the nx graph to display the graph.\"\"\"\r\n",
        "        g = nx.DiGraph()\r\n",
        "        g.add_nodes_from(self.tasks)\r\n",
        "        g.add_edges_from([(u, v) for u in self.tasks for v in self.successors[u]])\r\n",
        "        node_colors = ''.join([('g' if v in self.completed_tasks else 'r')\r\n",
        "                           for v in self.tasks])\r\n",
        "        nx.draw(g, with_labels=True, node_color=node_colors)\r\n",
        "        plt.show()\r\n",
        "\r\n",
        "    @property\r\n",
        "    def uncompleted(self):\r\n",
        "        \"\"\"Returns the tasks that have not been completed.\r\n",
        "        This is a property, so you can say scheduler.uncompleted rather than\r\n",
        "        scheduler.uncompleted()\"\"\"\r\n",
        "        return self.tasks - self.completed_tasks\r\n",
        "\r\n",
        "    def _check(self):\r\n",
        "        \"\"\"We check that if t is a successor of u, then u is a predecessor\r\n",
        "        of t.\"\"\"\r\n",
        "        for u in self.tasks:\r\n",
        "            for t in self.successors[u]:\r\n",
        "                assert u in self.predecessors[t]\r\n",
        "\r\n"
      ],
      "execution_count": null,
      "outputs": []
    },
    {
      "cell_type": "markdown",
      "metadata": {
        "id": "zqb54OuwwqQh"
      },
      "source": [
        "Question 1: implement available_tasks and mark_completed.\r\n",
        "\r\n",
        "### Implementation of `available_tasks` and `mark_completed`.\r\n"
      ]
    },
    {
      "cell_type": "code",
      "metadata": {
        "id": "AbNDkWvCwcFF"
      },
      "source": [
        "def scheduler_available_tasks(self):\r\n",
        "    \"\"\"Returns the set of tasks that can be done in parallel.\r\n",
        "    A task can be done if all its predecessors have been completed.\r\n",
        "    And of course, we don't return any task that has already been\r\n",
        "    completed.\"\"\"\r\n",
        "    ### YOUR CODE HERE\r\n",
        "    av_task = set()\r\n",
        "    for t in self.tasks:\r\n",
        "        if t not in self.predecessors.keys() or len(self.predecessors[t]) == 0:\r\n",
        "            av_task.add(t)\r\n",
        "    return av_task - self.completed_tasks\r\n",
        "\r\n",
        "def scheduler_mark_completed(self, t):\r\n",
        "    \"\"\"Marks the task t as completed, and returns the additional\r\n",
        "    set of tasks that can be done (and that could not be\r\n",
        "    previously done) once t is completed.\"\"\"\r\n",
        "    ### YOUR CODE HERE\r\n",
        "    self.completed_tasks.add(t)\r\n",
        "    for k in self.predecessors.keys():\r\n",
        "        if t in self.predecessors[k]:\r\n",
        "            self.predecessors[k].remove(t)\r\n",
        "    resset = set()\r\n",
        "    sucset = self.successors[t]\r\n",
        "    if len(sucset) > 0:\r\n",
        "        for suc in sucset:\r\n",
        "            if suc not in self.predecessors.keys() or len(self.predecessors[suc]) == 0:\r\n",
        "                resset.add(suc)\r\n",
        "    return resset\r\n",
        "\r\n",
        "DependencyScheduler.available_tasks = property(scheduler_available_tasks)\r\n",
        "DependencyScheduler.mark_completed = scheduler_mark_completed"
      ],
      "execution_count": null,
      "outputs": []
    },
    {
      "cell_type": "code",
      "metadata": {
        "colab": {
          "base_uri": "https://localhost:8080/",
          "height": 390
        },
        "id": "8pTsHfR_wv_G",
        "outputId": "c985b4c8-7674-48b2-e9ab-172cc74a314b"
      },
      "source": [
        "# Here is a place where you can test your code. \r\n",
        "\r\n",
        "### YOUR CODE HERELet us check if this works.\r\n",
        "s = DependencyScheduler()\r\n",
        "s.add_task('a', ['b', 'c'])\r\n",
        "s.add_task('b', ['c', 'e'])\r\n",
        "s._check()\r\n",
        "s.show()\r\n",
        "# print(s.uncompleted)\r\n",
        "# print(s.predecessors)\r\n",
        "# print(s.tasks)\r\n",
        "# print(s.successors)\r\n",
        "# a=set([1,2])\r\n",
        "# b=set([2,1])\r\n",
        "# print(a,b)\r\n",
        "# print(a==b)\r\n",
        "# print(s.available_tasks)\r\n",
        "s=DependencyScheduler()\r\n",
        "s.add_task('1',[])\r\n",
        "# s.add_task('3',['1'])\r\n",
        "\r\n",
        "# s.mark_completed('2')\r\n",
        "# s.mark_completed('3')\r\n",
        "s.mark_completed('2')\r\n",
        "s.available_tasks\r\n",
        "# s.available_tasks\r\n",
        "# s.predecessors\r\n",
        "# s._check()"
      ],
      "execution_count": null,
      "outputs": [
        {
          "output_type": "stream",
          "text": [
            "/usr/local/lib/python3.7/dist-packages/networkx/drawing/nx_pylab.py:478: MatplotlibDeprecationWarning: Using a string of single character colors as a color sequence is deprecated. Use an explicit list instead.\n",
            "  label=label,\n"
          ],
          "name": "stderr"
        },
        {
          "output_type": "display_data",
          "data": {
            "image/png": "[encoded data removed]",
            "text/plain": [
              "<Figure size 432x288 with 1 Axes>"
            ]
          },
          "metadata": {
            "tags": []
          }
        },
        {
          "output_type": "execute_result",
          "data": {
            "text/plain": [
              "{'1'}"
            ]
          },
          "metadata": {
            "tags": []
          },
          "execution_count": 148
        }
      ]
    },
    {
      "cell_type": "code",
      "metadata": {
        "id": "3MAbINmVw3yN"
      },
      "source": [
        "### Simple tests. 5 points. \r\n",
        "\r\n",
        "s = DependencyScheduler()\r\n",
        "s.add_task('a', [])\r\n",
        "assert s.available_tasks == {'a'}\r\n",
        "\r\n",
        "s = DependencyScheduler()\r\n",
        "assert s.available_tasks == set()\r\n"
      ],
      "execution_count": null,
      "outputs": []
    },
    {
      "cell_type": "code",
      "metadata": {
        "id": "XbM8yyCk-674"
      },
      "source": [
        "\r\n",
        "\r\n",
        "### Slightly more complicated. 4 points. \r\n",
        "\r\n",
        "s = DependencyScheduler()\r\n",
        "s.add_task('a', ['b', 'c'])\r\n",
        "s.add_task('b', ['c', 'e'])\r\n",
        "assert s.available_tasks == {'e', 'c'}\r\n",
        "\r\n",
        "s = DependencyScheduler()\r\n",
        "s.add_task('a', ['b'])\r\n",
        "s.add_task('b', ['a'])\r\n",
        "assert s.available_tasks == set()"
      ],
      "execution_count": null,
      "outputs": []
    },
    {
      "cell_type": "code",
      "metadata": {
        "colab": {
          "base_uri": "https://localhost:8080/"
        },
        "id": "yxnC6kJv-8EM",
        "outputId": "cfc4f77f-82dd-46d5-88f2-448428aad27c"
      },
      "source": [
        "### Now, let's test `mark_completed`.  Simple tests first. 2 points. \r\n",
        "\r\n",
        "s = DependencyScheduler()\r\n",
        "s.add_task('a', [])\r\n",
        "assert s.available_tasks, {'a'}\r\n",
        "r = s.mark_completed('a')\r\n",
        "assert r == set()\r\n",
        "\r\n",
        "s = DependencyScheduler()\r\n",
        "s.add_task('a', ['b'])\r\n",
        "assert s.available_tasks == {'b'}\r\n",
        "r = s.mark_completed('b')\r\n",
        "assert r == {'a'}\r\n",
        "\r\n",
        "### Hidden tests.  3 points. \r\n",
        "s = DependencyScheduler()\r\n",
        "s.add_task('a', ['b'])\r\n",
        "s.add_task('b',[1,2,3])\r\n",
        "print(s.available_tasks)\r\n",
        "r = s.mark_completed('b')#b is completed ,Q:1,2,3是否应该也算是已经完成。\r\n",
        "print(s.available_tasks)\r\n",
        "assert r == {'a'}"
      ],
      "execution_count": null,
      "outputs": [
        {
          "output_type": "stream",
          "text": [
            "{1, 2, 3}\n",
            "{'a', 1, 2, 3}\n"
          ],
          "name": "stdout"
        }
      ]
    },
    {
      "cell_type": "code",
      "metadata": {
        "id": "7SHz-z4k_EnK"
      },
      "source": [
        "### Slightly more complicated. 4 points. \r\n",
        "\r\n",
        "def assert_equal(a, b):\r\n",
        "    assert a == b\r\n",
        "\r\n",
        "s = DependencyScheduler()\r\n",
        "s.add_task('a', ['b', 'c'])\r\n",
        "assert_equal(s.available_tasks, {'b', 'c'})\r\n",
        "r = s.mark_completed('b')\r\n",
        "assert_equal(r, set())\r\n",
        "assert_equal(s.available_tasks, {'c'})\r\n",
        "r = s.mark_completed('c')\r\n",
        "assert_equal(r, {'a'})\r\n",
        "\r\n",
        "s = DependencyScheduler()\r\n",
        "s.add_task('a', ['b', 'c'])\r\n",
        "s.add_task('b', ['c', 'e'])\r\n",
        "s.add_task('c', [])\r\n",
        "assert_equal(s.available_tasks, {'c', 'e'})\r\n",
        "r = s.mark_completed('e')\r\n",
        "assert_equal(r, set())\r\n",
        "r = s.mark_completed('c')\r\n",
        "assert_equal(r, {'b'})\r\n",
        "r = s.mark_completed('b')\r\n",
        "assert_equal(r, {'a'})\r\n",
        "r = s.mark_completed('a')\r\n",
        "assert_equal(r, set())\r\n",
        "assert_equal(s.available_tasks, set())\r\n",
        "\r\n",
        "\r\n",
        "### Hidden tests. 6 points. "
      ],
      "execution_count": null,
      "outputs": []
    },
    {
      "cell_type": "markdown",
      "metadata": {
        "id": "uwuv2fgqEXpT"
      },
      "source": [
        "Executing the tasks\r\n",
        "Here is an execution engine for our tasks with dependencies."
      ]
    },
    {
      "cell_type": "code",
      "metadata": {
        "id": "BiXrn2BKA-vO"
      },
      "source": [
        "import random\r\n",
        "\r\n",
        "def execute_schedule(s, show=False):\r\n",
        "    s.reset()\r\n",
        "    in_process = s.available_tasks\r\n",
        "    print(\"Starting by doing:\", in_process)\r\n",
        "    while len(in_process) > 0:\r\n",
        "        # Picks one random task to be the first to be completed.\r\n",
        "        t = random.choice(list(in_process))\r\n",
        "        print(\"Completed:\", t)\r\n",
        "        in_process = in_process - {t} | s.mark_completed(t)\r\n",
        "        print(\"Now doing:\", in_process)\r\n",
        "        if show:\r\n",
        "            s.show()\r\n",
        "    # Have we done all?\r\n",
        "    if not s.done:\r\n",
        "        print(\"Error, there are tasks that could not be completed:\", s.uncompleted)"
      ],
      "execution_count": null,
      "outputs": []
    },
    {
      "cell_type": "code",
      "metadata": {
        "colab": {
          "base_uri": "https://localhost:8080/",
          "height": 1000
        },
        "id": "cWaS8IS2Ec3F",
        "outputId": "4758a77b-fa32-45a3-905c-16ffaefa4e42"
      },
      "source": [
        "#Let's try it on our old schedule:\r\n",
        "\r\n",
        "s = DependencyScheduler()\r\n",
        "s.add_task('a', ['b', 'c'])\r\n",
        "s.add_task('b', ['c', 'e'])\r\n",
        "s._check()\r\n",
        "s.show()\r\n",
        "execute_schedule(s, show=True)"
      ],
      "execution_count": null,
      "outputs": [
        {
          "output_type": "stream",
          "text": [
            "/usr/local/lib/python3.7/dist-packages/networkx/drawing/nx_pylab.py:478: MatplotlibDeprecationWarning: Using a string of single character colors as a color sequence is deprecated. Use an explicit list instead.\n",
            "  label=label,\n"
          ],
          "name": "stderr"
        },
        {
          "output_type": "display_data",
          "data": {
            "image/png": "[encoded data removed]",
            "text/plain": [
              "<Figure size 432x288 with 1 Axes>"
            ]
          },
          "metadata": {
            "tags": []
          }
        },
        {
          "output_type": "stream",
          "text": [
            "Starting by doing: {'e', 'c'}\n",
            "Completed: c\n",
            "Now doing: {'e'}\n"
          ],
          "name": "stdout"
        },
        {
          "output_type": "display_data",
          "data": {
            "image/png": "[encoded data removed]",
            "text/plain": [
              "<Figure size 432x288 with 1 Axes>"
            ]
          },
          "metadata": {
            "tags": []
          }
        },
        {
          "output_type": "stream",
          "text": [
            "Completed: e\n",
            "Now doing: {'b'}\n"
          ],
          "name": "stdout"
        },
        {
          "output_type": "display_data",
          "data": {
            "image/png": "[encoded data removed]",
            "text/plain": [
              "<Figure size 432x288 with 1 Axes>"
            ]
          },
          "metadata": {
            "tags": []
          }
        },
        {
          "output_type": "stream",
          "text": [
            "Completed: b\n",
            "Now doing: {'a'}\n"
          ],
          "name": "stdout"
        },
        {
          "output_type": "display_data",
          "data": {
            "image/png": "[encoded data removed]",
            "text/plain": [
              "<Figure size 432x288 with 1 Axes>"
            ]
          },
          "metadata": {
            "tags": []
          }
        },
        {
          "output_type": "stream",
          "text": [
            "Completed: a\n",
            "Now doing: set()\n"
          ],
          "name": "stdout"
        },
        {
          "output_type": "display_data",
          "data": {
            "image/png": "[encoded data removed]",
            "text/plain": [
              "<Figure size 432x288 with 1 Axes>"
            ]
          },
          "metadata": {
            "tags": []
          }
        }
      ]
    },
    {
      "cell_type": "code",
      "metadata": {
        "colab": {
          "base_uri": "https://localhost:8080/"
        },
        "id": "oo2m6WDkEilq",
        "outputId": "199476ca-3c24-46ce-d006-ca6592baa38b"
      },
      "source": [
        "#What happens if there is a loop?\r\n",
        "\r\n",
        "s = DependencyScheduler()\r\n",
        "s.add_task('a', ['b'])\r\n",
        "s.add_task('b', ['a'])\r\n",
        "s.add_task('c', ['a'])\r\n",
        "execute_schedule(s)"
      ],
      "execution_count": null,
      "outputs": [
        {
          "output_type": "stream",
          "text": [
            "Starting by doing: set()\n",
            "Error, there are tasks that could not be completed: {'a', 'c', 'b'}\n"
          ],
          "name": "stdout"
        }
      ]
    },
    {
      "cell_type": "code",
      "metadata": {
        "id": "0d2wH2KrFI6H"
      },
      "source": [
        "#Ok, this is reasonable! Let us now encode our Carbonara pasta recipe.\r\n",
        "\r\n",
        "carbonara = DependencyScheduler()\r\n",
        "\r\n",
        "# First, the part about cooking the pancetta.\r\n",
        "carbonara.add_task('dice onions', [])\r\n",
        "carbonara.add_task('dice pancetta', [])\r\n",
        "carbonara.add_task('put oil and butter in pan', [])\r\n",
        "carbonara.add_task('put pancetta in pan', ['dice pancetta'])\r\n",
        "carbonara.add_task('put onions in pan', ['dice onions'])\r\n",
        "carbonara.add_task('cook pancetta', ['put oil and butter in pan',\r\n",
        "                                     'put pancetta in pan',\r\n",
        "                                     'put onions in pan'])"
      ],
      "execution_count": null,
      "outputs": []
    },
    {
      "cell_type": "code",
      "metadata": {
        "id": "dfDrT4HDFRXP"
      },
      "source": [
        "# Second, the part about beating the eggs.\r\n",
        "carbonara.add_task('put eggs in bowl', [])\r\n",
        "carbonara.add_task('beat eggs', ['put eggs in bowl'])"
      ],
      "execution_count": null,
      "outputs": []
    },
    {
      "cell_type": "code",
      "metadata": {
        "id": "OoHEbRGUFUyB"
      },
      "source": [
        "# Third, cooking the pasta.\r\n",
        "carbonara.add_task('fill pot with water', [])\r\n",
        "carbonara.add_task('bring pot of water to a boil', ['fill pot with water'])\r\n",
        "carbonara.add_task('add salt to water', ['bring pot of water to a boil'])\r\n",
        "carbonara.add_task('put pasta in water', ['bring pot of water to a boil',\r\n",
        "                                         'add salt to water'])\r\n",
        "carbonara.add_task('colander pasta', ['put pasta in water'])"
      ],
      "execution_count": null,
      "outputs": []
    },
    {
      "cell_type": "code",
      "metadata": {
        "id": "RTlLxtDUFXVE"
      },
      "source": [
        "# And finally, we can put everything together.\r\n",
        "carbonara.add_task('serve', ['beat eggs', 'cook pancetta', 'colander pasta'])"
      ],
      "execution_count": null,
      "outputs": []
    },
    {
      "cell_type": "code",
      "metadata": {
        "colab": {
          "base_uri": "https://localhost:8080/",
          "height": 373
        },
        "id": "LYXM46dlFZyJ",
        "outputId": "7bb5ef7b-f9bd-4b5e-ddab-8e782634daa2"
      },
      "source": [
        "# Let's look at our schedule!\r\n",
        "carbonara.show()\r\n"
      ],
      "execution_count": null,
      "outputs": [
        {
          "output_type": "stream",
          "text": [
            "/usr/local/lib/python3.7/dist-packages/networkx/drawing/nx_pylab.py:478: MatplotlibDeprecationWarning: Using a string of single character colors as a color sequence is deprecated. Use an explicit list instead.\n",
            "  label=label,\n"
          ],
          "name": "stderr"
        },
        {
          "output_type": "display_data",
          "data": {
            "image/png": "[encoded data removed]",
            "text/plain": [
              "<Figure size 432x288 with 1 Axes>"
            ]
          },
          "metadata": {
            "tags": []
          }
        }
      ]
    },
    {
      "cell_type": "code",
      "metadata": {
        "colab": {
          "base_uri": "https://localhost:8080/"
        },
        "id": "rEauWqLuFb5h",
        "outputId": "e86123b0-0bff-4a4b-f83d-ec72d3275c55"
      },
      "source": [
        "# And let's finally prepare carbonara!\r\n",
        "execute_schedule(carbonara)"
      ],
      "execution_count": null,
      "outputs": [
        {
          "output_type": "stream",
          "text": [
            "Starting by doing: {'put oil and butter in pan', 'fill pot with water', 'put eggs in bowl', 'dice onions', 'dice pancetta'}\n",
            "Completed: put eggs in bowl\n",
            "Now doing: {'put oil and butter in pan', 'fill pot with water', 'dice onions', 'beat eggs', 'dice pancetta'}\n",
            "Completed: fill pot with water\n",
            "Now doing: {'put oil and butter in pan', 'dice onions', 'beat eggs', 'bring pot of water to a boil', 'dice pancetta'}\n",
            "Completed: bring pot of water to a boil\n",
            "Now doing: {'put oil and butter in pan', 'add salt to water', 'dice onions', 'beat eggs', 'dice pancetta'}\n",
            "Completed: dice pancetta\n",
            "Now doing: {'put oil and butter in pan', 'add salt to water', 'dice onions', 'beat eggs', 'put pancetta in pan'}\n",
            "Completed: add salt to water\n",
            "Now doing: {'put oil and butter in pan', 'dice onions', 'beat eggs', 'put pancetta in pan', 'put pasta in water'}\n",
            "Completed: put pancetta in pan\n",
            "Now doing: {'dice onions', 'put oil and butter in pan', 'beat eggs', 'put pasta in water'}\n",
            "Completed: put pasta in water\n",
            "Now doing: {'dice onions', 'put oil and butter in pan', 'beat eggs', 'colander pasta'}\n",
            "Completed: put oil and butter in pan\n",
            "Now doing: {'dice onions', 'colander pasta', 'beat eggs'}\n",
            "Completed: dice onions\n",
            "Now doing: {'colander pasta', 'beat eggs', 'put onions in pan'}\n",
            "Completed: beat eggs\n",
            "Now doing: {'colander pasta', 'put onions in pan'}\n",
            "Completed: colander pasta\n",
            "Now doing: {'put onions in pan'}\n",
            "Completed: put onions in pan\n",
            "Now doing: {'cook pancetta'}\n",
            "Completed: cook pancetta\n",
            "Now doing: {'serve'}\n",
            "Completed: serve\n",
            "Now doing: set()\n"
          ],
          "name": "stdout"
        }
      ]
    },
    {
      "cell_type": "code",
      "metadata": {
        "id": "2bUR15WGFe3w"
      },
      "source": [
        "def execute_schedule(s, show=False):\r\n",
        "    s.reset()\r\n",
        "    in_process = s.available_tasks\r\n",
        "    print(\"Starting by doing:\", in_process)\r\n",
        "    while len(in_process) > 0:\r\n",
        "        # Picks one random task to be the first to be completed.\r\n",
        "        t = random.choice(list(in_process))\r\n",
        "        print(\"Completed:\", t)\r\n",
        "        in_process = in_process - {t} | s.mark_completed(t)\r\n",
        "        print(\"Now doing:\", in_process)\r\n",
        "        if show:\r\n",
        "            s.show()\r\n",
        "    # Have we done all?\r\n",
        "    if not s.done:\r\n",
        "        print(\"Error, there are tasks that could not be completed:\", s.uncompleted)"
      ],
      "execution_count": null,
      "outputs": []
    },
    {
      "cell_type": "code",
      "metadata": {
        "id": "a_wyldu8Fmrc"
      },
      "source": [
        "class RunSchedule(object):\r\n",
        "\r\n",
        "    def __init__(self, scheduler):\r\n",
        "        self.scheduler = scheduler\r\n",
        "        self.in_process = None # Indicating, we don't know yet.\r\n",
        "\r\n",
        "    def reset(self):\r\n",
        "        self.scheduler.reset()\r\n",
        "        self.in_process = None\r\n",
        "\r\n",
        "    def step(self):\r\n",
        "        \"\"\"Performs a step, returning the task, if any, or None,\r\n",
        "        if there is no step that can be done.\"\"\"\r\n",
        "        # If we don't know what steps are in process, we get them.\r\n",
        "        if self.in_process is None:\r\n",
        "            self.in_process = self.scheduler.available_tasks\r\n",
        "        if len(self.in_process) == 0:\r\n",
        "            return None\r\n",
        "        t = random.choice(list(self.in_process))\r\n",
        "        self.in_process = self.in_process - {t} | self.scheduler.mark_completed(t)\r\n",
        "        return t\r\n",
        "\r\n",
        "    @property\r\n",
        "    def done(self):\r\n",
        "        return self.scheduler.done\r\n",
        "\r\n",
        "    def run(self):\r\n",
        "        \"\"\"Runs the scheduler from the current configuration to completion.\r\n",
        "        You must call reset() first, if you want to run the whole schedule.\"\"\"\r\n",
        "        tasks = []\r\n",
        "        while not self.done:\r\n",
        "            t = self.step()\r\n",
        "            if t is not None:\r\n",
        "                tasks.append(t)\r\n",
        "        return tasks\r\n",
        "\r\n"
      ],
      "execution_count": null,
      "outputs": []
    },
    {
      "cell_type": "code",
      "metadata": {
        "colab": {
          "base_uri": "https://localhost:8080/"
        },
        "id": "hOlet-R3F3Qw",
        "outputId": "c8b86e16-e601-40ac-e525-834630bdbac9"
      },
      "source": [
        "\r\n",
        "#We can run our pasta carbonara with this RunSchedule class:\r\n",
        "\r\n",
        "runner = RunSchedule(carbonara)\r\n",
        "runner.reset()\r\n",
        "runner.run()"
      ],
      "execution_count": null,
      "outputs": [
        {
          "output_type": "execute_result",
          "data": {
            "text/plain": [
              "['colander pasta',\n",
              " 'serve',\n",
              " 'put eggs in bowl',\n",
              " 'bring pot of water to a boil',\n",
              " 'cook pancetta',\n",
              " 'put pancetta in pan',\n",
              " 'cook pancetta',\n",
              " 'put pasta in water',\n",
              " 'beat eggs',\n",
              " 'dice onions',\n",
              " 'put oil and butter in pan',\n",
              " 'dice pancetta',\n",
              " 'colander pasta',\n",
              " 'cook pancetta',\n",
              " 'put pancetta in pan',\n",
              " 'serve',\n",
              " 'cook pancetta',\n",
              " 'add salt to water',\n",
              " 'put pasta in water',\n",
              " 'fill pot with water',\n",
              " 'bring pot of water to a boil',\n",
              " 'colander pasta',\n",
              " 'put pasta in water',\n",
              " 'add salt to water',\n",
              " 'put onions in pan']"
            ]
          },
          "metadata": {
            "tags": []
          },
          "execution_count": 164
        }
      ]
    },
    {
      "cell_type": "markdown",
      "metadata": {
        "id": "DPzi1qegGJza"
      },
      "source": [
        "# Question 2: redo for code"
      ]
    },
    {
      "cell_type": "code",
      "metadata": {
        "id": "O4ppjNKLGPv1"
      },
      "source": [
        "### Implementation of `redo`\r\n",
        "def dependency_scheduler_redo(self, t):\r\n",
        "    \"\"\"Mark the task t, and all its successors, as undone.\r\n",
        "    Returns the set of successor tasks of t, with t included.\"\"\"\r\n",
        "    ### YOUR CODE HERE\r\n",
        "    if t in self.completed_tasks:\r\n",
        "        self.completed_tasks.remove(t)\r\n",
        "    if t in self.successors.keys():\r\n",
        "        ss = self.successors[t]\r\n",
        "        if len(ss) > 0:\r\n",
        "            for s in ss:\r\n",
        "                dependency_scheduler_redo(self, s)\r\n",
        "                self.predecessors[s].add(t)\r\n",
        "\r\n",
        "DependencyScheduler.redo = dependency_scheduler_redo"
      ],
      "execution_count": null,
      "outputs": []
    },
    {
      "cell_type": "markdown",
      "metadata": {
        "id": "1BbElnR2GZnh"
      },
      "source": [
        "### YOUR CODE HERE\r\n",
        "\r\n",
        "Let us test the implementation."
      ]
    },
    {
      "cell_type": "code",
      "metadata": {
        "id": "5P6t7VmMF5Rc"
      },
      "source": [
        "### Tests for `redo` for code. 5 points. \r\n",
        "def assert_equal(a,b):\r\n",
        "  assert a==b\r\n",
        "\r\n",
        "s = DependencyScheduler()\r\n",
        "s.add_task('a', [])\r\n",
        "s.add_task('b', ['a'])\r\n",
        "s.add_task('c', ['a'])\r\n",
        "s.add_task('d', ['b', 'c'])\r\n",
        "s.add_task('e', ['a', 'd'])\r\n",
        "\r\n",
        "s.mark_completed('a')\r\n",
        "s.mark_completed('b')\r\n",
        "s.mark_completed('c')\r\n",
        "assert_equal(s.available_tasks, {'d'})\r\n",
        "s.redo('b')\r\n",
        "assert_equal(s.available_tasks, {'b'})"
      ],
      "execution_count": null,
      "outputs": []
    },
    {
      "cell_type": "code",
      "metadata": {
        "id": "y6z3SQjLGicy"
      },
      "source": [
        "# Additional test\r\n",
        "s = DependencyScheduler()\r\n",
        "s.add_task('a', [])\r\n",
        "s.add_task('b', ['a'])\r\n",
        "s.add_task('c', ['a'])\r\n",
        "s.add_task('d', ['b', 'c'])\r\n",
        "s.add_task('e', ['a', 'd'])\r\n",
        "\r\n",
        "s.mark_completed('a')\r\n",
        "s.mark_completed('b')\r\n",
        "s.mark_completed('c')\r\n",
        "s.mark_completed('d')\r\n",
        "s.redo('a')\r\n",
        "assert_equal(s.available_tasks, {'a'})\r\n",
        "\r\n",
        "s = DependencyScheduler()\r\n",
        "s.add_task('a', [])\r\n",
        "s.add_task('b', ['a'])\r\n",
        "s.add_task('c', ['a'])\r\n",
        "s.add_task('d', ['b', 'c'])\r\n",
        "s.add_task('e', ['a', 'd'])\r\n",
        "s.mark_completed('a')\r\n",
        "s.mark_completed('b')\r\n",
        "s.mark_completed('c')\r\n",
        "assert_equal(s.available_tasks, {'d'})\r\n",
        "s.mark_completed('d')\r\n",
        "s.mark_completed('e')\r\n",
        "s.redo('e')\r\n",
        "assert_equal(s.available_tasks, {'e'})\r\n",
        "\r\n",
        "### Hidden tests.  5 points. "
      ],
      "execution_count": null,
      "outputs": []
    },
    {
      "cell_type": "markdown",
      "metadata": {
        "id": "WPoS9XxlHff0"
      },
      "source": [
        "# Next, we implement a runner that has an additional operation redo(t) for a task t."
      ]
    },
    {
      "cell_type": "code",
      "metadata": {
        "id": "LE3OUnAaGbTX"
      },
      "source": [
        "def run_schedule_redo(self, t):\r\n",
        "    \"\"\"Marks t as to be redone.\"\"\"\r\n",
        "    # We drop everything that was in progress.\r\n",
        "    # This also forces us to ask the scheduler for what to redo.\r\n",
        "    self.in_process = None\r\n",
        "    return self.scheduler.redo(t)\r\n",
        "\r\n",
        "RunSchedule.redo = run_schedule_redo"
      ],
      "execution_count": null,
      "outputs": []
    },
    {
      "cell_type": "code",
      "metadata": {
        "colab": {
          "base_uri": "https://localhost:8080/"
        },
        "id": "add2n4hLHkYD",
        "outputId": "b209fd06-ab78-4390-cefe-6a0263b829dc"
      },
      "source": [
        "#We can now play with it.\r\n",
        "\r\n",
        "runner = RunSchedule(carbonara)\r\n",
        "runner.reset()\r\n",
        "for _ in range(10):\r\n",
        "    print(runner.step())\r\n",
        "print(\"---> readd salt\")\r\n",
        "print(\"marking undone:\", runner.redo(\"add salt to water\"))\r\n",
        "print(\"completed:\", runner.scheduler.completed_tasks)\r\n",
        "for _ in range(10):\r\n",
        "    print(runner.step())\r\n",
        "print(\"--->redo dice pancetta\")\r\n",
        "print(\"marking undone:\", runner.redo(\"dice pancetta\"))\r\n",
        "print(\"completed:\", runner.scheduler.completed_tasks)\r\n",
        "for t in runner.run():\r\n",
        "    print(t)"
      ],
      "execution_count": null,
      "outputs": [
        {
          "output_type": "stream",
          "text": [
            "serve\n",
            "put pasta in water\n",
            "dice onions\n",
            "dice pancetta\n",
            "bring pot of water to a boil\n",
            "cook pancetta\n",
            "put oil and butter in pan\n",
            "colander pasta\n",
            "beat eggs\n",
            "fill pot with water\n",
            "---> readd salt\n",
            "marking undone: None\n",
            "completed: {'put oil and butter in pan', 'fill pot with water', 'dice onions', 'cook pancetta', 'beat eggs', 'bring pot of water to a boil', 'dice pancetta'}\n",
            "add salt to water\n",
            "put onions in pan\n",
            "put eggs in bowl\n",
            "put pasta in water\n",
            "colander pasta\n",
            "cook pancetta\n",
            "beat eggs\n",
            "put pancetta in pan\n",
            "serve\n",
            "cook pancetta\n",
            "--->redo dice pancetta\n",
            "marking undone: None\n",
            "completed: {'put oil and butter in pan', 'colander pasta', 'fill pot with water', 'put eggs in bowl', 'dice onions', 'put onions in pan', 'add salt to water', 'beat eggs', 'put pasta in water', 'bring pot of water to a boil'}\n",
            "dice pancetta\n",
            "put pancetta in pan\n",
            "cook pancetta\n",
            "serve\n"
          ],
          "name": "stdout"
        }
      ]
    },
    {
      "cell_type": "markdown",
      "metadata": {
        "id": "VxTyhrQtH4wq"
      },
      "source": [
        "# Question 3: redo for recipes"
      ]
    },
    {
      "cell_type": "code",
      "metadata": {
        "id": "bm1v-rgAHrIw"
      },
      "source": [
        "### Implementation of `cooking_redo`\r\n",
        "\r\n",
        "def dependency_scheduler_cooking_redo(self, v):\r\n",
        "    \"\"\"Indicates that the task v needs to be redone, as something went bad.\r\n",
        "    This is the \"cooking\" version of the redo, in which the redo propagates\r\n",
        "    to both successors (as for code) and predecessors.\"\"\"\r\n",
        "    ### YOUR CODE HERE\r\n",
        "    self.redo(v)\r\n",
        "    def redo_pre(self, x):\r\n",
        "        if x in self.completed_tasks:\r\n",
        "            self.completed_tasks.remove(x)\r\n",
        "        for k in self.successors.keys():\r\n",
        "            if x in self.successors[k]:\r\n",
        "                redo_pre(self, k)\r\n",
        "                self.predecessors[x].add(k)\r\n",
        "\r\n",
        "    redo_pre(self, v)\r\n",
        "\r\n",
        "DependencyScheduler.cooking_redo = dependency_scheduler_cooking_redo\r\n",
        "\r\n",
        "# Here is a place where you can test your code. \r\n",
        "\r\n",
        "### YOUR CODE HERE\r\n"
      ],
      "execution_count": null,
      "outputs": []
    },
    {
      "cell_type": "code",
      "metadata": {
        "id": "vwnunhbOH2MF"
      },
      "source": [
        "### Basic tests for `cooking_redo`. 5 points. \r\n",
        "\r\n",
        "def assert_equal(a, b):\r\n",
        "    assert a == b\r\n",
        "\r\n",
        "s = DependencyScheduler()\r\n",
        "s.add_task('a', [])\r\n",
        "s.add_task('b', [])\r\n",
        "s.add_task('c', ['a', 'b'])\r\n",
        "s.add_task('e', [])\r\n",
        "s.add_task('f', ['e'])\r\n",
        "s.add_task('g', ['f', 'd'])\r\n",
        "s.add_task('d', ['c'])\r\n",
        "\r\n",
        "s.mark_completed('a')\r\n",
        "s.mark_completed('b')\r\n",
        "s.mark_completed('c')\r\n",
        "s.mark_completed('d')\r\n",
        "assert_equal(s.available_tasks, {'e'})\r\n",
        "s.cooking_redo('c')\r\n",
        "# When we redo c, both its successor d, and predecessors a, b have to be redone.\r\n",
        "assert_equal(s.available_tasks, {'a', 'b', 'e'})\r\n",
        "assert_equal(s.completed_tasks, set())\r\n",
        "\r\n",
        "### Hidden tests.  5 points. \r\n"
      ],
      "execution_count": null,
      "outputs": []
    },
    {
      "cell_type": "code",
      "metadata": {
        "id": "Nfz36qEkILEi"
      },
      "source": [
        "### Advanced tests for `cooking_redo`. 5 points.\r\n",
        "\r\n",
        "def assert_equal(a, b):\r\n",
        "    assert a == b\r\n",
        "\r\n",
        "s = DependencyScheduler()\r\n",
        "s.add_task('a', [])\r\n",
        "s.add_task('b', [])\r\n",
        "s.add_task('c', ['a', 'b'])\r\n",
        "s.add_task('d', ['c'])\r\n",
        "s.add_task('e', [])\r\n",
        "s.add_task('f', ['e'])\r\n",
        "s.add_task('g', ['f', 'd'])\r\n",
        "\r\n",
        "s.mark_completed('a')\r\n",
        "s.mark_completed('b')\r\n",
        "s.mark_completed('c')\r\n",
        "s.mark_completed('d')\r\n",
        "s.mark_completed('e')\r\n",
        "assert_equal(s.available_tasks, {'f'})\r\n",
        "s.cooking_redo('c')\r\n",
        "# When we redo c, both its successor d, and predecessors a, b have to be redone.\r\n",
        "assert_equal(s.available_tasks, {'a', 'b', 'f'})\r\n",
        "assert_equal(s.completed_tasks, {'e'})\r\n",
        "\r\n",
        "s = DependencyScheduler()\r\n",
        "s.add_task('mayo', ['lemon juice', 'egg yolks', 'oil'])\r\n",
        "s.add_task('marinated shrimp', ['shrimp', 'lemon juice'])\r\n",
        "s.add_task('crevettes', ['marinated shrimp', 'mayo'])\r\n",
        "s.mark_completed('lemon juice')\r\n",
        "s.mark_completed('egg yolks')\r\n",
        "s.mark_completed('oil')\r\n",
        "s.mark_completed('shrimp')\r\n",
        "s.mark_completed('marinated shrimp')\r\n",
        "s.mark_completed('mayo')\r\n",
        "assert s.available_tasks == {'crevettes'}\r\n",
        "s.cooking_redo('egg yolks')\r\n",
        "assert 'mayo' not in s.completed_tasks\r\n",
        "assert 'marinated shrimp' in s.completed_tasks\r\n",
        "assert 'egg yolks' not in s.completed_tasks\r\n",
        "\r\n",
        "### Hidden tests. 5 points."
      ],
      "execution_count": null,
      "outputs": []
    },
    {
      "cell_type": "markdown",
      "metadata": {
        "id": "zpONCUWaIa7M"
      },
      "source": [
        "# Question 4: Implement And-Or Schedules\r\n",
        "In the schedules we have seen so far, the dependencies are in and one with the other: if a task  a  depends on  b,c , then both  b  and  c  need to be completed before  a  can be started. It is possible to consider also cases where dependencies are in an _or relation: if  a  depends on  b,c  in an or way, then it suffices to complete one of  b  or  c  before starting  a . For instance, in our Carbonara Pasta example, it is possible (even though not necessarily advisable) to use shallots in place of onions. In that case,instead of carbonara.add_task('put onions in pan', ['dice onions'])\r\n",
        "we could have:\r\n",
        "\r\n",
        "carbonara.add_or_task('put onions in pan', ['dice onions', 'dice shallots'])\r\n",
        "so that before putting the (now generally named) onions in a pan, we could choose to dice either shallots or onions.\r\n",
        "\r\n",
        "Formally, the idea is to endow the Scheduler class with two methods:\r\n",
        "\r\n",
        "add_and_task(self, t, dependencies) adds a task t with list of dependencies dependencies, so that t can be done when all of the dependencies are done. The task t is called an AND node in the dependency graph.\r\n",
        "\r\n",
        "add_or_task(self, t, dependencies) adds a task t with list of dependencies dependencies, so that t can be done when at least one of the dependencies is done. The task t is called an OR node in the dependency graph.\r\n",
        "\r\n",
        "You need to find a way to remember which dependency graph nodes are AND or OR nodes, and you need to implement the properties done, available_tasks, uncompleted, and the method mark_completed, to make this class work. Implementing the show method is optional; do it if it helps you debug your code.\r\n"
      ]
    },
    {
      "cell_type": "code",
      "metadata": {
        "id": "LCqTAtX5IRke"
      },
      "source": [
        "### `AND_OR_Scheduler` implementation\r\n",
        "class AND_OR_Scheduler(object):\r\n",
        "\r\n",
        "    def __init__(self):\r\n",
        "        # It is up to you to implement the initialization.\r\n",
        "        ### YOUR CODE HERE\r\n",
        "        self.tasks = set()\r\n",
        "        # The successors of a task are the tasks that depend on it, and can\r\n",
        "        # only be done once the task is completed.\r\n",
        "        self.successors = defaultdict(set)\r\n",
        "        # The predecessors of a task have to be done before the task.\r\n",
        "        self.predecessors = defaultdict(set)\r\n",
        "        self.completed_tasks = set() # completed tasks\r\n",
        "        self.types=defaultdict(set) #mark the task's type：OR or AND\r\n",
        "        self.AND={'AND'}\r\n",
        "        self.OR={'OR'}\r\n",
        "\r\n",
        "    def add_and_task(self, t, dependencies):\r\n",
        "        assert t not in self.tasks or len(self.predecessors[t]) == 0, \"The task was already present.\"\r\n",
        "        self.tasks.add(t)\r\n",
        "        self.tasks.update(dependencies)\r\n",
        "        # The predecessors are the tasks that need to be done before.\r\n",
        "        self.predecessors[t] = set(dependencies)\r\n",
        "        #remeber the type of t\r\n",
        "        self.types[t] = set([\"AND\"])\r\n",
        "        # The new task is a successor of its dependencies.\r\n",
        "        for u in dependencies:\r\n",
        "            self.successors[u].add(t)\r\n",
        "\r\n",
        "    def add_or_task(self, t, dependencies):\r\n",
        "        \"\"\"Adds an OR task t with given dependencies.\"\"\"\r\n",
        "        ### YOUR CODE HERE\r\n",
        "        assert t not in self.tasks or len(self.predecessors[t]) == 0, \"The task was already present.\"\r\n",
        "        self.tasks.add(t)\r\n",
        "        self.tasks.update(dependencies)\r\n",
        "        # The predecessors are the tasks that need to be done before.\r\n",
        "        self.predecessors[t] = set(dependencies)\r\n",
        "        #remeber the type of t\r\n",
        "        self.types[t] = set([\"OR\"])\r\n",
        "        # The new task is a successor of its dependencies.\r\n",
        "        for u in dependencies:\r\n",
        "            self.successors[u].add(t)\r\n",
        "\r\n",
        "    @property\r\n",
        "    def done(self):\r\n",
        "        ### YOUR CODE HERE\r\n",
        "        return self.completed_tasks == self.tasks\r\n",
        "\r\n",
        "\r\n",
        "    @property\r\n",
        "    def available_tasks(self):\r\n",
        "        \"\"\"Returns the set of tasks that can be done in parallel.\r\n",
        "        A task can be done if:\r\n",
        "        - It is an AND task, and all its predecessors have been completed, or\r\n",
        "        - It is an OR task, and at least one of its predecessors has been completed.\r\n",
        "        And of course, we don't return any task that has already been\r\n",
        "        completed.\"\"\"\r\n",
        "        ### YOUR CODE HERE\r\n",
        "        av_tasks=set()\r\n",
        "        for t in self.tasks:\r\n",
        "          if t in self.completed_tasks:continue\r\n",
        "          type_t=self.types[t]\r\n",
        "          if type_t==self.AND:\r\n",
        "            p_completed=True\r\n",
        "            for p in self.predecessors[t]:\r\n",
        "              if p in self.completed_tasks:\r\n",
        "                p_completed= p_completed & True\r\n",
        "              else:\r\n",
        "                p_completed= p_completed & False\r\n",
        "            if p_completed==True:\r\n",
        "              av_tasks.add(t)\r\n",
        "            \r\n",
        "          elif type_t==self.OR:\r\n",
        "            for p in self.predecessors[t]:\r\n",
        "              if p in self.completed_tasks:\r\n",
        "                av_tasks.add(t)\r\n",
        "          else:\r\n",
        "            av_tasks.add(t)\r\n",
        "            \r\n",
        "        av_tasks=av_tasks-self.completed_tasks\r\n",
        "        return av_tasks\r\n",
        "\r\n",
        "    @property\r\n",
        "    def uncompleted(self):\r\n",
        "        \"\"\"Returns the tasks that have not been completed.\r\n",
        "        This is a property, so you can say scheduler.uncompleted rather than\r\n",
        "        scheduler.uncompleted()\"\"\"\r\n",
        "        return self.tasks - self.completed_tasks\r\n",
        "\r\n",
        "\r\n",
        "    def mark_completed(self, t):\r\n",
        "        \"\"\"Marks the task t as completed, and returns the additional\r\n",
        "        set of tasks that can be done (and that could not be\r\n",
        "        previously done) once t is completed.\"\"\"\r\n",
        "        ### YOUR CODE HERE\r\n",
        "        self.completed_tasks.add(t)\r\n",
        "        candone_tasks=set()\r\n",
        "        successors = self.successors[t]\r\n",
        "        for s in successors:\r\n",
        "          if len(self.predecessors[s]) == 0:\r\n",
        "            candone_tasks.add(s)\r\n",
        "          else:\r\n",
        "            canFlag=False\r\n",
        "            if self.types[s]==self.AND:\r\n",
        "                # all must be completed\r\n",
        "                f=True\r\n",
        "                for sp in self.predecessors[s]:\r\n",
        "                  if sp in self.completed_tasks:\r\n",
        "                    f=f & True\r\n",
        "                  else:\r\n",
        "                    f=f & False \r\n",
        "                    \r\n",
        "                canFlag=f\r\n",
        "            elif self.types[s]==self.OR:\r\n",
        "                # only one must be completed\r\n",
        "                for sp in self.predecessors[s]:\r\n",
        "                  if sp in self.completed_tasks:\r\n",
        "                    canFlag=True\r\n",
        "                    break\r\n",
        "            else:\r\n",
        "                canFlag=True\r\n",
        "            if canFlag:\r\n",
        "               candone_tasks.add(s)       \r\n",
        "        return candone_tasks-self.completed_tasks\r\n",
        "\r\n",
        "    def show(self):\r\n",
        "        \"\"\"You can use the nx graph to display the graph.  You may want to ensure\r\n",
        "        that you display AND and OR nodes differently.\"\"\"\r\n",
        "        ### YOUR CODE HERE\r\n",
        "        g = nx.DiGraph()\r\n",
        "        g.add_nodes_from(self.tasks)\r\n",
        "        g.add_edges_from([(u, v) for u in self.tasks for v in self.successors[u]])\r\n",
        "        node_colors = ''.join([('g' if v in self.completed_tasks else 'r')\r\n",
        "                           for v in self.tasks])\r\n",
        "        edge_colors = ''.join([('g' if self.types[v]==self.AND else 'r')\r\n",
        "                           for v in self.types])\r\n",
        "        \r\n",
        "        nx.draw(g, with_labels=True, node_color=node_colors,edge_color=edge_colors)\r\n",
        "        plt.show()\r\n",
        "\r\n",
        "\r\n",
        "# Here is a place where you can test your code. \r\n",
        "\r\n",
        "### YOUR CODE HERE"
      ],
      "execution_count": null,
      "outputs": []
    },
    {
      "cell_type": "markdown",
      "metadata": {
        "id": "9X0L4fuiI7pf"
      },
      "source": [
        "# Let us do some simple tests. First, for good old AND nodes."
      ]
    },
    {
      "cell_type": "code",
      "metadata": {
        "colab": {
          "base_uri": "https://localhost:8080/",
          "height": 373
        },
        "id": "3JF1RTcSIk6u",
        "outputId": "3844cdba-4d74-4ace-9eef-221c565f96e2"
      },
      "source": [
        "### Simple tests for AND nodes. 4 points. \r\n",
        "def assert_equal(a, b):\r\n",
        "  assert a == b\r\n",
        "\r\n",
        "s = AND_OR_Scheduler()\r\n",
        "s.add_and_task('a', ['b', 'c'])\r\n",
        "# s.add_or_task('b', ['d', 'e'])\r\n",
        "s.show()\r\n",
        "\r\n",
        "assert_equal(s.available_tasks, {'b', 'c'})\r\n",
        "r = s.mark_completed('b')\r\n",
        "assert_equal(r, set())\r\n",
        "assert_equal(s.available_tasks, {'c'})\r\n",
        "r = s.mark_completed('c')\r\n",
        "assert_equal(r, {'a'})\r\n",
        "assert_equal(s.available_tasks, {'a'})\r\n",
        "r = s.mark_completed('a')\r\n",
        "assert_equal(r, set())\r\n",
        "assert_equal(s.available_tasks, set())\r\n",
        "\r\n",
        "### Hidden tests.  6 points. \r\n"
      ],
      "execution_count": null,
      "outputs": [
        {
          "output_type": "stream",
          "text": [
            "/usr/local/lib/python3.7/dist-packages/networkx/drawing/nx_pylab.py:478: MatplotlibDeprecationWarning: Using a string of single character colors as a color sequence is deprecated. Use an explicit list instead.\n",
            "  label=label,\n"
          ],
          "name": "stderr"
        },
        {
          "output_type": "display_data",
          "data": {
            "image/png": "[encoded data removed]",
            "text/plain": [
              "<Figure size 432x288 with 1 Axes>"
            ]
          },
          "metadata": {
            "tags": []
          }
        }
      ]
    },
    {
      "cell_type": "markdown",
      "metadata": {
        "id": "7q3Cki1OJDWD"
      },
      "source": [
        "# Then, some simple tests for OR nodes."
      ]
    },
    {
      "cell_type": "code",
      "metadata": {
        "colab": {
          "base_uri": "https://localhost:8080/"
        },
        "id": "A6wd5HCXI8mU",
        "outputId": "06f0be82-69f0-40b6-9db0-4d49a5ffd813"
      },
      "source": [
        "### Simple tests for OR nodes. 4 points. \r\n",
        "\r\n",
        "def assert_equal(a, b):\r\n",
        "    assert a == b\r\n",
        "\r\n",
        "s = AND_OR_Scheduler()\r\n",
        "s.add_or_task('a', ['b', 'c'])\r\n",
        "assert_equal(s.available_tasks, {'b', 'c'})\r\n",
        "r = s.mark_completed('b')\r\n",
        "# Now 'a' becomes available.\r\n",
        "assert_equal(r, {'a'})\r\n",
        "# But note that 'c' is also available, even if useless.\r\n",
        "assert_equal(s.available_tasks, {'a', 'c'})\r\n",
        "r = s.mark_completed('a')\r\n",
        "assert_equal(r, set())\r\n",
        "print(s.available_tasks)\r\n",
        "assert_equal(s.available_tasks, {'c'})\r\n",
        "r = s.mark_completed('c')\r\n",
        "print(r)\r\n",
        "assert_equal(r, set())\r\n",
        "assert_equal(s.available_tasks, set())\r\n",
        "\r\n",
        "### Hidden tests.  6 points. \r\n"
      ],
      "execution_count": null,
      "outputs": [
        {
          "output_type": "stream",
          "text": [
            "{'c'}\n",
            "set()\n"
          ],
          "name": "stdout"
        }
      ]
    },
    {
      "cell_type": "markdown",
      "metadata": {
        "id": "gRlld6ceJKvt"
      },
      "source": [
        "Note that a drawback of this simple solution, as illustrated by the above test case, is that we do not distinguish between the tasks that are useful to do the root task, and the tasks that are useless, that is, not part of a minimal solution. We simply call them available, as they can be done, even though there is no advantage in doing them."
      ]
    },
    {
      "cell_type": "code",
      "metadata": {
        "colab": {
          "base_uri": "https://localhost:8080/",
          "height": 423
        },
        "id": "e0w9_NO3JNCD",
        "outputId": "a9c7f7a2-acee-4dd6-e4a2-8f21173f6f9e"
      },
      "source": [
        "### Tests with both AND and OR nodes. 5 points. \r\n",
        "def assert_equal(a, b):\r\n",
        "    assert a == b\r\n",
        "    \r\n",
        "s = AND_OR_Scheduler()\r\n",
        "s.add_and_task('a', ['b', 'c'])\r\n",
        "s.add_or_task('b', ['b1', 'b2'])\r\n",
        "s.add_or_task('c', ['c1', 'c2'])\r\n",
        "r = s.mark_completed('b1')\r\n",
        "assert_equal(s.available_tasks, {'b', 'b2', 'c1', 'c2'})\r\n",
        "r = s.mark_completed('b')\r\n",
        "assert 'a' not in s.available_tasks\r\n",
        "r = s.mark_completed('c1')\r\n",
        "assert 'a' not in s.available_tasks\r\n",
        "r = s.mark_completed('c')\r\n",
        "assert 'a' in s.available_tasks\r\n",
        "\r\n",
        "s = AND_OR_Scheduler()\r\n",
        "s.add_or_task('a', ['b', 'c'])\r\n",
        "s.add_and_task('b', ['b1', 'b2'])\r\n",
        "s.add_and_task('c', ['c1', 'c2'])\r\n",
        "r = s.mark_completed('b1')\r\n",
        "assert_equal(s.available_tasks, {'b2', 'c1', 'c2'})\r\n",
        "r = s.mark_completed('c1')\r\n",
        "assert_equal(s.available_tasks, {'b2', 'c2'})\r\n",
        "r = s.mark_completed('c2')\r\n",
        "assert_equal(s.available_tasks, {'b2', 'c'})\r\n",
        "r = s.mark_completed('c')\r\n",
        "assert 'a' in s.available_tasks\r\n",
        "s.show()\r\n",
        "print(s.predecessors)\r\n",
        "\r\n",
        "\r\n",
        "### Hidden tests.  5 points. \r\n"
      ],
      "execution_count": null,
      "outputs": [
        {
          "output_type": "stream",
          "text": [
            "/usr/local/lib/python3.7/dist-packages/networkx/drawing/nx_pylab.py:478: MatplotlibDeprecationWarning: Using a string of single character colors as a color sequence is deprecated. Use an explicit list instead.\n",
            "  label=label,\n",
            "/usr/local/lib/python3.7/dist-packages/networkx/drawing/nx_pylab.py:714: MatplotlibDeprecationWarning: Using a string of single character colors as a color sequence is deprecated. Use an explicit list instead.\n",
            "  arrow_colors = colorConverter.to_rgba_array(edge_color, alpha)\n"
          ],
          "name": "stderr"
        },
        {
          "output_type": "display_data",
          "data": {
            "image/png": "[encoded data removed]",
            "text/plain": [
              "<Figure size 432x288 with 1 Axes>"
            ]
          },
          "metadata": {
            "tags": []
          }
        },
        {
          "output_type": "stream",
          "text": [
            "defaultdict(<class 'set'>, {'a': {'c', 'b'}, 'b': {'b1', 'b2'}, 'c': {'c1', 'c2'}})\n"
          ],
          "name": "stdout"
        }
      ]
    },
    {
      "cell_type": "code",
      "metadata": {
        "id": "BycMEoIbuxVY"
      },
      "source": [
        ""
      ],
      "execution_count": null,
      "outputs": []
    }
  ]
}